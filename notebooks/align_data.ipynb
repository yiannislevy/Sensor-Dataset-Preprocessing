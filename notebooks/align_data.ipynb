{
 "cells": [
  {
   "cell_type": "code",
   "execution_count": null,
   "id": "initial_id",
   "metadata": {
    "collapsed": true
   },
   "outputs": [],
   "source": [
    "%matplotlib notebook\n",
    "import os\n",
    "import pandas as pd\n",
    "import numpy as np\n",
    "import matplotlib.pyplot as plt\n",
    "import matplotlib.dates as mdates\n",
    "from datetime import datetime, timedelta\n",
    "import json\n",
    "import plotly.graph_objects as go\n",
    "from plotly.subplots import make_subplots\n",
    "import re\n",
    "from src.main.imu_data_io import *\n",
    "from src.main.mando_data_io import *\n",
    "from src.main.mando_preprocessing import *"
   ]
  },
  {
   "cell_type": "code",
   "execution_count": null,
   "id": "ff1da4759a3ffbe2",
   "metadata": {},
   "outputs": [],
   "source": [
    "def plot(imu_data, mandometer_data):\n",
    "    # Extract IMU data components\n",
    "    imu_x = imu_data['x']\n",
    "    imu_y = imu_data['y']\n",
    "    imu_z = imu_data['z']\n",
    "    imu_time = imu_data['time']\n",
    "\n",
    "    # Create subplots: 4 rows, 1 column\n",
    "    fig = make_subplots(rows=4, cols=1, shared_xaxes=True)\n",
    "\n",
    "    # IMU X-axis data plot\n",
    "    fig.add_trace(go.Scatter(x=imu_time, y=imu_x, mode='lines', name='IMU X', line=dict(color='blue')), row=1, col=1)\n",
    "    fig.update_yaxes(title_text='IMU X', row=1, col=1)\n",
    "\n",
    "    # IMU Y-axis data plot\n",
    "    fig.add_trace(go.Scatter(x=imu_time, y=imu_y, mode='lines', name='IMU Y', line=dict(color='red')), row=2, col=1)\n",
    "    fig.update_yaxes(title_text='IMU Y', row=2, col=1)\n",
    "\n",
    "    # IMU Z-axis data plot\n",
    "    fig.add_trace(go.Scatter(x=imu_time, y=imu_z, mode='lines', name='IMU Z', line=dict(color='green')), row=3, col=1)\n",
    "    fig.update_yaxes(title_text='IMU Z', row=3, col=1)\n",
    "\n",
    "    # Mandometer data plot\n",
    "    fig.add_trace(go.Scatter(y=mandometer_data, mode='lines', name='Mandometer Data', line=dict(color='purple')), row=4, col=1)\n",
    "    fig.update_xaxes(title_text='Sample Number', row=4, col=1)\n",
    "    fig.update_yaxes(title_text='Weight (grams)', row=4, col=1)\n",
    "\n",
    "    # Update titles and layout\n",
    "    fig.update_layout(height=800, width=1000, title_text='IMU and Mandometer Data', template='plotly_white')\n",
    "\n",
    "    fig.show()\n"
   ]
  },
  {
   "cell_type": "code",
   "execution_count": null,
   "id": "5b1982d99c2b83ab",
   "metadata": {},
   "outputs": [],
   "source": [
    "path = \"../data/raw/19\"\n",
    "mando_data = load_raw_mando_data(path)\n",
    "acc_data, gyro_data = load_raw_sensor_data(path)"
   ]
  },
  {
   "cell_type": "code",
   "execution_count": null,
   "id": "fd0407ba024bc37a",
   "metadata": {},
   "outputs": [],
   "source": [
    "plot(acc_data, mando_data)"
   ]
  },
  {
   "cell_type": "code",
   "execution_count": null,
   "id": "8231de4213d3f7fd",
   "metadata": {},
   "outputs": [],
   "source": [
    "# IMU actual clap time\n",
    "imu_clap_time_str = '15:36:41.3018'  # hh:mm:ss.ms format\n",
    "imu_clap_time = datetime.strptime(imu_clap_time_str, '%H:%M:%S.%f')\n",
    "\n",
    "# Video actual clap time\n",
    "video_clap_time_str = '16:37:14.1500'  # hh:mm:ss.ms format\n",
    "video_clap_time = datetime.strptime(video_clap_time_str, '%H:%M:%S.%f')\n",
    "\n",
    "# Calculate dt (time difference)\n",
    "dt = video_clap_time - imu_clap_time\n",
    "\n",
    "# Output dt\n",
    "print(\"Time Difference (dt):\", dt)\n"
   ]
  },
  {
   "cell_type": "code",
   "execution_count": null,
   "id": "d37db4da2149a6bd",
   "metadata": {},
   "outputs": [],
   "source": [
    "# from scipy.io import wavfile\n",
    "# path = \"/path/to/file.wav\"\n",
    "# # Load the audio file\n",
    "# samplerate, data = wavfile.read(path)\n",
    "# \n",
    "# # Plotting the waveform\n",
    "# times = np.arange(len(data)) / float(samplerate)\n",
    "# \n",
    "# plt.figure(figsize=(15, 5))\n",
    "# plt.fill_between(times, data, color='skyblue')\n",
    "# plt.xlim(times[0], times[-1])\n",
    "# plt.xlabel('Time (s)')\n",
    "# plt.ylabel('Amplitude')\n",
    "# plt.title('Waveform of Audio')\n",
    "# plt.show()\n"
   ]
  },
  {
   "cell_type": "code",
   "execution_count": null,
   "id": "7e5922f19ba1f88a",
   "metadata": {},
   "outputs": [],
   "source": []
  }
 ],
 "metadata": {
  "kernelspec": {
   "display_name": "Python 3 (ipykernel)",
   "language": "python",
   "name": "python3"
  },
  "language_info": {
   "codemirror_mode": {
    "name": "ipython",
    "version": 3
   },
   "file_extension": ".py",
   "mimetype": "text/x-python",
   "name": "python",
   "nbconvert_exporter": "python",
   "pygments_lexer": "ipython3",
   "version": "3.11.0"
  }
 },
 "nbformat": 4,
 "nbformat_minor": 5
}
