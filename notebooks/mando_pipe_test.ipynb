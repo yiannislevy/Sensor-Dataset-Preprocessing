{
 "cells": [
  {
   "cell_type": "code",
   "execution_count": 135,
   "id": "initial_id",
   "metadata": {
    "ExecuteTime": {
     "end_time": "2023-11-14T14:52:15.632709Z",
     "start_time": "2023-11-14T14:52:15.577477Z"
    }
   },
   "outputs": [],
   "source": [
    "%matplotlib notebook\n",
    "from src.main.mando_preprocessing import *\n",
    "import numpy as np\n",
    "import matplotlib.pyplot as plt\n",
    "import os\n",
    "import json\n",
    "import plotly.graph_objs as go\n",
    "from plotly.subplots import make_subplots\n",
    "import re"
   ]
  },
  {
   "cell_type": "code",
   "execution_count": 136,
   "id": "9f693cadaea4a1ae",
   "metadata": {
    "ExecuteTime": {
     "end_time": "2023-11-14T14:52:15.657199Z",
     "start_time": "2023-11-14T14:52:15.580951Z"
    }
   },
   "outputs": [],
   "source": [
    "# Path to the raw data file"
   ]
  },
  {
   "cell_type": "code",
   "execution_count": 137,
   "id": "6f32df3187369b56",
   "metadata": {
    "ExecuteTime": {
     "end_time": "2023-11-14T14:52:15.703264Z",
     "start_time": "2023-11-14T14:52:15.586203Z"
    }
   },
   "outputs": [],
   "source": [
    "def load_data(path):\n",
    "    # Find the weight file in the directory\n",
    "    files = [f for f in os.listdir(path) if f.startswith('weights_') and f.endswith('.txt')]\n",
    "    if not files:\n",
    "        raise ValueError(f\"No weight files found in directory: {path}\")\n",
    "    # We assume there's only one file matching the pattern, hence we take the first one\n",
    "    file_path = os.path.join(path, files[0])\n",
    "    # Load the data using pandas\n",
    "    weights = pd.read_csv(file_path, header=None, names=['weight'])\n",
    "#     weights = weights[45:] # for 7,10,14,15,16 ->50,20,23,25,45\n",
    "    return weights['weight']"
   ]
  },
  {
   "cell_type": "code",
   "execution_count": 138,
   "id": "a74a426cf659acfc",
   "metadata": {
    "ExecuteTime": {
     "end_time": "2023-11-14T14:52:15.726171Z",
     "start_time": "2023-11-14T14:52:15.588094Z"
    }
   },
   "outputs": [],
   "source": [
    "def moving_average(data, window_size):\n",
    "    \"\"\"Calculate the moving average of the given data using a window of specified size.\"\"\"\n",
    "    cumsum_vec = np.cumsum(np.insert(data, 0, 0)) \n",
    "    return (cumsum_vec[window_size:] - cumsum_vec[:-window_size]) / window_size"
   ]
  },
  {
   "cell_type": "code",
   "execution_count": 139,
   "id": "b1925fdc16710aa6",
   "metadata": {
    "ExecuteTime": {
     "end_time": "2023-11-14T14:52:15.728022Z",
     "start_time": "2023-11-14T14:52:15.591486Z"
    }
   },
   "outputs": [],
   "source": [
    "def create_decreasing_curve(data):\n",
    "    \"\"\"Ensure that the data only decreases or stays constant over time to represent only food consumption.\"\"\"\n",
    "    decreased_data = np.copy(data)\n",
    "    for i in range(1, len(decreased_data)):\n",
    "        if decreased_data[i] > decreased_data[i - 1]:\n",
    "            decreased_data[i] = decreased_data[i - 1]\n",
    "    return decreased_data"
   ]
  },
  {
   "cell_type": "code",
   "execution_count": 140,
   "outputs": [],
   "source": [
    "def process_meal_data(raw_data):\n",
    "    processed_data = []\n",
    "    last_valid_weight = raw_data[0]  # Initialize with the first measurement\n",
    "\n",
    "    for i in range(len(raw_data)):\n",
    "        if i < len(raw_data) - 1:  # Check if not at the last element\n",
    "            current_weight = raw_data[i]\n",
    "            next_weight = raw_data[i + 1]\n",
    "\n",
    "            # Check for a valid decrease\n",
    "            if last_valid_weight - current_weight <= 80 and \\\n",
    "               abs(next_weight - current_weight) <= 3:\n",
    "                last_valid_weight = current_weight\n",
    "\n",
    "        processed_data.append(last_valid_weight)\n",
    "\n",
    "    return processed_data"
   ],
   "metadata": {
    "collapsed": false,
    "ExecuteTime": {
     "end_time": "2023-11-14T14:52:15.728820Z",
     "start_time": "2023-11-14T14:52:15.594677Z"
    }
   },
   "id": "e885b6086321084a"
  },
  {
   "cell_type": "code",
   "execution_count": 156,
   "outputs": [],
   "source": [
    "def process_meal_data_2(data, stability_range=3, max_decrease=70):\n",
    "    \"\"\"\n",
    "    Process the meal weight data to ensure decreases are within specified limits and stable.\n",
    "\n",
    "    Parameters:\n",
    "    data (list or np.array): The raw meal weight data.\n",
    "    stability_range (int): The allowed fluctuation range for considering a decrease as stable (default 3 grams).\n",
    "    max_decrease (int): Maximum allowed decrease in weight between two consecutive measurements (default 40 grams).\n",
    "\n",
    "    Returns:\n",
    "    np.array: The processed meal weight data with filtered decreases.\n",
    "    \"\"\"\n",
    "    if len(data) < 2:\n",
    "        return np.array(data)  # Not enough data to process\n",
    "\n",
    "    processed_data = np.copy(data)\n",
    "    for i in range(1, len(data)):\n",
    "        current_decrease = processed_data[i - 1] - processed_data[i]\n",
    "\n",
    "        # Check if decrease is more than the maximum allowed\n",
    "        if current_decrease > max_decrease:\n",
    "            processed_data[i] = processed_data[i - 1]\n",
    "        else:\n",
    "            # Check for stability in the next measurement (if exists)\n",
    "            if i < len(data) - 1:\n",
    "                next_decrease = processed_data[i] - data[i + 1]\n",
    "                if abs(next_decrease) > stability_range:\n",
    "                    processed_data[i] = processed_data[i - 1]\n",
    "\n",
    "    return processed_data"
   ],
   "metadata": {
    "collapsed": false,
    "ExecuteTime": {
     "end_time": "2023-11-14T15:01:03.134661Z",
     "start_time": "2023-11-14T15:01:03.122592Z"
    }
   },
   "id": "667c9c559a65c0dd"
  },
  {
   "cell_type": "markdown",
   "id": "dee336f6df8eed71",
   "metadata": {},
   "source": []
  },
  {
   "cell_type": "code",
   "execution_count": 141,
   "id": "812474b0db577fb9",
   "metadata": {
    "ExecuteTime": {
     "end_time": "2023-11-14T14:52:15.729331Z",
     "start_time": "2023-11-14T14:52:15.598173Z"
    }
   },
   "outputs": [],
   "source": [
    "def plot(raw_data, decreasing_data):\n",
    "    \"\"\"\n",
    "    Plot the raw, smoothed, and decreasing step-like weight data in separate subplots sharing the x-axis.\n",
    "\n",
    "    Parameters:\n",
    "    - raw_data (np.ndarray): The raw weight data array.\n",
    "    - smoothed_data (np.ndarray): The smoothed weight data array.\n",
    "    - decreasing_data (np.ndarray): The decreasing step-like weight data array.\n",
    "    \"\"\"\n",
    "    fig, axs = plt.subplots(2, 1, figsize=(15, 10), sharex=True)\n",
    "    \n",
    "    # Raw data plot\n",
    "    axs[0].plot(raw_data, label='Raw Data', alpha=0.5, color='green')\n",
    "    axs[0].set_title('Raw Weight Data')\n",
    "    axs[0].set_ylabel('Weight (grams)')\n",
    "    axs[0].legend()\n",
    "\n",
    "    # # Smoothed data plot\n",
    "    # axs[1].plot(smoothed_data, label='Smoothed Data', color='orange')\n",
    "    # axs[1].set_title('Smoothed Weight Data')\n",
    "    # axs[1].set_ylabel('Weight (grams)')\n",
    "    # axs[1].legend()\n",
    "\n",
    "    # Decreasing step-like data plot\n",
    "    axs[1].plot(decreasing_data, label='Decreasing Step-like Data', color='red')\n",
    "    axs[1].set_title('Decreasing Step-like Weight Data')\n",
    "    axs[1].set_xlabel('Time (arbitrary units)')\n",
    "    axs[1].set_ylabel('Weight (grams)')\n",
    "    axs[1].legend()\n",
    "    \n",
    "    plt.tight_layout()  # Adjust layout to prevent overlap\n",
    "    plt.show()\n"
   ]
  },
  {
   "cell_type": "code",
   "execution_count": 142,
   "outputs": [],
   "source": [
    "def plot_ly(data):\n",
    "    fig = make_subplots(rows=2, cols=1, shared_xaxes=True)\n",
    "\n",
    "    # Raw data plot\n",
    "    fig.add_trace(go.Scatter(y=data, mode='lines', name='Raw Data', opacity=0.5, line=dict(color='green')), row=1, col=1)\n",
    "\n",
    "    # Update yaxis properties\n",
    "    fig.update_yaxes(title_text='Weight (grams)', row=1, col=1)\n",
    "\n",
    "    # Update titles with light mode theme color    \n",
    "    fig.update_layout(height=700, width=1000, title_text='Raw Weight Data', template='plotly_white')\n",
    "\n",
    "    fig.show()"
   ],
   "metadata": {
    "collapsed": false,
    "ExecuteTime": {
     "end_time": "2023-11-14T14:52:15.729759Z",
     "start_time": "2023-11-14T14:52:15.604861Z"
    }
   },
   "id": "204dac7017dc01e0"
  },
  {
   "cell_type": "code",
   "execution_count": 143,
   "id": "738a061597f9c8f2",
   "metadata": {
    "ExecuteTime": {
     "end_time": "2023-11-14T14:52:15.730166Z",
     "start_time": "2023-11-14T14:52:15.608257Z"
    }
   },
   "outputs": [],
   "source": [
    "def calculate_bite_sizes(decreasing_data, threshold=4):\n",
    "    \"\"\"\n",
    "    Calculate the number of bites and the weight of each bite from the decreasing step-like weight data,\n",
    "    considering only those bites where the weight decrease is greater than a specified threshold.\n",
    "\n",
    "    Parameters:\n",
    "    - decreasing_data (np.ndarray): The decreasing step-like weight data array.\n",
    "    - threshold (int): The minimum weight decrease to qualify as a bite.\n",
    "\n",
    "    Returns:\n",
    "    - int: The number of bites.\n",
    "    - list: The list of weights for each qualified bite.\n",
    "    \"\"\"\n",
    "    bite_sizes = []\n",
    "    for i in range(1, len(decreasing_data)):\n",
    "        if decreasing_data[i] < decreasing_data[i - 1]:\n",
    "            bite_size = decreasing_data[i - 1] - decreasing_data[i]\n",
    "            if bite_size >= threshold:\n",
    "                bite_sizes.append(bite_size)\n",
    "    \n",
    "    number_of_bites = len(bite_sizes)\n",
    "    return number_of_bites, bite_sizes\n",
    "\n",
    "# You would then call this function as before in the main function.\n"
   ]
  },
  {
   "cell_type": "code",
   "execution_count": 144,
   "id": "813a7454e08bf71e",
   "metadata": {
    "ExecuteTime": {
     "end_time": "2023-11-14T14:52:15.730798Z",
     "start_time": "2023-11-14T14:52:15.611562Z"
    }
   },
   "outputs": [],
   "source": [
    "from scipy.signal import find_peaks, savgol_filter\n",
    "\n",
    "def calculate_bite_sizes_advanced(decreasing_data, threshold=4, window_length=21, polyorder=3):\n",
    "    \"\"\"\n",
    "    Advanced calculation of the number of bites and the weight of each bite using signal processing\n",
    "    techniques to detect the local minima in the smoothed signal.\n",
    "\n",
    "    Parameters:\n",
    "    - decreasing_data (np.ndarray): The decreasing step-like weight data array.\n",
    "    - threshold (int): The minimum weight decrease to qualify as a bite.\n",
    "    - window_length (int): The length of the filter window (number of coefficients). Must be a positive odd integer.\n",
    "    - polyorder (int): The order of the polynomial used to fit the samples. Must be less than `window_length`.\n",
    "\n",
    "    Returns:\n",
    "    - int: The number of bites.\n",
    "    - list: The list of weights for each qualified bite.\n",
    "    \"\"\"\n",
    "    # Apply a Savitzky-Golay filter to the data to smooth it while preserving peaks\n",
    "    smoothed_data = savgol_filter(decreasing_data, window_length=window_length, polyorder=polyorder, mode='interp')\n",
    "\n",
    "    # Compute the first derivative of the smoothed data\n",
    "    derivative = np.diff(smoothed_data, n=1)\n",
    "    \n",
    "    # Find peaks (local minima) in the negative derivative (which correspond to bites in the original data)\n",
    "    peaks, _ = find_peaks(-derivative, height=-threshold)\n",
    "\n",
    "    # Calculate bite sizes based on the peaks detected\n",
    "    bite_sizes = np.diff(peaks, prepend=0)\n",
    "    \n",
    "    # Filter out the consecutive bites that are too close to each other, if necessary\n",
    "    # This step is optional and can be customized based on domain knowledge\n",
    "    \n",
    "    number_of_bites = len(bite_sizes)\n",
    "    return number_of_bites, bite_sizes.tolist()\n",
    "\n",
    "# You would call this function in your main function after processing the data.\n"
   ]
  },
  {
   "cell_type": "code",
   "execution_count": 145,
   "id": "4d3f2b90",
   "metadata": {
    "ExecuteTime": {
     "end_time": "2023-11-14T14:52:15.730902Z",
     "start_time": "2023-11-14T14:52:15.614727Z"
    }
   },
   "outputs": [],
   "source": [
    "def calculate_bite_statistics(decreasing_data, threshold=4, min_bite_interval=10):\n",
    "    \"\"\"\n",
    "    Calculate bite statistics by considering bite size, interval, and typical eating patterns.\n",
    "\n",
    "    Parameters:\n",
    "    - decreasing_data (np.ndarray): The decreasing step-like weight data array.\n",
    "    - threshold (int): The minimum weight decrease to qualify as a bite.\n",
    "    - min_bite_interval (int): The minimum number of seconds expected between bites.\n",
    "\n",
    "    Returns:\n",
    "    - int: The number of qualified bites.\n",
    "    - list: The list of weights for each qualified bite.\n",
    "    - float: The average interval between qualified bites.\n",
    "    \"\"\"\n",
    "    bite_sizes = []\n",
    "    bite_intervals = []\n",
    "    last_bite_time = 0\n",
    "\n",
    "    for i in range(1, len(decreasing_data)):\n",
    "        if decreasing_data[i] < decreasing_data[i - 1]:\n",
    "            bite_size = decreasing_data[i - 1] - decreasing_data[i]\n",
    "            if bite_size >= threshold:\n",
    "                bite_time = i\n",
    "                bite_interval = bite_time - last_bite_time\n",
    "\n",
    "                if bite_interval >= min_bite_interval or last_bite_time == 0:\n",
    "                    bite_sizes.append(bite_size)\n",
    "                    bite_intervals.append(bite_interval)\n",
    "                    last_bite_time = bite_time\n",
    "\n",
    "    number_of_bites = len(bite_sizes)\n",
    "    average_bite_interval = np.mean(bite_intervals) if bite_intervals else 0\n",
    "    return number_of_bites, bite_sizes, average_bite_interval\n",
    "\n",
    "# Call this function in your main function after creating the decreasing_weights curve\n"
   ]
  },
  {
   "cell_type": "code",
   "execution_count": 146,
   "id": "c3bbcae5",
   "metadata": {
    "ExecuteTime": {
     "end_time": "2023-11-14T14:52:15.730949Z",
     "start_time": "2023-11-14T14:52:15.616813Z"
    }
   },
   "outputs": [],
   "source": [
    "def dif(og, c):\n",
    "    difference = og - c\n",
    "    # print(f\"Original: {og}\\nCalculated: {c}\")\n",
    "    # print(f\"Difference original - calculated = {difference}\")\n",
    "    percentage = (difference / og) if og else 0  # Check for division by zero if og is zero\n",
    "    # print(f\"Percentage: {percentage * 100:.2f} %\")  # Format to two decimal places\n",
    "    return percentage"
   ]
  },
  {
   "cell_type": "code",
   "execution_count": 159,
   "outputs": [],
   "source": [
    "def grid_search(data, og_bites, weight_thresholds, time_thresholds):\n",
    "    best_acc = 200  # Initialize with a very high number to find min\n",
    "    best_param = (None, None)\n",
    "\n",
    "    for weight_threshold in weight_thresholds:\n",
    "        for time_threshold in time_thresholds:\n",
    "            number_of_bites, bite_sizes, bite_interval = calculate_bite_statistics(\n",
    "                data, \n",
    "                threshold=weight_threshold, \n",
    "                min_bite_interval=time_threshold\n",
    "            )\n",
    "\n",
    "            if og_bites is not None and number_of_bites is not None:\n",
    "                current_error = dif(og_bites, number_of_bites)\n",
    "                # Update if the current_error is less than the best_accuracy found so far\n",
    "                if abs(current_error) < best_acc:\n",
    "                    best_acc = abs(current_error)\n",
    "                    best_param = (weight_threshold, time_threshold)\n",
    "\n",
    "    return best_acc, best_param"
   ],
   "metadata": {
    "collapsed": false,
    "ExecuteTime": {
     "end_time": "2023-11-14T15:01:19.903497Z",
     "start_time": "2023-11-14T15:01:19.891799Z"
    }
   },
   "id": "c387e21c32a8843"
  },
  {
   "cell_type": "code",
   "execution_count": 160,
   "outputs": [],
   "source": [
    "with open('../config/mando_config.json') as config_file:\n",
    "    config = json.load(config_file)\n",
    "bites = config['ground_truth']['num_of_bites']"
   ],
   "metadata": {
    "collapsed": false,
    "ExecuteTime": {
     "end_time": "2023-11-14T15:01:20.864548Z",
     "start_time": "2023-11-14T15:01:20.860115Z"
    }
   },
   "id": "460e0acb638f390c"
  },
  {
   "cell_type": "code",
   "execution_count": 161,
   "outputs": [],
   "source": [
    "accuracy = []\n",
    "cursed = [1, 2, 4, 6, 9, 14, 15]\n",
    "gram_thresholds = [0, 1, 2, 3, 4, 5, 6, 7, 8]\n",
    "time_thresholds = [0, 1, 2, 3, 4, 5, 6, 7, 8, 9]"
   ],
   "metadata": {
    "collapsed": false,
    "ExecuteTime": {
     "end_time": "2023-11-14T15:01:21.137127Z",
     "start_time": "2023-11-14T15:01:21.134372Z"
    }
   },
   "id": "ed24be50bb66a214"
  },
  {
   "cell_type": "code",
   "execution_count": 162,
   "outputs": [],
   "source": [
    "\n",
    "# for subject in range(len(bites)):\n",
    "def main():    \n",
    "   # if subject in cursed:\n",
    "   #      continue\n",
    "    subject = 18\n",
    "    print(f\"Subject {subject + 1}\")\n",
    "    \n",
    "    path = f'../data/raw/{subject+1}'\n",
    "    \n",
    "    # 1. Load the data\n",
    "    weights = load_data(path).to_numpy()    \n",
    "    \n",
    "    # 2. Obtain the decreasing step-like curve\n",
    "    # decreasing_data = create_decreasing_curve(weights)\n",
    "    decreasing_data = process_meal_data_2(weights)\n",
    "    # 3. Grid search for the best parameters\n",
    "    best_accuracy, best_params = grid_search(decreasing_data, bites[subject], gram_thresholds, time_thresholds)\n",
    "    print(f\"Best accuracy: {((1-abs(best_accuracy))) * 100:.2f} %\")\n",
    "    print(f\"Best parameters: {best_params[0]}, {best_params[1]}\")\n",
    "    # # 3. Get the number of bites and the weight of each bite using the 'simple' method\n",
    "    # number_of_bites, bite_sizes = calculate_bite_sizes(decreasing_data, 2)\n",
    "    # print(f\"Number of bites simple: {number_of_bites}\")\n",
    "    # print(f\"Weight of each bite simple: {bite_sizes}\")\n",
    "    \n",
    "    # 3. Get the number of bites and the weight of each bite using the 'advanced' method\n",
    "    # adv_number_of_bites, adv_bite_sizes, bite_interval = calculate_bite_statistics(decreasing_data, 1, 2)\n",
    "    \n",
    "    accuracy.append(1-best_accuracy) \n",
    "    calc_bites, sizes, intervals = calculate_bite_statistics(decreasing_data, best_params[0], best_params[1])\n",
    "    print(f\"Number of bites advanced: {calc_bites}\")\n",
    "    print(f\"Weight of each bite advanced: {sizes}\")\n",
    "    print(f\"Average interval between bites: {intervals}\")\n",
    "    plot_ly(decreasing_data)\n"
   ],
   "metadata": {
    "collapsed": false,
    "ExecuteTime": {
     "end_time": "2023-11-14T15:01:21.588024Z",
     "start_time": "2023-11-14T15:01:21.586242Z"
    }
   },
   "id": "398b35a4fab640e2"
  },
  {
   "cell_type": "code",
   "execution_count": 163,
   "outputs": [
    {
     "name": "stdout",
     "output_type": "stream",
     "text": [
      "Subject 19\n",
      "Best accuracy: 88.24 %\n",
      "Best parameters: 0, 0\n",
      "Number of bites advanced: 30\n",
      "Weight of each bite advanced: [69, 23, 1, 19, 30, 22, 24, 23, 15, 3, 37, 18, 14, 16, 9, 2, 26, 13, 9, 12, 11, 13, 65, 9, 14, 14, 16, 13, 13, 9]\n",
      "Average interval between bites: 7.2\n"
     ]
    },
    {
     "data": {
      "application/vnd.plotly.v1+json": {
       "data": [
        {
         "line": {
          "color": "green"
         },
         "mode": "lines",
         "name": "Raw Data",
         "opacity": 0.5,
         "y": [
          475,
          475,
          475,
          475,
          475,
          475,
          475,
          475,
          475,
          475,
          475,
          475,
          475,
          475,
          475,
          475,
          406,
          408,
          408,
          408,
          385,
          386,
          387,
          388,
          387,
          387,
          387,
          387,
          387,
          368,
          368,
          368,
          368,
          368,
          368,
          368,
          368,
          368,
          368,
          368,
          368,
          338,
          338,
          338,
          338,
          338,
          338,
          338,
          338,
          338,
          338,
          338,
          338,
          316,
          316,
          316,
          292,
          293,
          293,
          293,
          293,
          270,
          271,
          271,
          271,
          256,
          253,
          255,
          256,
          256,
          256,
          256,
          256,
          256,
          256,
          256,
          256,
          256,
          256,
          256,
          256,
          256,
          256,
          219,
          219,
          219,
          219,
          219,
          219,
          219,
          219,
          219,
          201,
          202,
          202,
          202,
          202,
          188,
          188,
          188,
          188,
          188,
          188,
          188,
          172,
          172,
          172,
          163,
          161,
          161,
          161,
          161,
          161,
          161,
          161,
          161,
          135,
          135,
          135,
          135,
          135,
          135,
          135,
          135,
          122,
          122,
          122,
          122,
          113,
          113,
          113,
          113,
          113,
          115,
          115,
          115,
          115,
          115,
          103,
          103,
          103,
          103,
          92,
          92,
          92,
          92,
          92,
          92,
          92,
          92,
          92,
          79,
          79,
          138,
          138,
          138,
          73,
          73,
          73,
          73,
          73,
          73,
          64,
          67,
          67,
          67,
          67,
          67,
          53,
          53,
          53,
          53,
          53,
          53,
          53,
          39,
          39,
          39,
          23,
          23,
          23,
          23,
          38,
          38,
          38,
          38,
          25,
          25,
          25,
          25,
          25,
          25,
          25,
          25,
          25,
          25,
          25,
          25,
          25,
          25,
          25,
          25,
          25,
          25,
          25,
          25,
          25,
          12,
          12,
          14,
          14,
          14,
          16,
          16,
          16,
          16,
          7,
          7,
          7,
          7,
          7,
          7,
          7,
          55,
          58,
          58,
          58,
          58,
          58,
          58,
          58,
          58
         ],
         "type": "scatter",
         "xaxis": "x",
         "yaxis": "y"
        }
       ],
       "layout": {
        "template": {
         "data": {
          "barpolar": [
           {
            "marker": {
             "line": {
              "color": "white",
              "width": 0.5
             },
             "pattern": {
              "fillmode": "overlay",
              "size": 10,
              "solidity": 0.2
             }
            },
            "type": "barpolar"
           }
          ],
          "bar": [
           {
            "error_x": {
             "color": "#2a3f5f"
            },
            "error_y": {
             "color": "#2a3f5f"
            },
            "marker": {
             "line": {
              "color": "white",
              "width": 0.5
             },
             "pattern": {
              "fillmode": "overlay",
              "size": 10,
              "solidity": 0.2
             }
            },
            "type": "bar"
           }
          ],
          "carpet": [
           {
            "aaxis": {
             "endlinecolor": "#2a3f5f",
             "gridcolor": "#C8D4E3",
             "linecolor": "#C8D4E3",
             "minorgridcolor": "#C8D4E3",
             "startlinecolor": "#2a3f5f"
            },
            "baxis": {
             "endlinecolor": "#2a3f5f",
             "gridcolor": "#C8D4E3",
             "linecolor": "#C8D4E3",
             "minorgridcolor": "#C8D4E3",
             "startlinecolor": "#2a3f5f"
            },
            "type": "carpet"
           }
          ],
          "choropleth": [
           {
            "colorbar": {
             "outlinewidth": 0,
             "ticks": ""
            },
            "type": "choropleth"
           }
          ],
          "contourcarpet": [
           {
            "colorbar": {
             "outlinewidth": 0,
             "ticks": ""
            },
            "type": "contourcarpet"
           }
          ],
          "contour": [
           {
            "colorbar": {
             "outlinewidth": 0,
             "ticks": ""
            },
            "colorscale": [
             [
              0.0,
              "#0d0887"
             ],
             [
              0.1111111111111111,
              "#46039f"
             ],
             [
              0.2222222222222222,
              "#7201a8"
             ],
             [
              0.3333333333333333,
              "#9c179e"
             ],
             [
              0.4444444444444444,
              "#bd3786"
             ],
             [
              0.5555555555555556,
              "#d8576b"
             ],
             [
              0.6666666666666666,
              "#ed7953"
             ],
             [
              0.7777777777777778,
              "#fb9f3a"
             ],
             [
              0.8888888888888888,
              "#fdca26"
             ],
             [
              1.0,
              "#f0f921"
             ]
            ],
            "type": "contour"
           }
          ],
          "heatmapgl": [
           {
            "colorbar": {
             "outlinewidth": 0,
             "ticks": ""
            },
            "colorscale": [
             [
              0.0,
              "#0d0887"
             ],
             [
              0.1111111111111111,
              "#46039f"
             ],
             [
              0.2222222222222222,
              "#7201a8"
             ],
             [
              0.3333333333333333,
              "#9c179e"
             ],
             [
              0.4444444444444444,
              "#bd3786"
             ],
             [
              0.5555555555555556,
              "#d8576b"
             ],
             [
              0.6666666666666666,
              "#ed7953"
             ],
             [
              0.7777777777777778,
              "#fb9f3a"
             ],
             [
              0.8888888888888888,
              "#fdca26"
             ],
             [
              1.0,
              "#f0f921"
             ]
            ],
            "type": "heatmapgl"
           }
          ],
          "heatmap": [
           {
            "colorbar": {
             "outlinewidth": 0,
             "ticks": ""
            },
            "colorscale": [
             [
              0.0,
              "#0d0887"
             ],
             [
              0.1111111111111111,
              "#46039f"
             ],
             [
              0.2222222222222222,
              "#7201a8"
             ],
             [
              0.3333333333333333,
              "#9c179e"
             ],
             [
              0.4444444444444444,
              "#bd3786"
             ],
             [
              0.5555555555555556,
              "#d8576b"
             ],
             [
              0.6666666666666666,
              "#ed7953"
             ],
             [
              0.7777777777777778,
              "#fb9f3a"
             ],
             [
              0.8888888888888888,
              "#fdca26"
             ],
             [
              1.0,
              "#f0f921"
             ]
            ],
            "type": "heatmap"
           }
          ],
          "histogram2dcontour": [
           {
            "colorbar": {
             "outlinewidth": 0,
             "ticks": ""
            },
            "colorscale": [
             [
              0.0,
              "#0d0887"
             ],
             [
              0.1111111111111111,
              "#46039f"
             ],
             [
              0.2222222222222222,
              "#7201a8"
             ],
             [
              0.3333333333333333,
              "#9c179e"
             ],
             [
              0.4444444444444444,
              "#bd3786"
             ],
             [
              0.5555555555555556,
              "#d8576b"
             ],
             [
              0.6666666666666666,
              "#ed7953"
             ],
             [
              0.7777777777777778,
              "#fb9f3a"
             ],
             [
              0.8888888888888888,
              "#fdca26"
             ],
             [
              1.0,
              "#f0f921"
             ]
            ],
            "type": "histogram2dcontour"
           }
          ],
          "histogram2d": [
           {
            "colorbar": {
             "outlinewidth": 0,
             "ticks": ""
            },
            "colorscale": [
             [
              0.0,
              "#0d0887"
             ],
             [
              0.1111111111111111,
              "#46039f"
             ],
             [
              0.2222222222222222,
              "#7201a8"
             ],
             [
              0.3333333333333333,
              "#9c179e"
             ],
             [
              0.4444444444444444,
              "#bd3786"
             ],
             [
              0.5555555555555556,
              "#d8576b"
             ],
             [
              0.6666666666666666,
              "#ed7953"
             ],
             [
              0.7777777777777778,
              "#fb9f3a"
             ],
             [
              0.8888888888888888,
              "#fdca26"
             ],
             [
              1.0,
              "#f0f921"
             ]
            ],
            "type": "histogram2d"
           }
          ],
          "histogram": [
           {
            "marker": {
             "pattern": {
              "fillmode": "overlay",
              "size": 10,
              "solidity": 0.2
             }
            },
            "type": "histogram"
           }
          ],
          "mesh3d": [
           {
            "colorbar": {
             "outlinewidth": 0,
             "ticks": ""
            },
            "type": "mesh3d"
           }
          ],
          "parcoords": [
           {
            "line": {
             "colorbar": {
              "outlinewidth": 0,
              "ticks": ""
             }
            },
            "type": "parcoords"
           }
          ],
          "pie": [
           {
            "automargin": true,
            "type": "pie"
           }
          ],
          "scatter3d": [
           {
            "line": {
             "colorbar": {
              "outlinewidth": 0,
              "ticks": ""
             }
            },
            "marker": {
             "colorbar": {
              "outlinewidth": 0,
              "ticks": ""
             }
            },
            "type": "scatter3d"
           }
          ],
          "scattercarpet": [
           {
            "marker": {
             "colorbar": {
              "outlinewidth": 0,
              "ticks": ""
             }
            },
            "type": "scattercarpet"
           }
          ],
          "scattergeo": [
           {
            "marker": {
             "colorbar": {
              "outlinewidth": 0,
              "ticks": ""
             }
            },
            "type": "scattergeo"
           }
          ],
          "scattergl": [
           {
            "marker": {
             "colorbar": {
              "outlinewidth": 0,
              "ticks": ""
             }
            },
            "type": "scattergl"
           }
          ],
          "scattermapbox": [
           {
            "marker": {
             "colorbar": {
              "outlinewidth": 0,
              "ticks": ""
             }
            },
            "type": "scattermapbox"
           }
          ],
          "scatterpolargl": [
           {
            "marker": {
             "colorbar": {
              "outlinewidth": 0,
              "ticks": ""
             }
            },
            "type": "scatterpolargl"
           }
          ],
          "scatterpolar": [
           {
            "marker": {
             "colorbar": {
              "outlinewidth": 0,
              "ticks": ""
             }
            },
            "type": "scatterpolar"
           }
          ],
          "scatter": [
           {
            "fillpattern": {
             "fillmode": "overlay",
             "size": 10,
             "solidity": 0.2
            },
            "type": "scatter"
           }
          ],
          "scatterternary": [
           {
            "marker": {
             "colorbar": {
              "outlinewidth": 0,
              "ticks": ""
             }
            },
            "type": "scatterternary"
           }
          ],
          "surface": [
           {
            "colorbar": {
             "outlinewidth": 0,
             "ticks": ""
            },
            "colorscale": [
             [
              0.0,
              "#0d0887"
             ],
             [
              0.1111111111111111,
              "#46039f"
             ],
             [
              0.2222222222222222,
              "#7201a8"
             ],
             [
              0.3333333333333333,
              "#9c179e"
             ],
             [
              0.4444444444444444,
              "#bd3786"
             ],
             [
              0.5555555555555556,
              "#d8576b"
             ],
             [
              0.6666666666666666,
              "#ed7953"
             ],
             [
              0.7777777777777778,
              "#fb9f3a"
             ],
             [
              0.8888888888888888,
              "#fdca26"
             ],
             [
              1.0,
              "#f0f921"
             ]
            ],
            "type": "surface"
           }
          ],
          "table": [
           {
            "cells": {
             "fill": {
              "color": "#EBF0F8"
             },
             "line": {
              "color": "white"
             }
            },
            "header": {
             "fill": {
              "color": "#C8D4E3"
             },
             "line": {
              "color": "white"
             }
            },
            "type": "table"
           }
          ]
         },
         "layout": {
          "annotationdefaults": {
           "arrowcolor": "#2a3f5f",
           "arrowhead": 0,
           "arrowwidth": 1
          },
          "autotypenumbers": "strict",
          "coloraxis": {
           "colorbar": {
            "outlinewidth": 0,
            "ticks": ""
           }
          },
          "colorscale": {
           "diverging": [
            [
             0,
             "#8e0152"
            ],
            [
             0.1,
             "#c51b7d"
            ],
            [
             0.2,
             "#de77ae"
            ],
            [
             0.3,
             "#f1b6da"
            ],
            [
             0.4,
             "#fde0ef"
            ],
            [
             0.5,
             "#f7f7f7"
            ],
            [
             0.6,
             "#e6f5d0"
            ],
            [
             0.7,
             "#b8e186"
            ],
            [
             0.8,
             "#7fbc41"
            ],
            [
             0.9,
             "#4d9221"
            ],
            [
             1,
             "#276419"
            ]
           ],
           "sequential": [
            [
             0.0,
             "#0d0887"
            ],
            [
             0.1111111111111111,
             "#46039f"
            ],
            [
             0.2222222222222222,
             "#7201a8"
            ],
            [
             0.3333333333333333,
             "#9c179e"
            ],
            [
             0.4444444444444444,
             "#bd3786"
            ],
            [
             0.5555555555555556,
             "#d8576b"
            ],
            [
             0.6666666666666666,
             "#ed7953"
            ],
            [
             0.7777777777777778,
             "#fb9f3a"
            ],
            [
             0.8888888888888888,
             "#fdca26"
            ],
            [
             1.0,
             "#f0f921"
            ]
           ],
           "sequentialminus": [
            [
             0.0,
             "#0d0887"
            ],
            [
             0.1111111111111111,
             "#46039f"
            ],
            [
             0.2222222222222222,
             "#7201a8"
            ],
            [
             0.3333333333333333,
             "#9c179e"
            ],
            [
             0.4444444444444444,
             "#bd3786"
            ],
            [
             0.5555555555555556,
             "#d8576b"
            ],
            [
             0.6666666666666666,
             "#ed7953"
            ],
            [
             0.7777777777777778,
             "#fb9f3a"
            ],
            [
             0.8888888888888888,
             "#fdca26"
            ],
            [
             1.0,
             "#f0f921"
            ]
           ]
          },
          "colorway": [
           "#636efa",
           "#EF553B",
           "#00cc96",
           "#ab63fa",
           "#FFA15A",
           "#19d3f3",
           "#FF6692",
           "#B6E880",
           "#FF97FF",
           "#FECB52"
          ],
          "font": {
           "color": "#2a3f5f"
          },
          "geo": {
           "bgcolor": "white",
           "lakecolor": "white",
           "landcolor": "white",
           "showlakes": true,
           "showland": true,
           "subunitcolor": "#C8D4E3"
          },
          "hoverlabel": {
           "align": "left"
          },
          "hovermode": "closest",
          "mapbox": {
           "style": "light"
          },
          "paper_bgcolor": "white",
          "plot_bgcolor": "white",
          "polar": {
           "angularaxis": {
            "gridcolor": "#EBF0F8",
            "linecolor": "#EBF0F8",
            "ticks": ""
           },
           "bgcolor": "white",
           "radialaxis": {
            "gridcolor": "#EBF0F8",
            "linecolor": "#EBF0F8",
            "ticks": ""
           }
          },
          "scene": {
           "xaxis": {
            "backgroundcolor": "white",
            "gridcolor": "#DFE8F3",
            "gridwidth": 2,
            "linecolor": "#EBF0F8",
            "showbackground": true,
            "ticks": "",
            "zerolinecolor": "#EBF0F8"
           },
           "yaxis": {
            "backgroundcolor": "white",
            "gridcolor": "#DFE8F3",
            "gridwidth": 2,
            "linecolor": "#EBF0F8",
            "showbackground": true,
            "ticks": "",
            "zerolinecolor": "#EBF0F8"
           },
           "zaxis": {
            "backgroundcolor": "white",
            "gridcolor": "#DFE8F3",
            "gridwidth": 2,
            "linecolor": "#EBF0F8",
            "showbackground": true,
            "ticks": "",
            "zerolinecolor": "#EBF0F8"
           }
          },
          "shapedefaults": {
           "line": {
            "color": "#2a3f5f"
           }
          },
          "ternary": {
           "aaxis": {
            "gridcolor": "#DFE8F3",
            "linecolor": "#A2B1C6",
            "ticks": ""
           },
           "baxis": {
            "gridcolor": "#DFE8F3",
            "linecolor": "#A2B1C6",
            "ticks": ""
           },
           "bgcolor": "white",
           "caxis": {
            "gridcolor": "#DFE8F3",
            "linecolor": "#A2B1C6",
            "ticks": ""
           }
          },
          "title": {
           "x": 0.05
          },
          "xaxis": {
           "automargin": true,
           "gridcolor": "#EBF0F8",
           "linecolor": "#EBF0F8",
           "ticks": "",
           "title": {
            "standoff": 15
           },
           "zerolinecolor": "#EBF0F8",
           "zerolinewidth": 2
          },
          "yaxis": {
           "automargin": true,
           "gridcolor": "#EBF0F8",
           "linecolor": "#EBF0F8",
           "ticks": "",
           "title": {
            "standoff": 15
           },
           "zerolinecolor": "#EBF0F8",
           "zerolinewidth": 2
          }
         }
        },
        "xaxis": {
         "anchor": "y",
         "domain": [
          0.0,
          1.0
         ],
         "matches": "x2",
         "showticklabels": false
        },
        "yaxis": {
         "anchor": "x",
         "domain": [
          0.575,
          1.0
         ],
         "title": {
          "text": "Weight (grams)"
         }
        },
        "xaxis2": {
         "anchor": "y2",
         "domain": [
          0.0,
          1.0
         ]
        },
        "yaxis2": {
         "anchor": "x2",
         "domain": [
          0.0,
          0.425
         ]
        },
        "title": {
         "text": "Raw Weight Data"
        },
        "height": 700,
        "width": 1000
       },
       "config": {
        "plotlyServerURL": "https://plot.ly"
       }
      },
      "text/html": "<div>                            <div id=\"60395f84-01a8-46a5-ae88-2ae2f3993d88\" class=\"plotly-graph-div\" style=\"height:700px; width:1000px;\"></div>            <script type=\"text/javascript\">                require([\"plotly\"], function(Plotly) {                    window.PLOTLYENV=window.PLOTLYENV || {};                                    if (document.getElementById(\"60395f84-01a8-46a5-ae88-2ae2f3993d88\")) {                    Plotly.newPlot(                        \"60395f84-01a8-46a5-ae88-2ae2f3993d88\",                        [{\"line\":{\"color\":\"green\"},\"mode\":\"lines\",\"name\":\"Raw Data\",\"opacity\":0.5,\"y\":[475,475,475,475,475,475,475,475,475,475,475,475,475,475,475,475,406,408,408,408,385,386,387,388,387,387,387,387,387,368,368,368,368,368,368,368,368,368,368,368,368,338,338,338,338,338,338,338,338,338,338,338,338,316,316,316,292,293,293,293,293,270,271,271,271,256,253,255,256,256,256,256,256,256,256,256,256,256,256,256,256,256,256,219,219,219,219,219,219,219,219,219,201,202,202,202,202,188,188,188,188,188,188,188,172,172,172,163,161,161,161,161,161,161,161,161,135,135,135,135,135,135,135,135,122,122,122,122,113,113,113,113,113,115,115,115,115,115,103,103,103,103,92,92,92,92,92,92,92,92,92,79,79,138,138,138,73,73,73,73,73,73,64,67,67,67,67,67,53,53,53,53,53,53,53,39,39,39,23,23,23,23,38,38,38,38,25,25,25,25,25,25,25,25,25,25,25,25,25,25,25,25,25,25,25,25,25,12,12,14,14,14,16,16,16,16,7,7,7,7,7,7,7,55,58,58,58,58,58,58,58,58],\"type\":\"scatter\",\"xaxis\":\"x\",\"yaxis\":\"y\"}],                        {\"template\":{\"data\":{\"barpolar\":[{\"marker\":{\"line\":{\"color\":\"white\",\"width\":0.5},\"pattern\":{\"fillmode\":\"overlay\",\"size\":10,\"solidity\":0.2}},\"type\":\"barpolar\"}],\"bar\":[{\"error_x\":{\"color\":\"#2a3f5f\"},\"error_y\":{\"color\":\"#2a3f5f\"},\"marker\":{\"line\":{\"color\":\"white\",\"width\":0.5},\"pattern\":{\"fillmode\":\"overlay\",\"size\":10,\"solidity\":0.2}},\"type\":\"bar\"}],\"carpet\":[{\"aaxis\":{\"endlinecolor\":\"#2a3f5f\",\"gridcolor\":\"#C8D4E3\",\"linecolor\":\"#C8D4E3\",\"minorgridcolor\":\"#C8D4E3\",\"startlinecolor\":\"#2a3f5f\"},\"baxis\":{\"endlinecolor\":\"#2a3f5f\",\"gridcolor\":\"#C8D4E3\",\"linecolor\":\"#C8D4E3\",\"minorgridcolor\":\"#C8D4E3\",\"startlinecolor\":\"#2a3f5f\"},\"type\":\"carpet\"}],\"choropleth\":[{\"colorbar\":{\"outlinewidth\":0,\"ticks\":\"\"},\"type\":\"choropleth\"}],\"contourcarpet\":[{\"colorbar\":{\"outlinewidth\":0,\"ticks\":\"\"},\"type\":\"contourcarpet\"}],\"contour\":[{\"colorbar\":{\"outlinewidth\":0,\"ticks\":\"\"},\"colorscale\":[[0.0,\"#0d0887\"],[0.1111111111111111,\"#46039f\"],[0.2222222222222222,\"#7201a8\"],[0.3333333333333333,\"#9c179e\"],[0.4444444444444444,\"#bd3786\"],[0.5555555555555556,\"#d8576b\"],[0.6666666666666666,\"#ed7953\"],[0.7777777777777778,\"#fb9f3a\"],[0.8888888888888888,\"#fdca26\"],[1.0,\"#f0f921\"]],\"type\":\"contour\"}],\"heatmapgl\":[{\"colorbar\":{\"outlinewidth\":0,\"ticks\":\"\"},\"colorscale\":[[0.0,\"#0d0887\"],[0.1111111111111111,\"#46039f\"],[0.2222222222222222,\"#7201a8\"],[0.3333333333333333,\"#9c179e\"],[0.4444444444444444,\"#bd3786\"],[0.5555555555555556,\"#d8576b\"],[0.6666666666666666,\"#ed7953\"],[0.7777777777777778,\"#fb9f3a\"],[0.8888888888888888,\"#fdca26\"],[1.0,\"#f0f921\"]],\"type\":\"heatmapgl\"}],\"heatmap\":[{\"colorbar\":{\"outlinewidth\":0,\"ticks\":\"\"},\"colorscale\":[[0.0,\"#0d0887\"],[0.1111111111111111,\"#46039f\"],[0.2222222222222222,\"#7201a8\"],[0.3333333333333333,\"#9c179e\"],[0.4444444444444444,\"#bd3786\"],[0.5555555555555556,\"#d8576b\"],[0.6666666666666666,\"#ed7953\"],[0.7777777777777778,\"#fb9f3a\"],[0.8888888888888888,\"#fdca26\"],[1.0,\"#f0f921\"]],\"type\":\"heatmap\"}],\"histogram2dcontour\":[{\"colorbar\":{\"outlinewidth\":0,\"ticks\":\"\"},\"colorscale\":[[0.0,\"#0d0887\"],[0.1111111111111111,\"#46039f\"],[0.2222222222222222,\"#7201a8\"],[0.3333333333333333,\"#9c179e\"],[0.4444444444444444,\"#bd3786\"],[0.5555555555555556,\"#d8576b\"],[0.6666666666666666,\"#ed7953\"],[0.7777777777777778,\"#fb9f3a\"],[0.8888888888888888,\"#fdca26\"],[1.0,\"#f0f921\"]],\"type\":\"histogram2dcontour\"}],\"histogram2d\":[{\"colorbar\":{\"outlinewidth\":0,\"ticks\":\"\"},\"colorscale\":[[0.0,\"#0d0887\"],[0.1111111111111111,\"#46039f\"],[0.2222222222222222,\"#7201a8\"],[0.3333333333333333,\"#9c179e\"],[0.4444444444444444,\"#bd3786\"],[0.5555555555555556,\"#d8576b\"],[0.6666666666666666,\"#ed7953\"],[0.7777777777777778,\"#fb9f3a\"],[0.8888888888888888,\"#fdca26\"],[1.0,\"#f0f921\"]],\"type\":\"histogram2d\"}],\"histogram\":[{\"marker\":{\"pattern\":{\"fillmode\":\"overlay\",\"size\":10,\"solidity\":0.2}},\"type\":\"histogram\"}],\"mesh3d\":[{\"colorbar\":{\"outlinewidth\":0,\"ticks\":\"\"},\"type\":\"mesh3d\"}],\"parcoords\":[{\"line\":{\"colorbar\":{\"outlinewidth\":0,\"ticks\":\"\"}},\"type\":\"parcoords\"}],\"pie\":[{\"automargin\":true,\"type\":\"pie\"}],\"scatter3d\":[{\"line\":{\"colorbar\":{\"outlinewidth\":0,\"ticks\":\"\"}},\"marker\":{\"colorbar\":{\"outlinewidth\":0,\"ticks\":\"\"}},\"type\":\"scatter3d\"}],\"scattercarpet\":[{\"marker\":{\"colorbar\":{\"outlinewidth\":0,\"ticks\":\"\"}},\"type\":\"scattercarpet\"}],\"scattergeo\":[{\"marker\":{\"colorbar\":{\"outlinewidth\":0,\"ticks\":\"\"}},\"type\":\"scattergeo\"}],\"scattergl\":[{\"marker\":{\"colorbar\":{\"outlinewidth\":0,\"ticks\":\"\"}},\"type\":\"scattergl\"}],\"scattermapbox\":[{\"marker\":{\"colorbar\":{\"outlinewidth\":0,\"ticks\":\"\"}},\"type\":\"scattermapbox\"}],\"scatterpolargl\":[{\"marker\":{\"colorbar\":{\"outlinewidth\":0,\"ticks\":\"\"}},\"type\":\"scatterpolargl\"}],\"scatterpolar\":[{\"marker\":{\"colorbar\":{\"outlinewidth\":0,\"ticks\":\"\"}},\"type\":\"scatterpolar\"}],\"scatter\":[{\"fillpattern\":{\"fillmode\":\"overlay\",\"size\":10,\"solidity\":0.2},\"type\":\"scatter\"}],\"scatterternary\":[{\"marker\":{\"colorbar\":{\"outlinewidth\":0,\"ticks\":\"\"}},\"type\":\"scatterternary\"}],\"surface\":[{\"colorbar\":{\"outlinewidth\":0,\"ticks\":\"\"},\"colorscale\":[[0.0,\"#0d0887\"],[0.1111111111111111,\"#46039f\"],[0.2222222222222222,\"#7201a8\"],[0.3333333333333333,\"#9c179e\"],[0.4444444444444444,\"#bd3786\"],[0.5555555555555556,\"#d8576b\"],[0.6666666666666666,\"#ed7953\"],[0.7777777777777778,\"#fb9f3a\"],[0.8888888888888888,\"#fdca26\"],[1.0,\"#f0f921\"]],\"type\":\"surface\"}],\"table\":[{\"cells\":{\"fill\":{\"color\":\"#EBF0F8\"},\"line\":{\"color\":\"white\"}},\"header\":{\"fill\":{\"color\":\"#C8D4E3\"},\"line\":{\"color\":\"white\"}},\"type\":\"table\"}]},\"layout\":{\"annotationdefaults\":{\"arrowcolor\":\"#2a3f5f\",\"arrowhead\":0,\"arrowwidth\":1},\"autotypenumbers\":\"strict\",\"coloraxis\":{\"colorbar\":{\"outlinewidth\":0,\"ticks\":\"\"}},\"colorscale\":{\"diverging\":[[0,\"#8e0152\"],[0.1,\"#c51b7d\"],[0.2,\"#de77ae\"],[0.3,\"#f1b6da\"],[0.4,\"#fde0ef\"],[0.5,\"#f7f7f7\"],[0.6,\"#e6f5d0\"],[0.7,\"#b8e186\"],[0.8,\"#7fbc41\"],[0.9,\"#4d9221\"],[1,\"#276419\"]],\"sequential\":[[0.0,\"#0d0887\"],[0.1111111111111111,\"#46039f\"],[0.2222222222222222,\"#7201a8\"],[0.3333333333333333,\"#9c179e\"],[0.4444444444444444,\"#bd3786\"],[0.5555555555555556,\"#d8576b\"],[0.6666666666666666,\"#ed7953\"],[0.7777777777777778,\"#fb9f3a\"],[0.8888888888888888,\"#fdca26\"],[1.0,\"#f0f921\"]],\"sequentialminus\":[[0.0,\"#0d0887\"],[0.1111111111111111,\"#46039f\"],[0.2222222222222222,\"#7201a8\"],[0.3333333333333333,\"#9c179e\"],[0.4444444444444444,\"#bd3786\"],[0.5555555555555556,\"#d8576b\"],[0.6666666666666666,\"#ed7953\"],[0.7777777777777778,\"#fb9f3a\"],[0.8888888888888888,\"#fdca26\"],[1.0,\"#f0f921\"]]},\"colorway\":[\"#636efa\",\"#EF553B\",\"#00cc96\",\"#ab63fa\",\"#FFA15A\",\"#19d3f3\",\"#FF6692\",\"#B6E880\",\"#FF97FF\",\"#FECB52\"],\"font\":{\"color\":\"#2a3f5f\"},\"geo\":{\"bgcolor\":\"white\",\"lakecolor\":\"white\",\"landcolor\":\"white\",\"showlakes\":true,\"showland\":true,\"subunitcolor\":\"#C8D4E3\"},\"hoverlabel\":{\"align\":\"left\"},\"hovermode\":\"closest\",\"mapbox\":{\"style\":\"light\"},\"paper_bgcolor\":\"white\",\"plot_bgcolor\":\"white\",\"polar\":{\"angularaxis\":{\"gridcolor\":\"#EBF0F8\",\"linecolor\":\"#EBF0F8\",\"ticks\":\"\"},\"bgcolor\":\"white\",\"radialaxis\":{\"gridcolor\":\"#EBF0F8\",\"linecolor\":\"#EBF0F8\",\"ticks\":\"\"}},\"scene\":{\"xaxis\":{\"backgroundcolor\":\"white\",\"gridcolor\":\"#DFE8F3\",\"gridwidth\":2,\"linecolor\":\"#EBF0F8\",\"showbackground\":true,\"ticks\":\"\",\"zerolinecolor\":\"#EBF0F8\"},\"yaxis\":{\"backgroundcolor\":\"white\",\"gridcolor\":\"#DFE8F3\",\"gridwidth\":2,\"linecolor\":\"#EBF0F8\",\"showbackground\":true,\"ticks\":\"\",\"zerolinecolor\":\"#EBF0F8\"},\"zaxis\":{\"backgroundcolor\":\"white\",\"gridcolor\":\"#DFE8F3\",\"gridwidth\":2,\"linecolor\":\"#EBF0F8\",\"showbackground\":true,\"ticks\":\"\",\"zerolinecolor\":\"#EBF0F8\"}},\"shapedefaults\":{\"line\":{\"color\":\"#2a3f5f\"}},\"ternary\":{\"aaxis\":{\"gridcolor\":\"#DFE8F3\",\"linecolor\":\"#A2B1C6\",\"ticks\":\"\"},\"baxis\":{\"gridcolor\":\"#DFE8F3\",\"linecolor\":\"#A2B1C6\",\"ticks\":\"\"},\"bgcolor\":\"white\",\"caxis\":{\"gridcolor\":\"#DFE8F3\",\"linecolor\":\"#A2B1C6\",\"ticks\":\"\"}},\"title\":{\"x\":0.05},\"xaxis\":{\"automargin\":true,\"gridcolor\":\"#EBF0F8\",\"linecolor\":\"#EBF0F8\",\"ticks\":\"\",\"title\":{\"standoff\":15},\"zerolinecolor\":\"#EBF0F8\",\"zerolinewidth\":2},\"yaxis\":{\"automargin\":true,\"gridcolor\":\"#EBF0F8\",\"linecolor\":\"#EBF0F8\",\"ticks\":\"\",\"title\":{\"standoff\":15},\"zerolinecolor\":\"#EBF0F8\",\"zerolinewidth\":2}}},\"xaxis\":{\"anchor\":\"y\",\"domain\":[0.0,1.0],\"matches\":\"x2\",\"showticklabels\":false},\"yaxis\":{\"anchor\":\"x\",\"domain\":[0.575,1.0],\"title\":{\"text\":\"Weight (grams)\"}},\"xaxis2\":{\"anchor\":\"y2\",\"domain\":[0.0,1.0]},\"yaxis2\":{\"anchor\":\"x2\",\"domain\":[0.0,0.425]},\"title\":{\"text\":\"Raw Weight Data\"},\"height\":700,\"width\":1000},                        {\"responsive\": true}                    ).then(function(){\n                            \nvar gd = document.getElementById('60395f84-01a8-46a5-ae88-2ae2f3993d88');\nvar x = new MutationObserver(function (mutations, observer) {{\n        var display = window.getComputedStyle(gd).display;\n        if (!display || display === 'none') {{\n            console.log([gd, 'removed!']);\n            Plotly.purge(gd);\n            observer.disconnect();\n        }}\n}});\n\n// Listen for the removal of the full notebook cells\nvar notebookContainer = gd.closest('#notebook-container');\nif (notebookContainer) {{\n    x.observe(notebookContainer, {childList: true});\n}}\n\n// Listen for the clearing of the current output cell\nvar outputEl = gd.closest('.output');\nif (outputEl) {{\n    x.observe(outputEl, {childList: true});\n}}\n\n                        })                };                });            </script>        </div>"
     },
     "metadata": {},
     "output_type": "display_data"
    }
   ],
   "source": [
    "main()"
   ],
   "metadata": {
    "collapsed": false,
    "ExecuteTime": {
     "end_time": "2023-11-14T15:01:22.461092Z",
     "start_time": "2023-11-14T15:01:22.426285Z"
    }
   },
   "id": "a8548f91c76ca01a"
  },
  {
   "cell_type": "code",
   "execution_count": 152,
   "outputs": [
    {
     "name": "stdout",
     "output_type": "stream",
     "text": [
      "True number of bites: 34\n",
      "Number of bites advanced: 32\n",
      "Weight of each bite advanced: [11, 26, 21, 28, 12, 15, 17, 7, 18, 24, 22, 14, 12, 14, 6, 18, 13, 16, 9, 10, 16, 13, 9, 10, 11, 8, 6, 9, 11, 9, 16, 7]\n",
      "Average interval between bites: 6.0625\n"
     ]
    }
   ],
   "source": [
    "path = f'../data/raw/19'\n",
    "\n",
    "# 1. Load the data\n",
    "weights = load_data(path).to_numpy()    \n",
    "\n",
    "# 2. Obtain the decreasing step-like curve\n",
    "decreasing_data = create_decreasing_curve(weights)\n",
    "print(f\"True number of bites: {bites[18]}\")\n",
    "calc_bites, sizes, intervals = calculate_bite_statistics(decreasing_data, 5, 1)\n",
    "print(f\"Number of bites advanced: {calc_bites}\")\n",
    "print(f\"Weight of each bite advanced: {sizes}\")\n",
    "print(f\"Average interval between bites: {intervals}\")"
   ],
   "metadata": {
    "collapsed": false,
    "ExecuteTime": {
     "end_time": "2023-11-14T14:52:15.752805Z",
     "start_time": "2023-11-14T14:52:15.663765Z"
    }
   },
   "id": "fe8f9deb517e128c"
  },
  {
   "cell_type": "code",
   "execution_count": 152,
   "outputs": [],
   "source": [],
   "metadata": {
    "collapsed": false,
    "ExecuteTime": {
     "end_time": "2023-11-14T14:52:15.752848Z",
     "start_time": "2023-11-14T14:52:15.667405Z"
    }
   },
   "id": "99a84975a4145631"
  }
 ],
 "metadata": {
  "kernelspec": {
   "display_name": "Python 3 (ipykernel)",
   "language": "python",
   "name": "python3"
  },
  "language_info": {
   "codemirror_mode": {
    "name": "ipython",
    "version": 3
   },
   "file_extension": ".py",
   "mimetype": "text/x-python",
   "name": "python",
   "nbconvert_exporter": "python",
   "pygments_lexer": "ipython3",
   "version": "3.11.0"
  }
 },
 "nbformat": 4,
 "nbformat_minor": 5
}
