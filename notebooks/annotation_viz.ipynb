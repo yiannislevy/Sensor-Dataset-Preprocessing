{
 "cells": [
  {
   "cell_type": "code",
   "execution_count": null,
   "id": "initial_id",
   "metadata": {},
   "outputs": [],
   "source": [
    "%matplotlib notebook\n",
    "from src.main.mando_preprocessing import linear_resample\n",
    "import numpy as np\n",
    "import matplotlib.pyplot as plt\n",
    "import os\n",
    "import json\n",
    "import plotly.graph_objs as go\n",
    "from plotly.subplots import make_subplots\n",
    "import pandas as pd\n",
    "from src.main.imu_data_io import read_parquet\n",
    "from src.utils.imu_data_visualization import *\n",
    "import matplotlib.dates as mdates\n",
    "import re"
   ]
  },
  {
   "cell_type": "code",
   "execution_count": null,
   "id": "8e95c91ff233c458",
   "metadata": {},
   "outputs": [],
   "source": [
    "def load_weight(path):\n",
    "    # Find the weight file in the directory\n",
    "    files = [f for f in os.listdir(path) if f.startswith('weights_') and f.endswith('.txt')]\n",
    "    if not files:\n",
    "        raise ValueError(f\"No weight files found in directory: {path}\")\n",
    "    # We assume there's only one file matching the pattern, hence we take the first one\n",
    "    file_path = os.path.join(path, files[0])\n",
    "    # Load the data using pandas\n",
    "    weights = pd.read_csv(file_path, header=None, names=['weight'])\n",
    "#     weights = weights[45:] # for 7,10,14,15,16 ->50,20,23,25,45\n",
    "    return weights['weight']"
   ]
  },
  {
   "cell_type": "code",
   "execution_count": null,
   "id": "ea0327b250e84071",
   "metadata": {},
   "outputs": [],
   "source": [
    "def plot_weights_data(data):\n",
    "    fig = make_subplots(rows=2, cols=1, shared_xaxes=True)\n",
    "\n",
    "    # Raw data plot\n",
    "    fig.add_trace(go.Scatter(y=data, mode='lines', name='Raw Data', opacity=0.5, line=dict(color='green')), row=1, col=1)\n",
    "\n",
    "    # Update yaxis properties\n",
    "    fig.update_yaxes(title_text='Weight (grams)', row=1, col=1)\n",
    "\n",
    "    # Update titles with light mode theme color    \n",
    "    fig.update_layout(height=700, width=1000, title_text='Raw Weight Data', template='plotly_white')\n",
    "\n",
    "    fig.show()"
   ]
  },
  {
   "cell_type": "code",
   "execution_count": null,
   "id": "abf3b678a8300fcf",
   "metadata": {},
   "outputs": [],
   "source": [
    "# def plot_weights_data(data):\n",
    "#     \"\"\"\n",
    "#     Plot the given data with sample number on the x-axis.\n",
    "# \n",
    "#     Args:\n",
    "#         data (iterable): Iterable containing the data points to plot.\n",
    "#     \"\"\"\n",
    "#     plt.figure(figsize=(10, 5))\n",
    "#     plt.plot(range(len(data)), data, marker='o')\n",
    "#     plt.xlabel('Sample Number')\n",
    "#     plt.ylabel('Data Value')\n",
    "#     plt.title('Data Plot')\n",
    "#     plt.grid(True)\n",
    "#     plt.show()"
   ]
  },
  {
   "cell_type": "code",
   "execution_count": null,
   "id": "186e56c30a06db42",
   "metadata": {},
   "outputs": [],
   "source": [
    "data = read_parquet('../data/processed/19')\n",
    "weights = load_weight('../data/raw/19')\n",
    "# plot_ly(weights)\n",
    "\n",
    "# plot_ly(resampled_weights)"
   ]
  },
  {
   "cell_type": "code",
   "execution_count": null,
   "id": "d7bdf5b6f65e4ee3",
   "metadata": {},
   "outputs": [],
   "source": [
    "plot_weights_data(weights)\n",
    "# plot_weights_data(resampled_weights)s"
   ]
  },
  {
   "cell_type": "code",
   "execution_count": null,
   "id": "b3036c034e266765",
   "metadata": {},
   "outputs": [],
   "source": [
    "plot_parquet(data)"
   ]
  },
  {
   "cell_type": "code",
   "execution_count": null,
   "id": "ec917af0ca5bc7b3",
   "metadata": {},
   "outputs": [],
   "source": []
  }
 ],
 "metadata": {
  "kernelspec": {
   "display_name": "Python 3 (ipykernel)",
   "language": "python",
   "name": "python3"
  },
  "language_info": {
   "codemirror_mode": {
    "name": "ipython",
    "version": 3
   },
   "file_extension": ".py",
   "mimetype": "text/x-python",
   "name": "python",
   "nbconvert_exporter": "python",
   "pygments_lexer": "ipython3",
   "version": "3.11.0"
  }
 },
 "nbformat": 4,
 "nbformat_minor": 5
}
