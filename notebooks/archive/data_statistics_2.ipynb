{
 "cells": [
  {
   "cell_type": "code",
   "outputs": [],
   "source": [
    "# import numpy as np\n",
    "# import pandas as pd\n",
    "# from datetime import datetime\n",
    "# import os\n",
    "# import matplotlib.pyplot as plt\n",
    "# import seaborn as sns\n",
    "# from scipy import stats\n",
    "# # # # # # # # # # # # # # # # # # # # # # # # # # # # # # # # # # # # # # # # # # # from pathlib import Path"
   ],
   "metadata": {
    "collapsed": false
   },
   "id": "4fa3fed15fb8a3f2",
   "execution_count": null
  },
  {
   "cell_type": "code",
   "outputs": [],
   "source": [
    "# # Define the dtype as specified\n",
    "# sensor_dtype = np.dtype([\n",
    "#     (\"x\", \">f4\"),\n",
    "#     (\"y\", \">f4\"),\n",
    "#     (\"z\", \">f4\"),\n",
    "#     (\"time\", \">i8\"),\n",
    "# # # # # # # # # # # # # # # # # # # # # # # # # # # # # # # # # # # # # # # # # # # # ])"
   ],
   "metadata": {
    "collapsed": false
   },
   "id": "a5d0a6d2fc2c469a",
   "execution_count": null
  },
  {
   "cell_type": "code",
   "outputs": [],
   "source": [
    "# def load_raw_sensor_data(path):\n",
    "#     acc_files = sorted([f for f in os.listdir(path) if f.endswith('.bin') and 'accelerometer' in f])\n",
    "#     gyro_files = sorted([f for f in os.listdir(path) if f.endswith('.bin') and 'gyroscope' in f])\n",
    "#     \n",
    "#     all_acc_data = []\n",
    "#     all_gyro_data = []\n",
    "#     \n",
    "#     # Load accelerometer data\n",
    "#     for file in acc_files:\n",
    "#         boot_time_nanos = int(file.split(\"_\")[0]) * 1e6\n",
    "#         file_path = os.path.join(path, file)\n",
    "#         acc_data = np.fromfile(file_path, dtype=sensor_dtype)\n",
    "#         first_event_time = acc_data['time'][0]\n",
    "#         corrected_timestamps = ((acc_data['time'] - first_event_time) + boot_time_nanos) / 1e9\n",
    "#         corrected_datetimes = pd.to_datetime(corrected_timestamps, unit='s')\n",
    "#         df = pd.DataFrame(acc_data[[\"x\", \"y\", \"z\"]].byteswap().newbyteorder())\n",
    "#         df['time'] = corrected_datetimes\n",
    "#         all_acc_data.append(df)\n",
    "#     all_acc_data = pd.concat(all_acc_data)\n",
    "# \n",
    "#     # Load gyroscope data\n",
    "#     for file in gyro_files:\n",
    "#         boot_time_nanos = int(file.split(\"_\")[0]) * 1e6\n",
    "#         file_path = os.path.join(path, file)\n",
    "#         gyro_data = np.fromfile(file_path, dtype=sensor_dtype)\n",
    "#         first_event_time = gyro_data['time'][0]\n",
    "#         corrected_timestamps = ((gyro_data['time'] - first_event_time) + boot_time_nanos) / 1e9\n",
    "#         corrected_datetimes = pd.to_datetime(corrected_timestamps, unit='s')\n",
    "#         df = pd.DataFrame(gyro_data[[\"x\", \"y\", \"z\"]].byteswap().newbyteorder())\n",
    "#         df['time'] = corrected_datetimes\n",
    "#         all_gyro_data.append(df)\n",
    "#     all_gyro_data = pd.concat(all_gyro_data)\n",
    "#     \n",
    "# # # # # # # # # # # # # # # # #     return all_acc_data, all_gyro_data"
   ],
   "metadata": {
    "collapsed": false
   },
   "id": "db43761001272d56",
   "execution_count": null
  },
  {
   "cell_type": "code",
   "outputs": [],
   "source": [
    "# def sync(acc_data, gyro_data):\n",
    "#     \"\"\"\n",
    "#     Synchronizes accelerometer and gyroscope data based on their time stamps.\n",
    "# \n",
    "#     Parameters:\n",
    "#     acc_data (pd.DataFrame): DataFrame containing accelerometer data with columns ['time', 'x', 'y', 'z'].\n",
    "#     gyro_data (pd.DataFrame): DataFrame containing gyroscope data with columns ['time', 'x', 'y', 'z'].\n",
    "# \n",
    "#     Returns:\n",
    "#     pd.DataFrame: Synchronized accelerometer data.\n",
    "#     pd.DataFrame: Synchronized gyroscope data.\n",
    "#     \"\"\"\n",
    "#     # Find the common time range\n",
    "#     common_start_time = max(acc_data['time'].min(), gyro_data['time'].min())\n",
    "#     common_end_time = min(acc_data['time'].max(), gyro_data['time'].max())\n",
    "# \n",
    "#     # Filter data based on the common time range\n",
    "#     acc_synced = acc_data[(acc_data['time'] >= common_start_time) & (acc_data['time'] <= common_end_time)]\n",
    "#     gyro_synced = gyro_data[(gyro_data['time'] >= common_start_time) & (gyro_data['time'] <= common_end_time)]\n",
    "#     \n",
    "# # # # # # # # # # # # # # # # # # # # # # # # # # # # # #     return acc_synced.reset_index(drop=True), gyro_synced.reset_index(drop=True)"
   ],
   "metadata": {
    "collapsed": false
   },
   "id": "2fd45e73a0c8a17b",
   "execution_count": null
  },
  {
   "cell_type": "code",
   "outputs": [],
   "source": [
    "# def calculate_signal_stats(data):\n",
    "#     \"\"\"Calculate comprehensive signal statistics.\"\"\"\n",
    "#     stats_dict = {\n",
    "#         'range': (data[['x', 'y', 'z']].min(), data[['x', 'y', 'z']].max()),\n",
    "#         'mean': data[['x', 'y', 'z']].mean(),\n",
    "#         'std': data[['x', 'y', 'z']].std(),\n",
    "#         'skewness': data[['x', 'y', 'z']].apply(stats.skew),\n",
    "#         'kurtosis': data[['x', 'y', 'z']].apply(stats.kurtosis)\n",
    "#     }\n",
    "#     return stats_dict\n",
    "# \n",
    "# def calculate_snr(data):\n",
    "#     \"\"\"Calculate Signal-to-Noise Ratio.\"\"\"\n",
    "#     signal_power = np.mean(data ** 2, axis=0)\n",
    "#     noise_power = np.var(data, axis=0)\n",
    "#     return 10 * np.log10(signal_power / noise_power)\n",
    "# \n",
    "# def analyze_spectrum(data, sampling_rate=100):\n",
    "#     \"\"\"Perform spectral analysis.\"\"\"\n",
    "#     n = len(data)\n",
    "#     freqs = np.fft.fftfreq(n, 1/sampling_rate)\n",
    "#     fft_vals = np.fft.fft(data[['x', 'y', 'z']].values, axis=0)\n",
    "#     power = np.abs(fft_vals) ** 2\n",
    "# \n",
    "#     # Calculate power in different frequency bands\n",
    "#     low_mask = (freqs >= 0.1) & (freqs < 3)\n",
    "#     mid_mask = (freqs >= 3) & (freqs < 10)\n",
    "#     high_mask = freqs >= 10\n",
    "#     \n",
    "#     power_dist = {\n",
    "#         'low_freq': power[low_mask].sum(axis=0),\n",
    "#         'mid_freq': power[mid_mask].sum(axis=0),\n",
    "#         'high_freq': power[high_mask].sum(axis=0)\n",
    "#     }\n",
    "#     \n",
    "# # # # # # # # # # # # # # #     return freqs, power, power_dist"
   ],
   "metadata": {
    "collapsed": false
   },
   "id": "f1797ff2f996b71d",
   "execution_count": null
  },
  {
   "cell_type": "code",
   "outputs": [],
   "source": [
    "# def analyze_dataset(base_path):\n",
    "#     # Load data\n",
    "#     acc_data, gyro_data = load_raw_sensor_data(base_path)\n",
    "# \n",
    "#     # Synchronize accelerometer and gyroscope data\n",
    "#     acc_synced, gyro_synced = sync(acc_data, gyro_data)\n",
    "# \n",
    "#     # Calculate session duration\n",
    "#     session_duration = (acc_synced['time'].iloc[-1] - acc_synced['time'].iloc[0]).total_seconds()\n",
    "# \n",
    "#     # Calculate statistics for accelerometer and gyroscope data\n",
    "#     acc_stats = calculate_signal_stats(acc_synced)\n",
    "#     gyro_stats = calculate_signal_stats(gyro_synced)\n",
    "# \n",
    "#     # Perform spectral analysis\n",
    "#     sampling_rate = 100  # Assuming 100 Hz sampling rate\n",
    "#     acc_spectrum = analyze_spectrum(acc_synced, sampling_rate)\n",
    "#     gyro_spectrum = analyze_spectrum(gyro_synced, sampling_rate)\n",
    "# \n",
    "#     # Plotting session duration distribution\n",
    "#     plt.figure(figsize=(10, 6))\n",
    "#     sns.histplot([session_duration], kde=False, bins=10)\n",
    "#     plt.title('Session Duration Distribution')\n",
    "#     plt.xlabel('Duration (seconds)')\n",
    "#     plt.ylabel('Frequency')\n",
    "#     plt.savefig('/mnt/data/session_duration_dist.png')\n",
    "# \n",
    "#     # Plot spectral power for accelerometer data in frequency bands\n",
    "#     plt.figure(figsize=(10, 6))\n",
    "#     freq_labels = ['Low Frequency', 'Mid Frequency', 'High Frequency']\n",
    "#     acc_power_values = [acc_spectrum[2]['low_freq'], acc_spectrum[2]['mid_freq'], acc_spectrum[2]['high_freq']]\n",
    "# \n",
    "#     for i, label in enumerate(['X', 'Y', 'Z']):\n",
    "#         plt.plot(freq_labels, [power[i] for power in acc_power_values], label=f'Axis {label}')\n",
    "# \n",
    "#     plt.title('Spectral Power Distribution (Accelerometer)')\n",
    "#     plt.xlabel('Frequency Band')\n",
    "#     plt.ylabel('Power')\n",
    "#     plt.legend()\n",
    "#     plt.savefig('/mnt/data/acc_spectral_power_dist.png')\n",
    "# \n",
    "#     Plot spectral power for gyroscope data in frequency bands\n",
    "    # plt.figure(figsize=(10, 6))\n",
    "    # gyro_power_values = [gyro_spectrum[2]['low_freq'], gyro_spectrum[2]['mid_freq'], gyro_spectrum[2]['high_freq']]\n",
    "    # \n",
    "    # for i, label in enumerate(['X', 'Y', 'Z']):\n",
    "    #     plt.plot(freq_labels, [power[i] for power in gyro_power_values], label=f'Axis {label}')\n",
    "    # \n",
    "    # plt.title('Spectral Power Distribution (Gyroscope)')\n",
    "    # plt.xlabel('Frequency Band')\n",
    "    # plt.ylabel('Power')\n",
    "    # plt.legend()\n",
    "    # plt.savefig('/mnt/data/gyro_spectral_power_dist.png')"
   ],
   "metadata": {
    "collapsed": false
   },
   "id": "94ecadf99d941593"
  },
  {
   "cell_type": "code",
   "outputs": [],
   "source": [
    "# # Usage example for a Jupyter notebook\n",
    "# dataset_path = \"path/to/raw\"\n",
    "# analyze_dataset(dataset_path)\n"
   ],
   "metadata": {
    "collapsed": false
   },
   "id": "e2b04410fd3b919d"
  },
  {
   "cell_type": "code",
   "outputs": [],
   "source": [
    "from src.analysis.data_specs_thesis import *"
   ],
   "metadata": {
    "collapsed": false,
    "ExecuteTime": {
     "end_time": "2024-10-28T12:37:56.379514Z",
     "start_time": "2024-10-28T12:37:55.322365Z"
    }
   },
   "id": "4722b79b5431f150",
   "execution_count": 1
  },
  {
   "cell_type": "code",
   "outputs": [
    {
     "name": "stderr",
     "output_type": "stream",
     "text": [
      "/opt/homebrew/Caskroom/miniforge/base/envs/pyenv/lib/python3.11/site-packages/scipy/signal/_spectral_py.py:2014: UserWarning: nperseg = 1024 is greater than input length  = 3, using nperseg = 3\n",
      "  warnings.warn('nperseg = {0:d} is greater than input length '\n"
     ]
    },
    {
     "ename": "IndexError",
     "evalue": "boolean index did not match indexed array along dimension 0; dimension is 1800416 but corresponding boolean dimension is 2",
     "output_type": "error",
     "traceback": [
      "\u001B[0;31m---------------------------------------------------------------------------\u001B[0m",
      "\u001B[0;31mIndexError\u001B[0m                                Traceback (most recent call last)",
      "Cell \u001B[0;32mIn[2], line 5\u001B[0m\n\u001B[1;32m      2\u001B[0m path_to_save \u001B[38;5;241m=\u001B[39m \u001B[38;5;124m'\u001B[39m\u001B[38;5;124m.\u001B[39m\u001B[38;5;124m'\u001B[39m\n\u001B[1;32m      4\u001B[0m analyzer \u001B[38;5;241m=\u001B[39m IMUDatasetAnalyzer(path_to_data)\n\u001B[0;32m----> 5\u001B[0m results \u001B[38;5;241m=\u001B[39m \u001B[43manalyzer\u001B[49m\u001B[38;5;241;43m.\u001B[39;49m\u001B[43manalyze_dataset\u001B[49m\u001B[43m(\u001B[49m\u001B[43mpath_to_save\u001B[49m\u001B[43m)\u001B[49m\n",
      "File \u001B[0;32m~/Documents/repos/Thesis/Sensor-Dataset-Preprocessing/src/analysis/data_specs_thesis.py:231\u001B[0m, in \u001B[0;36mIMUDatasetAnalyzer.analyze_dataset\u001B[0;34m(self, output_path)\u001B[0m\n\u001B[1;32m    222\u001B[0m \u001B[38;5;28mself\u001B[39m\u001B[38;5;241m.\u001B[39mresults[\u001B[38;5;124m'\u001B[39m\u001B[38;5;124msampling_stats\u001B[39m\u001B[38;5;124m'\u001B[39m] \u001B[38;5;241m=\u001B[39m {\n\u001B[1;32m    223\u001B[0m     \u001B[38;5;124m'\u001B[39m\u001B[38;5;124maccelerometer\u001B[39m\u001B[38;5;124m'\u001B[39m: \u001B[38;5;28mself\u001B[39m\u001B[38;5;241m.\u001B[39mcalculate_sampling_stats(all_acc),\n\u001B[1;32m    224\u001B[0m     \u001B[38;5;124m'\u001B[39m\u001B[38;5;124mgyroscope\u001B[39m\u001B[38;5;124m'\u001B[39m: \u001B[38;5;28mself\u001B[39m\u001B[38;5;241m.\u001B[39mcalculate_sampling_stats(all_gyro)\n\u001B[1;32m    225\u001B[0m }\n\u001B[1;32m    227\u001B[0m \u001B[38;5;66;03m# Spectral analysis\u001B[39;00m\n\u001B[1;32m    228\u001B[0m \u001B[38;5;28mself\u001B[39m\u001B[38;5;241m.\u001B[39mresults[\u001B[38;5;124m'\u001B[39m\u001B[38;5;124maccelerometer_spectrum\u001B[39m\u001B[38;5;124m'\u001B[39m] \u001B[38;5;241m=\u001B[39m {\n\u001B[1;32m    229\u001B[0m     \u001B[38;5;124m'\u001B[39m\u001B[38;5;124mfreqs\u001B[39m\u001B[38;5;124m'\u001B[39m: \u001B[38;5;28;01mNone\u001B[39;00m,\n\u001B[1;32m    230\u001B[0m     \u001B[38;5;124m'\u001B[39m\u001B[38;5;124mpower\u001B[39m\u001B[38;5;124m'\u001B[39m: \u001B[38;5;28;01mNone\u001B[39;00m,\n\u001B[0;32m--> 231\u001B[0m     \u001B[38;5;124m'\u001B[39m\u001B[38;5;124mpower_dist\u001B[39m\u001B[38;5;124m'\u001B[39m: \u001B[38;5;28;43mself\u001B[39;49m\u001B[38;5;241;43m.\u001B[39;49m\u001B[43manalyze_spectrum\u001B[49m\u001B[43m(\u001B[49m\u001B[43mall_acc\u001B[49m\u001B[43m)\u001B[49m[\u001B[38;5;241m2\u001B[39m]\n\u001B[1;32m    232\u001B[0m }\n\u001B[1;32m    233\u001B[0m \u001B[38;5;28mself\u001B[39m\u001B[38;5;241m.\u001B[39mresults[\u001B[38;5;124m'\u001B[39m\u001B[38;5;124mgyroscope_spectrum\u001B[39m\u001B[38;5;124m'\u001B[39m] \u001B[38;5;241m=\u001B[39m {\n\u001B[1;32m    234\u001B[0m     \u001B[38;5;124m'\u001B[39m\u001B[38;5;124mfreqs\u001B[39m\u001B[38;5;124m'\u001B[39m: \u001B[38;5;28;01mNone\u001B[39;00m,\n\u001B[1;32m    235\u001B[0m     \u001B[38;5;124m'\u001B[39m\u001B[38;5;124mpower\u001B[39m\u001B[38;5;124m'\u001B[39m: \u001B[38;5;28;01mNone\u001B[39;00m,\n\u001B[1;32m    236\u001B[0m     \u001B[38;5;124m'\u001B[39m\u001B[38;5;124mpower_dist\u001B[39m\u001B[38;5;124m'\u001B[39m: \u001B[38;5;28mself\u001B[39m\u001B[38;5;241m.\u001B[39manalyze_spectrum(all_gyro)[\u001B[38;5;241m2\u001B[39m]\n\u001B[1;32m    237\u001B[0m }\n\u001B[1;32m    239\u001B[0m \u001B[38;5;66;03m# Generate plots\u001B[39;00m\n",
      "File \u001B[0;32m~/Documents/repos/Thesis/Sensor-Dataset-Preprocessing/src/analysis/data_specs_thesis.py:115\u001B[0m, in \u001B[0;36mIMUDatasetAnalyzer.analyze_spectrum\u001B[0;34m(self, data)\u001B[0m\n\u001B[1;32m    110\u001B[0m mid_mask \u001B[38;5;241m=\u001B[39m (freqs \u001B[38;5;241m>\u001B[39m\u001B[38;5;241m=\u001B[39m \u001B[38;5;241m3\u001B[39m) \u001B[38;5;241m&\u001B[39m (freqs \u001B[38;5;241m<\u001B[39m \u001B[38;5;241m10\u001B[39m)\n\u001B[1;32m    111\u001B[0m high_mask \u001B[38;5;241m=\u001B[39m freqs \u001B[38;5;241m>\u001B[39m\u001B[38;5;241m=\u001B[39m \u001B[38;5;241m10\u001B[39m\n\u001B[1;32m    113\u001B[0m power_dist \u001B[38;5;241m=\u001B[39m {\n\u001B[1;32m    114\u001B[0m     \u001B[38;5;124m'\u001B[39m\u001B[38;5;124mlow_freq\u001B[39m\u001B[38;5;124m'\u001B[39m: {\n\u001B[0;32m--> 115\u001B[0m         \u001B[38;5;124m'\u001B[39m\u001B[38;5;124mx\u001B[39m\u001B[38;5;124m'\u001B[39m: np\u001B[38;5;241m.\u001B[39msum(\u001B[43mPxx\u001B[49m\u001B[43m[\u001B[49m\u001B[43mlow_mask\u001B[49m\u001B[43m,\u001B[49m\u001B[43m \u001B[49m\u001B[38;5;241;43m0\u001B[39;49m\u001B[43m]\u001B[49m),\n\u001B[1;32m    116\u001B[0m         \u001B[38;5;124m'\u001B[39m\u001B[38;5;124my\u001B[39m\u001B[38;5;124m'\u001B[39m: np\u001B[38;5;241m.\u001B[39msum(Pxx[low_mask, \u001B[38;5;241m1\u001B[39m]),\n\u001B[1;32m    117\u001B[0m         \u001B[38;5;124m'\u001B[39m\u001B[38;5;124mz\u001B[39m\u001B[38;5;124m'\u001B[39m: np\u001B[38;5;241m.\u001B[39msum(Pxx[low_mask, \u001B[38;5;241m2\u001B[39m])\n\u001B[1;32m    118\u001B[0m     },\n\u001B[1;32m    119\u001B[0m     \u001B[38;5;124m'\u001B[39m\u001B[38;5;124mmid_freq\u001B[39m\u001B[38;5;124m'\u001B[39m: {\n\u001B[1;32m    120\u001B[0m         \u001B[38;5;124m'\u001B[39m\u001B[38;5;124mx\u001B[39m\u001B[38;5;124m'\u001B[39m: np\u001B[38;5;241m.\u001B[39msum(Pxx[mid_mask, \u001B[38;5;241m0\u001B[39m]),\n\u001B[1;32m    121\u001B[0m         \u001B[38;5;124m'\u001B[39m\u001B[38;5;124my\u001B[39m\u001B[38;5;124m'\u001B[39m: np\u001B[38;5;241m.\u001B[39msum(Pxx[mid_mask, \u001B[38;5;241m1\u001B[39m]),\n\u001B[1;32m    122\u001B[0m         \u001B[38;5;124m'\u001B[39m\u001B[38;5;124mz\u001B[39m\u001B[38;5;124m'\u001B[39m: np\u001B[38;5;241m.\u001B[39msum(Pxx[mid_mask, \u001B[38;5;241m2\u001B[39m])\n\u001B[1;32m    123\u001B[0m     },\n\u001B[1;32m    124\u001B[0m     \u001B[38;5;124m'\u001B[39m\u001B[38;5;124mhigh_freq\u001B[39m\u001B[38;5;124m'\u001B[39m: {\n\u001B[1;32m    125\u001B[0m         \u001B[38;5;124m'\u001B[39m\u001B[38;5;124mx\u001B[39m\u001B[38;5;124m'\u001B[39m: np\u001B[38;5;241m.\u001B[39msum(Pxx[high_mask, \u001B[38;5;241m0\u001B[39m]),\n\u001B[1;32m    126\u001B[0m         \u001B[38;5;124m'\u001B[39m\u001B[38;5;124my\u001B[39m\u001B[38;5;124m'\u001B[39m: np\u001B[38;5;241m.\u001B[39msum(Pxx[high_mask, \u001B[38;5;241m1\u001B[39m]),\n\u001B[1;32m    127\u001B[0m         \u001B[38;5;124m'\u001B[39m\u001B[38;5;124mz\u001B[39m\u001B[38;5;124m'\u001B[39m: np\u001B[38;5;241m.\u001B[39msum(Pxx[high_mask, \u001B[38;5;241m2\u001B[39m])\n\u001B[1;32m    128\u001B[0m     }\n\u001B[1;32m    129\u001B[0m }\n\u001B[1;32m    131\u001B[0m \u001B[38;5;28;01mreturn\u001B[39;00m freqs, Pxx, power_dist\n",
      "\u001B[0;31mIndexError\u001B[0m: boolean index did not match indexed array along dimension 0; dimension is 1800416 but corresponding boolean dimension is 2"
     ]
    }
   ],
   "source": [
    "path_to_data = '../data/raw'\n",
    "path_to_save = '.'\n",
    "\n",
    "analyzer = IMUDatasetAnalyzer(path_to_data)\n",
    "results = analyzer.analyze_dataset(path_to_save)"
   ],
   "metadata": {
    "collapsed": false,
    "ExecuteTime": {
     "end_time": "2024-10-28T12:38:45.571558Z",
     "start_time": "2024-10-28T12:38:44.556863Z"
    }
   },
   "id": "4d8998fede26f641",
   "execution_count": 2
  },
  {
   "cell_type": "code",
   "outputs": [],
   "source": [],
   "metadata": {
    "collapsed": false
   },
   "id": "5ebc032fdccd209c"
  }
 ],
 "metadata": {
  "kernelspec": {
   "display_name": "Python 3",
   "language": "python",
   "name": "python3"
  },
  "language_info": {
   "codemirror_mode": {
    "name": "ipython",
    "version": 2
   },
   "file_extension": ".py",
   "mimetype": "text/x-python",
   "name": "python",
   "nbconvert_exporter": "python",
   "pygments_lexer": "ipython2",
   "version": "2.7.6"
  }
 },
 "nbformat": 4,
 "nbformat_minor": 5
}
