{
 "cells": [
  {
   "cell_type": "code",
   "execution_count": 1,
   "id": "initial_id",
   "metadata": {
    "collapsed": true,
    "ExecuteTime": {
     "end_time": "2023-11-09T11:35:18.139248Z",
     "start_time": "2023-11-09T11:35:17.242627Z"
    }
   },
   "outputs": [],
   "source": [
    "%matplotlib notebook\n",
    "from src.utils.data_visualization import plot_parquet\n",
    "from src.main.data_io import read_parquet"
   ]
  },
  {
   "cell_type": "code",
   "execution_count": null,
   "outputs": [],
   "source": [
    "data = read_parquet('../data/processed/1')\n",
    "plot_parquet(data, 'Subject 1')"
   ],
   "metadata": {
    "collapsed": false
   },
   "id": "703e2a61360d725e"
  }
 ],
 "metadata": {
  "kernelspec": {
   "display_name": "Python 3",
   "language": "python",
   "name": "python3"
  },
  "language_info": {
   "codemirror_mode": {
    "name": "ipython",
    "version": 2
   },
   "file_extension": ".py",
   "mimetype": "text/x-python",
   "name": "python",
   "nbconvert_exporter": "python",
   "pygments_lexer": "ipython2",
   "version": "2.7.6"
  }
 },
 "nbformat": 4,
 "nbformat_minor": 5
}
