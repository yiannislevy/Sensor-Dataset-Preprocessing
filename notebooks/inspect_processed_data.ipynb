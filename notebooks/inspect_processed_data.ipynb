{
 "cells": [
  {
   "cell_type": "code",
   "execution_count": 4,
   "id": "initial_id",
   "metadata": {
    "collapsed": true,
    "ExecuteTime": {
     "end_time": "2023-11-09T12:38:47.455438Z",
     "start_time": "2023-11-09T12:38:47.446981Z"
    }
   },
   "outputs": [],
   "source": [
    "%matplotlib notebook\n",
    "from src.utils.data_visualization import plot_parquet\n",
    "from src.main.data_io import read_parquet"
   ]
  },
  {
   "cell_type": "code",
   "execution_count": 5,
   "outputs": [],
   "source": [
    "data = read_parquet('../data/processed/1')\n",
    "# plot_parquet(data, 'Subject 1')"
   ],
   "metadata": {
    "collapsed": false,
    "ExecuteTime": {
     "end_time": "2023-11-09T12:38:48.007252Z",
     "start_time": "2023-11-09T12:38:47.947490Z"
    }
   },
   "id": "703e2a61360d725e"
  },
  {
   "cell_type": "code",
   "execution_count": 6,
   "outputs": [
    {
     "data": {
      "text/plain": "                             t       a_x       a_y       a_z       g_x  \\\n0      2023-09-27 12:38:43.604  0.106021 -0.227698 -0.239235  1.672224   \n1      2023-09-27 12:38:43.614  1.857115 -1.681006 -0.204673  2.082952   \n2      2023-09-27 12:38:43.624  2.193940 -1.950824 -0.861491  2.087626   \n3      2023-09-27 12:38:43.634  2.530216 -2.158210 -3.333983  2.233608   \n4      2023-09-27 12:38:43.644  1.907627 -2.243562 -3.661242  2.850063   \n...                        ...       ...       ...       ...       ...   \n163620 2023-09-27 13:05:59.804 -0.021379  0.350960 -0.123973  0.586466   \n163621 2023-09-27 13:05:59.814 -0.014037  0.135651 -0.039075  0.599508   \n163622 2023-09-27 13:05:59.824 -0.051455 -0.075895 -0.056433  0.567417   \n163623 2023-09-27 13:05:59.834 -0.041715  0.034369 -0.072733  0.567417   \n163624 2023-09-27 13:05:59.844 -0.030771  0.145742 -0.142856  0.349682   \n\n              g_y       g_z  \n0       10.386742  1.724892  \n1       10.653624  1.724892  \n2       11.043887  1.770492  \n3       11.641262  1.770492  \n4       11.375137  1.770492  \n...           ...       ...  \n163620  -0.608559  0.276010  \n163621  -0.630333  0.276010  \n163622  -0.630333  0.276010  \n163623  -0.630333  0.276010  \n163624  -0.363222  0.193122  \n\n[163625 rows x 7 columns]",
      "text/html": "<div>\n<style scoped>\n    .dataframe tbody tr th:only-of-type {\n        vertical-align: middle;\n    }\n\n    .dataframe tbody tr th {\n        vertical-align: top;\n    }\n\n    .dataframe thead th {\n        text-align: right;\n    }\n</style>\n<table border=\"1\" class=\"dataframe\">\n  <thead>\n    <tr style=\"text-align: right;\">\n      <th></th>\n      <th>t</th>\n      <th>a_x</th>\n      <th>a_y</th>\n      <th>a_z</th>\n      <th>g_x</th>\n      <th>g_y</th>\n      <th>g_z</th>\n    </tr>\n  </thead>\n  <tbody>\n    <tr>\n      <th>0</th>\n      <td>2023-09-27 12:38:43.604</td>\n      <td>0.106021</td>\n      <td>-0.227698</td>\n      <td>-0.239235</td>\n      <td>1.672224</td>\n      <td>10.386742</td>\n      <td>1.724892</td>\n    </tr>\n    <tr>\n      <th>1</th>\n      <td>2023-09-27 12:38:43.614</td>\n      <td>1.857115</td>\n      <td>-1.681006</td>\n      <td>-0.204673</td>\n      <td>2.082952</td>\n      <td>10.653624</td>\n      <td>1.724892</td>\n    </tr>\n    <tr>\n      <th>2</th>\n      <td>2023-09-27 12:38:43.624</td>\n      <td>2.193940</td>\n      <td>-1.950824</td>\n      <td>-0.861491</td>\n      <td>2.087626</td>\n      <td>11.043887</td>\n      <td>1.770492</td>\n    </tr>\n    <tr>\n      <th>3</th>\n      <td>2023-09-27 12:38:43.634</td>\n      <td>2.530216</td>\n      <td>-2.158210</td>\n      <td>-3.333983</td>\n      <td>2.233608</td>\n      <td>11.641262</td>\n      <td>1.770492</td>\n    </tr>\n    <tr>\n      <th>4</th>\n      <td>2023-09-27 12:38:43.644</td>\n      <td>1.907627</td>\n      <td>-2.243562</td>\n      <td>-3.661242</td>\n      <td>2.850063</td>\n      <td>11.375137</td>\n      <td>1.770492</td>\n    </tr>\n    <tr>\n      <th>...</th>\n      <td>...</td>\n      <td>...</td>\n      <td>...</td>\n      <td>...</td>\n      <td>...</td>\n      <td>...</td>\n      <td>...</td>\n    </tr>\n    <tr>\n      <th>163620</th>\n      <td>2023-09-27 13:05:59.804</td>\n      <td>-0.021379</td>\n      <td>0.350960</td>\n      <td>-0.123973</td>\n      <td>0.586466</td>\n      <td>-0.608559</td>\n      <td>0.276010</td>\n    </tr>\n    <tr>\n      <th>163621</th>\n      <td>2023-09-27 13:05:59.814</td>\n      <td>-0.014037</td>\n      <td>0.135651</td>\n      <td>-0.039075</td>\n      <td>0.599508</td>\n      <td>-0.630333</td>\n      <td>0.276010</td>\n    </tr>\n    <tr>\n      <th>163622</th>\n      <td>2023-09-27 13:05:59.824</td>\n      <td>-0.051455</td>\n      <td>-0.075895</td>\n      <td>-0.056433</td>\n      <td>0.567417</td>\n      <td>-0.630333</td>\n      <td>0.276010</td>\n    </tr>\n    <tr>\n      <th>163623</th>\n      <td>2023-09-27 13:05:59.834</td>\n      <td>-0.041715</td>\n      <td>0.034369</td>\n      <td>-0.072733</td>\n      <td>0.567417</td>\n      <td>-0.630333</td>\n      <td>0.276010</td>\n    </tr>\n    <tr>\n      <th>163624</th>\n      <td>2023-09-27 13:05:59.844</td>\n      <td>-0.030771</td>\n      <td>0.145742</td>\n      <td>-0.142856</td>\n      <td>0.349682</td>\n      <td>-0.363222</td>\n      <td>0.193122</td>\n    </tr>\n  </tbody>\n</table>\n<p>163625 rows × 7 columns</p>\n</div>"
     },
     "execution_count": 6,
     "metadata": {},
     "output_type": "execute_result"
    }
   ],
   "source": [
    "data"
   ],
   "metadata": {
    "collapsed": false,
    "ExecuteTime": {
     "end_time": "2023-11-09T12:38:50.478233Z",
     "start_time": "2023-11-09T12:38:50.460989Z"
    }
   },
   "id": "583c8636ec024593"
  },
  {
   "cell_type": "code",
   "execution_count": null,
   "outputs": [],
   "source": [],
   "metadata": {
    "collapsed": false
   },
   "id": "999349a35b2c9769"
  }
 ],
 "metadata": {
  "kernelspec": {
   "display_name": "Python 3",
   "language": "python",
   "name": "python3"
  },
  "language_info": {
   "codemirror_mode": {
    "name": "ipython",
    "version": 2
   },
   "file_extension": ".py",
   "mimetype": "text/x-python",
   "name": "python",
   "nbconvert_exporter": "python",
   "pygments_lexer": "ipython2",
   "version": "2.7.6"
  }
 },
 "nbformat": 4,
 "nbformat_minor": 5
}
