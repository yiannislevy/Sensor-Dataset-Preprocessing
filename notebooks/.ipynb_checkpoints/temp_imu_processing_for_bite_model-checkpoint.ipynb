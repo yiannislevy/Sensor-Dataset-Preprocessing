{
 "cells": [
  {
   "cell_type": "code",
   "execution_count": 1,
   "id": "initial_id",
   "metadata": {
    "ExecuteTime": {
     "end_time": "2023-11-23T14:25:45.751619Z",
     "start_time": "2023-11-23T14:25:45.148455Z"
    }
   },
   "outputs": [],
   "source": [
    "import json\n",
    "from src.main.imu_data_io import load_raw_sensor_data, save_data\n",
    "from src.main.imu_preprocessing import sync, resample, remove_gravity, combine_sensor_data\n",
    "from src.utils.tools import moving_average_filter, align_old_msft_watch\n",
    "from src.utils.imu_data_visualization import plot_raw_sensor\n",
    "from src.utils.tools import plot_pickle"
   ]
  },
  {
   "cell_type": "code",
   "execution_count": null,
   "id": "17cd808028be4d5e",
   "metadata": {
    "ExecuteTime": {
     "end_time": "2023-11-23T14:25:45.755166Z",
     "start_time": "2023-11-23T14:25:45.752192Z"
    }
   },
   "outputs": [],
   "source": [
    "with open('../config/imu_config.json') as config_file:\n",
    "    config = json.load(config_file)\n",
    "upsample_frequency = config['resampling']['upsample_frequency']"
   ]
  },
  {
   "cell_type": "code",
   "execution_count": null,
   "id": "659b075512eeb619",
   "metadata": {
    "ExecuteTime": {
     "end_time": "2023-11-23T14:25:45.758413Z",
     "start_time": "2023-11-23T14:25:45.755454Z"
    }
   },
   "outputs": [],
   "source": [
    "def process_data(data, steps, plot_each_step=False):\n",
    "    for i, step in enumerate(steps):\n",
    "        data = step(*data)\n",
    "        if plot_each_step:\n",
    "            plot_raw_sensor(data, title=f'Step {i+1}: {step.__name__}')\n",
    "    return data"
   ]
  },
  {
   "cell_type": "code",
   "execution_count": null,
   "id": "2c27fa7a9233bee7",
   "metadata": {
    "ExecuteTime": {
     "end_time": "2023-11-23T14:25:45.761368Z",
     "start_time": "2023-11-23T14:25:45.758305Z"
    }
   },
   "outputs": [],
   "source": [
    "steps = [\n",
    "    lambda acc, gyro: sync(acc, gyro),\n",
    "    lambda acc, gyro: resample(acc, gyro, 100),\n",
    "    lambda acc, gyro: (remove_gravity(acc, upsample_frequency), gyro),\n",
    "    lambda acc, gyro: moving_average_filter(acc, gyro),\n",
    "    lambda acc, gyro: align_old_msft_watch(acc, gyro)\n",
    "]"
   ]
  },
  {
   "cell_type": "code",
   "execution_count": null,
   "id": "1d75e5a90312656",
   "metadata": {
    "ExecuteTime": {
     "end_time": "2023-11-23T14:25:45.767963Z",
     "start_time": "2023-11-23T14:25:45.761293Z"
    }
   },
   "outputs": [],
   "source": [
    "acc_data, gyro_data = load_raw_sensor_data('../data/raw/19')"
   ]
  },
  {
   "cell_type": "code",
   "execution_count": null,
   "id": "50396f3e24abb1d0",
   "metadata": {
    "ExecuteTime": {
     "end_time": "2023-11-23T14:25:45.865553Z",
     "start_time": "2023-11-23T14:25:45.777207Z"
    }
   },
   "outputs": [],
   "source": [
    "acc_processed, gyro_processed = process_data((acc_data, gyro_data), steps)"
   ]
  },
  {
   "cell_type": "code",
   "execution_count": null,
   "id": "387a3867de2d4406",
   "metadata": {
    "ExecuteTime": {
     "end_time": "2023-11-23T14:25:45.868658Z",
     "start_time": "2023-11-23T14:25:45.864380Z"
    }
   },
   "outputs": [],
   "source": [
    "R = combine_sensor_data(acc_processed, gyro_processed)"
   ]
  },
  {
   "cell_type": "code",
   "execution_count": null,
   "id": "810e2503cfd09c40",
   "metadata": {
    "ExecuteTime": {
     "end_time": "2023-11-23T14:25:45.871454Z",
     "start_time": "2023-11-23T14:25:45.867570Z"
    }
   },
   "outputs": [],
   "source": [
    "save_data(R, '..', 'R19', 'pickle')"
   ]
  },
  {
   "cell_type": "code",
   "execution_count": 2,
   "id": "96e73a9f473d4b56",
   "metadata": {
    "ExecuteTime": {
     "end_time": "2023-11-23T14:26:45.928240Z",
     "start_time": "2023-11-23T14:26:45.514471Z"
    }
   },
   "outputs": [
    {
     "ename": "FileNotFoundError",
     "evalue": "[Errno 2] No such file or directory: '../R19/R19.pickle'",
     "output_type": "error",
     "traceback": [
      "\u001b[0;31m---------------------------------------------------------------------------\u001b[0m",
      "\u001b[0;31mFileNotFoundError\u001b[0m                         Traceback (most recent call last)",
      "Cell \u001b[0;32mIn[2], line 1\u001b[0m\n\u001b[0;32m----> 1\u001b[0m \u001b[43mplot_pickle\u001b[49m\u001b[43m(\u001b[49m\u001b[38;5;124;43m'\u001b[39;49m\u001b[38;5;124;43m..\u001b[39;49m\u001b[38;5;124;43m'\u001b[39;49m\u001b[43m,\u001b[49m\u001b[43m \u001b[49m\u001b[38;5;124;43m'\u001b[39;49m\u001b[38;5;124;43mR19\u001b[39;49m\u001b[38;5;124;43m'\u001b[39;49m\u001b[43m,\u001b[49m\u001b[43m \u001b[49m\u001b[38;5;124;43m'\u001b[39;49m\u001b[38;5;124;43m19\u001b[39;49m\u001b[38;5;124;43m'\u001b[39;49m\u001b[43m)\u001b[49m\n",
      "File \u001b[0;32m~/Documents/repos/Thesis/Sensor-Dataset-Preprocessing/src/utils/tools.py:141\u001b[0m, in \u001b[0;36mplot_pickle\u001b[0;34m(processed_data_directory, subject_id, title_prefix)\u001b[0m\n\u001b[1;32m    138\u001b[0m file_path \u001b[38;5;241m=\u001b[39m os\u001b[38;5;241m.\u001b[39mpath\u001b[38;5;241m.\u001b[39mjoin(processed_data_directory, subject_id, \u001b[38;5;124mf\u001b[39m\u001b[38;5;124m\"\u001b[39m\u001b[38;5;132;01m{\u001b[39;00msubject_id\u001b[38;5;132;01m}\u001b[39;00m\u001b[38;5;124m.pickle\u001b[39m\u001b[38;5;124m\"\u001b[39m)\n\u001b[1;32m    140\u001b[0m \u001b[38;5;66;03m# Load the data from pickle file\u001b[39;00m\n\u001b[0;32m--> 141\u001b[0m M \u001b[38;5;241m=\u001b[39m \u001b[43mpd\u001b[49m\u001b[38;5;241;43m.\u001b[39;49m\u001b[43mread_pickle\u001b[49m\u001b[43m(\u001b[49m\u001b[43mfile_path\u001b[49m\u001b[43m)\u001b[49m\n\u001b[1;32m    143\u001b[0m \u001b[38;5;66;03m# Split the data into accelerometer and gyroscope parts\u001b[39;00m\n\u001b[1;32m    144\u001b[0m acc_data \u001b[38;5;241m=\u001b[39m M[[\u001b[38;5;124m'\u001b[39m\u001b[38;5;124mt\u001b[39m\u001b[38;5;124m'\u001b[39m, \u001b[38;5;124m'\u001b[39m\u001b[38;5;124ma_x\u001b[39m\u001b[38;5;124m'\u001b[39m, \u001b[38;5;124m'\u001b[39m\u001b[38;5;124ma_y\u001b[39m\u001b[38;5;124m'\u001b[39m, \u001b[38;5;124m'\u001b[39m\u001b[38;5;124ma_z\u001b[39m\u001b[38;5;124m'\u001b[39m]]\n",
      "File \u001b[0;32m/opt/homebrew/Caskroom/miniforge/base/envs/pyenv/lib/python3.11/site-packages/pandas/io/pickle.py:190\u001b[0m, in \u001b[0;36mread_pickle\u001b[0;34m(filepath_or_buffer, compression, storage_options)\u001b[0m\n\u001b[1;32m    124\u001b[0m \u001b[38;5;124;03m\"\"\"\u001b[39;00m\n\u001b[1;32m    125\u001b[0m \u001b[38;5;124;03mLoad pickled pandas object (or any object) from file.\u001b[39;00m\n\u001b[1;32m    126\u001b[0m \n\u001b[0;32m   (...)\u001b[0m\n\u001b[1;32m    187\u001b[0m \u001b[38;5;124;03m4    4    9\u001b[39;00m\n\u001b[1;32m    188\u001b[0m \u001b[38;5;124;03m\"\"\"\u001b[39;00m\n\u001b[1;32m    189\u001b[0m excs_to_catch \u001b[38;5;241m=\u001b[39m (\u001b[38;5;167;01mAttributeError\u001b[39;00m, \u001b[38;5;167;01mImportError\u001b[39;00m, \u001b[38;5;167;01mModuleNotFoundError\u001b[39;00m, \u001b[38;5;167;01mTypeError\u001b[39;00m)\n\u001b[0;32m--> 190\u001b[0m \u001b[38;5;28;01mwith\u001b[39;00m \u001b[43mget_handle\u001b[49m\u001b[43m(\u001b[49m\n\u001b[1;32m    191\u001b[0m \u001b[43m    \u001b[49m\u001b[43mfilepath_or_buffer\u001b[49m\u001b[43m,\u001b[49m\n\u001b[1;32m    192\u001b[0m \u001b[43m    \u001b[49m\u001b[38;5;124;43m\"\u001b[39;49m\u001b[38;5;124;43mrb\u001b[39;49m\u001b[38;5;124;43m\"\u001b[39;49m\u001b[43m,\u001b[49m\n\u001b[1;32m    193\u001b[0m \u001b[43m    \u001b[49m\u001b[43mcompression\u001b[49m\u001b[38;5;241;43m=\u001b[39;49m\u001b[43mcompression\u001b[49m\u001b[43m,\u001b[49m\n\u001b[1;32m    194\u001b[0m \u001b[43m    \u001b[49m\u001b[43mis_text\u001b[49m\u001b[38;5;241;43m=\u001b[39;49m\u001b[38;5;28;43;01mFalse\u001b[39;49;00m\u001b[43m,\u001b[49m\n\u001b[1;32m    195\u001b[0m \u001b[43m    \u001b[49m\u001b[43mstorage_options\u001b[49m\u001b[38;5;241;43m=\u001b[39;49m\u001b[43mstorage_options\u001b[49m\u001b[43m,\u001b[49m\n\u001b[1;32m    196\u001b[0m \u001b[43m\u001b[49m\u001b[43m)\u001b[49m \u001b[38;5;28;01mas\u001b[39;00m handles:\n\u001b[1;32m    197\u001b[0m \n\u001b[1;32m    198\u001b[0m     \u001b[38;5;66;03m# 1) try standard library Pickle\u001b[39;00m\n\u001b[1;32m    199\u001b[0m     \u001b[38;5;66;03m# 2) try pickle_compat (older pandas version) to handle subclass changes\u001b[39;00m\n\u001b[1;32m    200\u001b[0m     \u001b[38;5;66;03m# 3) try pickle_compat with latin-1 encoding upon a UnicodeDecodeError\u001b[39;00m\n\u001b[1;32m    202\u001b[0m     \u001b[38;5;28;01mtry\u001b[39;00m:\n\u001b[1;32m    203\u001b[0m         \u001b[38;5;66;03m# TypeError for Cython complaints about object.__new__ vs Tick.__new__\u001b[39;00m\n\u001b[1;32m    204\u001b[0m         \u001b[38;5;28;01mtry\u001b[39;00m:\n",
      "File \u001b[0;32m/opt/homebrew/Caskroom/miniforge/base/envs/pyenv/lib/python3.11/site-packages/pandas/io/common.py:865\u001b[0m, in \u001b[0;36mget_handle\u001b[0;34m(path_or_buf, mode, encoding, compression, memory_map, is_text, errors, storage_options)\u001b[0m\n\u001b[1;32m    856\u001b[0m         handle \u001b[38;5;241m=\u001b[39m \u001b[38;5;28mopen\u001b[39m(\n\u001b[1;32m    857\u001b[0m             handle,\n\u001b[1;32m    858\u001b[0m             ioargs\u001b[38;5;241m.\u001b[39mmode,\n\u001b[0;32m   (...)\u001b[0m\n\u001b[1;32m    861\u001b[0m             newline\u001b[38;5;241m=\u001b[39m\u001b[38;5;124m\"\u001b[39m\u001b[38;5;124m\"\u001b[39m,\n\u001b[1;32m    862\u001b[0m         )\n\u001b[1;32m    863\u001b[0m     \u001b[38;5;28;01melse\u001b[39;00m:\n\u001b[1;32m    864\u001b[0m         \u001b[38;5;66;03m# Binary mode\u001b[39;00m\n\u001b[0;32m--> 865\u001b[0m         handle \u001b[38;5;241m=\u001b[39m \u001b[38;5;28;43mopen\u001b[39;49m\u001b[43m(\u001b[49m\u001b[43mhandle\u001b[49m\u001b[43m,\u001b[49m\u001b[43m \u001b[49m\u001b[43mioargs\u001b[49m\u001b[38;5;241;43m.\u001b[39;49m\u001b[43mmode\u001b[49m\u001b[43m)\u001b[49m\n\u001b[1;32m    866\u001b[0m     handles\u001b[38;5;241m.\u001b[39mappend(handle)\n\u001b[1;32m    868\u001b[0m \u001b[38;5;66;03m# Convert BytesIO or file objects passed with an encoding\u001b[39;00m\n",
      "\u001b[0;31mFileNotFoundError\u001b[0m: [Errno 2] No such file or directory: '../R19/R19.pickle'"
     ]
    }
   ],
   "source": [
    "plot_pickle('..', 'R19', '19')"
   ]
  },
  {
   "cell_type": "code",
   "execution_count": null,
   "id": "30ebf2dd30051ef2",
   "metadata": {},
   "outputs": [],
   "source": []
  }
 ],
 "metadata": {
  "kernelspec": {
   "display_name": "Python 3 (ipykernel)",
   "language": "python",
   "name": "python3"
  },
  "language_info": {
   "codemirror_mode": {
    "name": "ipython",
    "version": 3
   },
   "file_extension": ".py",
   "mimetype": "text/x-python",
   "name": "python",
   "nbconvert_exporter": "python",
   "pygments_lexer": "ipython3",
   "version": "3.11.0"
  }
 },
 "nbformat": 4,
 "nbformat_minor": 5
}
