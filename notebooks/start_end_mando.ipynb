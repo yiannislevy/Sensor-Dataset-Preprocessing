{
 "cells": [
  {
   "cell_type": "code",
   "execution_count": null,
   "id": "initial_id",
   "metadata": {
    "collapsed": true
   },
   "outputs": [],
   "source": [
    "# %matplotlib notebook\n",
    "import os\n",
    "import pandas as pd\n",
    "import numpy as np\n",
    "import matplotlib.pyplot as plt\n",
    "import matplotlib.dates as mdates\n",
    "import plotly.graph_objs as go\n",
    "from plotly.subplots import make_subplots\n",
    "from datetime import datetime, timedelta"
   ]
  },
  {
   "cell_type": "code",
   "execution_count": null,
   "outputs": [],
   "source": [
    "def load_data(path):\n",
    "    # Find the weight file in the directory\n",
    "    files = [f for f in os.listdir(path) if f.startswith('weights_') and f.endswith('.txt')]\n",
    "    if not files:\n",
    "        raise ValueError(f\"No weight files found in directory: {path}\")\n",
    "    # We assume there's only one file matching the pattern, hence we take the first one\n",
    "    file_path = os.path.join(path, files[0])\n",
    "    # Load the data using pandas\n",
    "    weights = pd.read_csv(file_path, header=None, names=['weight'])\n",
    "#     weights = weights[45:] # for 7,10,14,15,16 ->50,20,23,25,45\n",
    "    return weights['weight']"
   ],
   "metadata": {
    "collapsed": false
   },
   "id": "c170ad752d6db9fb"
  },
  {
   "cell_type": "code",
   "execution_count": null,
   "outputs": [],
   "source": [
    "def plot(data):\n",
    "    fig, axs = plt.subplots(2, 1, figsize=(15, 10), sharex=True)\n",
    "    \n",
    "    # Raw data plot\n",
    "    axs[0].plot(data, label='Raw Data', alpha=0.5, color='green')\n",
    "    axs[0].set_title('Raw Weight Data')\n",
    "    axs[0].set_ylabel('Weight (grams)')\n",
    "    axs[0].legend()\n",
    "    plt.interactive(False)\n",
    "    plt.show()"
   ],
   "metadata": {
    "collapsed": false
   },
   "id": "672c3d11f69e2cb"
  },
  {
   "cell_type": "code",
   "execution_count": null,
   "outputs": [],
   "source": [
    "def plot_ly(data):\n",
    "    fig = make_subplots(rows=2, cols=1, shared_xaxes=True)\n",
    "\n",
    "    # Raw data plot\n",
    "    fig.add_trace(go.Scatter(y=data, mode='lines', name='Raw Data', opacity=0.5, line=dict(color='green')), row=1, col=1)\n",
    "\n",
    "    # Update yaxis properties\n",
    "    fig.update_yaxes(title_text='Weight (grams)', row=1, col=1)\n",
    "\n",
    "    # Update titles with light mode theme color    \n",
    "    fig.update_layout(height=700, width=1000, title_text='Raw Weight Data', template='plotly_white')\n",
    "\n",
    "    fig.show()"
   ],
   "metadata": {
    "collapsed": false
   },
   "id": "b6113ddad7a8374d"
  },
  {
   "cell_type": "code",
   "execution_count": null,
   "outputs": [],
   "source": [
    "path = '../data/raw/19'\n",
    "weights = load_data(path).to_numpy()"
   ],
   "metadata": {
    "collapsed": false
   },
   "id": "55d8281969c1d4ef"
  },
  {
   "cell_type": "code",
   "execution_count": null,
   "outputs": [],
   "source": [
    "plot_ly(weights)"
   ],
   "metadata": {
    "collapsed": false
   },
   "id": "d9bd1a740694c325"
  },
  {
   "cell_type": "code",
   "execution_count": null,
   "outputs": [],
   "source": [
    "def process_meal_data(raw_data):\n",
    "    processed_data = []\n",
    "    last_valid_weight = raw_data[0]  # Initialize with the first measurement\n",
    "\n",
    "    for i in range(len(raw_data)):\n",
    "        if i < len(raw_data) - 1:  # Check if not at the last element\n",
    "            current_weight = raw_data[i]\n",
    "            next_weight = raw_data[i + 1]\n",
    "\n",
    "            # Check for a valid decrease\n",
    "            if last_valid_weight - current_weight <= 80 and \\\n",
    "               abs(next_weight - current_weight) <= 3:\n",
    "                last_valid_weight = current_weight\n",
    "\n",
    "        processed_data.append(last_valid_weight)\n",
    "\n",
    "    return processed_data"
   ],
   "metadata": {
    "collapsed": false
   },
   "id": "f97c9f9a36d4162d"
  },
  {
   "cell_type": "code",
   "execution_count": null,
   "outputs": [],
   "source": [
    "processed_data = process_meal_data(weights)\n",
    "weights\n",
    "processed_data"
   ],
   "metadata": {
    "collapsed": false
   },
   "id": "a80872b1934882e9"
  },
  {
   "cell_type": "code",
   "execution_count": null,
   "outputs": [],
   "source": [
    "plot_ly(processed_data)"
   ],
   "metadata": {
    "collapsed": false
   },
   "id": "c29e944d43948c35"
  },
  {
   "cell_type": "code",
   "execution_count": null,
   "outputs": [],
   "source": [
    "def process_meal_data_2(data, stability_range=3, max_decrease=70):\n",
    "    \"\"\"\n",
    "    Process the meal weight data to ensure decreases are within specified limits and stable.\n",
    "\n",
    "    Parameters:\n",
    "    data (list or np.array): The raw meal weight data.\n",
    "    stability_range (int): The allowed fluctuation range for considering a decrease as stable (default 3 grams).\n",
    "    max_decrease (int): Maximum allowed decrease in weight between two consecutive measurements (default 40 grams).\n",
    "\n",
    "    Returns:\n",
    "    np.array: The processed meal weight data with filtered decreases.\n",
    "    \"\"\"\n",
    "    if len(data) < 2:\n",
    "        return np.array(data)  # Not enough data to process\n",
    "\n",
    "    processed_data = np.copy(data)\n",
    "    for i in range(1, len(data)):\n",
    "        current_decrease = processed_data[i - 1] - processed_data[i]\n",
    "\n",
    "        # Check if decrease is more than the maximum allowed\n",
    "        if current_decrease > max_decrease:\n",
    "            processed_data[i] = processed_data[i - 1]\n",
    "        else:\n",
    "            # Check for stability in the next measurement (if exists)\n",
    "            if i < len(data) - 1:\n",
    "                next_decrease = processed_data[i] - data[i + 1]\n",
    "                if abs(next_decrease) > stability_range:\n",
    "                    processed_data[i] = processed_data[i - 1]\n",
    "\n",
    "    return processed_data"
   ],
   "metadata": {
    "collapsed": false
   },
   "id": "24835f1a14473b97"
  },
  {
   "cell_type": "code",
   "execution_count": null,
   "outputs": [],
   "source": [
    "processed_data = process_meal_data_2(weights)\n",
    "weights\n",
    "processed_data"
   ],
   "metadata": {
    "collapsed": false
   },
   "id": "f3f45c1541e1426b"
  },
  {
   "cell_type": "code",
   "execution_count": null,
   "outputs": [],
   "source": [
    "plot_ly(processed_data)"
   ],
   "metadata": {
    "collapsed": false
   },
   "id": "9fb95ba188495117"
  },
  {
   "cell_type": "code",
   "execution_count": null,
   "outputs": [],
   "source": [],
   "metadata": {
    "collapsed": false
   },
   "id": "e0ee52d1a6229060"
  }
 ],
 "metadata": {
  "kernelspec": {
   "display_name": "Python 3",
   "language": "python",
   "name": "python3"
  },
  "language_info": {
   "codemirror_mode": {
    "name": "ipython",
    "version": 2
   },
   "file_extension": ".py",
   "mimetype": "text/x-python",
   "name": "python",
   "nbconvert_exporter": "python",
   "pygments_lexer": "ipython2",
   "version": "2.7.6"
  }
 },
 "nbformat": 4,
 "nbformat_minor": 5
}
