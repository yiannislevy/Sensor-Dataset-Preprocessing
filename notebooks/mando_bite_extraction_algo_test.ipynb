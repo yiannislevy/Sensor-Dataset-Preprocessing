{
 "cells": [
  {
   "cell_type": "code",
   "execution_count": 1,
   "id": "initial_id",
   "metadata": {
    "ExecuteTime": {
     "end_time": "2023-11-21T15:16:15.775288Z",
     "start_time": "2023-11-21T15:16:14.614649Z"
    }
   },
   "outputs": [],
   "source": [
    "%matplotlib notebook\n",
    "from src.main.mando_preprocessing import linear_resample\n",
    "from src.utils.mando_viz import *\n",
    "import numpy as np\n",
    "import matplotlib.pyplot as plt\n",
    "import os\n",
    "import json\n",
    "import plotly.graph_objs as go\n",
    "from plotly.subplots import make_subplots\n",
    "import pandas as pd\n",
    "import matplotlib.dates as mdates\n",
    "import re"
   ]
  },
  {
   "cell_type": "code",
   "execution_count": 2,
   "id": "6f32df3187369b56",
   "metadata": {
    "ExecuteTime": {
     "end_time": "2023-11-21T15:16:15.781374Z",
     "start_time": "2023-11-21T15:16:15.776647Z"
    }
   },
   "outputs": [],
   "source": [
    "def load_data(path):\n",
    "    # Find the weight file in the directory\n",
    "    files = [f for f in os.listdir(path) if f.startswith('weights_') and f.endswith('.txt')]\n",
    "    if not files:\n",
    "        raise ValueError(f\"No weight files found in directory: {path}\")\n",
    "    # We assume there's only one file matching the pattern, hence we take the first one\n",
    "    file_path = os.path.join(path, files[0])\n",
    "    # Load the data using pandas\n",
    "    weights = pd.read_csv(file_path, header=None, names=['weight'])\n",
    "#     weights = weights[45:] # for 7,10,14,15,16 ->50,20,23,25,45\n",
    "    return weights['weight']"
   ]
  },
  {
   "cell_type": "code",
   "execution_count": 3,
   "id": "a74a426cf659acfc",
   "metadata": {
    "ExecuteTime": {
     "end_time": "2023-11-21T15:16:15.781555Z",
     "start_time": "2023-11-21T15:16:15.779232Z"
    }
   },
   "outputs": [],
   "source": [
    "def moving_average(data, window_size):\n",
    "    \"\"\"Calculate the moving average of the given data using a window of specified size.\"\"\"\n",
    "    cumsum_vec = np.cumsum(np.insert(data, 0, 0)) \n",
    "    return (cumsum_vec[window_size:] - cumsum_vec[:-window_size]) / window_size"
   ]
  },
  {
   "cell_type": "code",
   "execution_count": 4,
   "id": "b1925fdc16710aa6",
   "metadata": {
    "ExecuteTime": {
     "end_time": "2023-11-21T15:16:15.787789Z",
     "start_time": "2023-11-21T15:16:15.781875Z"
    }
   },
   "outputs": [],
   "source": [
    "def create_decreasing_curve(data):\n",
    "    \"\"\"Ensure that the data only decreases or stays constant over time to represent only food consumption.\"\"\"\n",
    "    decreased_data = np.copy(data)\n",
    "    for i in range(1, len(decreased_data)):\n",
    "        if decreased_data[i] > decreased_data[i - 1]:\n",
    "            decreased_data[i] = decreased_data[i - 1]\n",
    "    return decreased_data"
   ]
  },
  {
   "cell_type": "code",
   "execution_count": 5,
   "id": "667c9c559a65c0dd",
   "metadata": {
    "ExecuteTime": {
     "end_time": "2023-11-21T15:16:15.788518Z",
     "start_time": "2023-11-21T15:16:15.786147Z"
    }
   },
   "outputs": [],
   "source": [
    "def process_meal_data(data, stability_range=3, max_decrease=70):\n",
    "    \"\"\"\n",
    "    Process the meal weight data to ensure decreases are within specified limits and stable.\n",
    "\n",
    "    Parameters:\n",
    "    data (list or np.array): The raw meal weight data.\n",
    "    stability_range (int): The allowed fluctuation range for considering a decrease as stable (default 3 grams).\n",
    "    max_decrease (int): Maximum allowed decrease in weight between two consecutive measurements (default 40 grams).\n",
    "\n",
    "    Returns:\n",
    "    np.array: The processed meal weight data with filtered decreases.\n",
    "    \"\"\"\n",
    "    if len(data) < 2:\n",
    "        return np.array(data)  # Not enough data to process\n",
    "\n",
    "    processed_data = np.copy(data)\n",
    "    for i in range(1, len(data)):\n",
    "        current_decrease = processed_data[i - 1] - processed_data[i]\n",
    "\n",
    "        # Check if decrease is more than the maximum allowed\n",
    "        if current_decrease > max_decrease:\n",
    "            processed_data[i] = processed_data[i - 1]\n",
    "        else:\n",
    "            # Check for stability in the next measurement (if exists)\n",
    "            if i < len(data) - 1:\n",
    "                next_decrease = processed_data[i] - data[i + 1]\n",
    "                if abs(next_decrease) > stability_range:\n",
    "                    processed_data[i] = processed_data[i - 1]\n",
    "\n",
    "    return processed_data"
   ]
  },
  {
   "cell_type": "markdown",
   "id": "dee336f6df8eed71",
   "metadata": {},
   "source": []
  },
  {
   "cell_type": "code",
   "execution_count": 6,
   "id": "812474b0db577fb9",
   "metadata": {
    "ExecuteTime": {
     "end_time": "2023-11-21T15:16:15.794476Z",
     "start_time": "2023-11-21T15:16:15.789454Z"
    }
   },
   "outputs": [],
   "source": [
    "def plot(raw_data, decreasing_data):\n",
    "    \"\"\"\n",
    "    Plot the raw, smoothed, and decreasing step-like weight data in separate subplots sharing the x-axis.\n",
    "\n",
    "    Parameters:\n",
    "    - raw_data (np.ndarray): The raw weight data array.\n",
    "    - smoothed_data (np.ndarray): The smoothed weight data array.\n",
    "    - decreasing_data (np.ndarray): The decreasing step-like weight data array.\n",
    "    \"\"\"\n",
    "    fig, axs = plt.subplots(2, 1, figsize=(15, 10), sharex=True)\n",
    "    \n",
    "    # Raw data plot\n",
    "    axs[0].plot(raw_data, label='Raw Data', alpha=0.5, color='green')\n",
    "    axs[0].set_title('Raw Weight Data')\n",
    "    axs[0].set_ylabel('Weight (grams)')\n",
    "    axs[0].legend()\n",
    "\n",
    "    # # Smoothed data plot\n",
    "    # axs[1].plot(smoothed_data, label='Smoothed Data', color='orange')\n",
    "    # axs[1].set_title('Smoothed Weight Data')\n",
    "    # axs[1].set_ylabel('Weight (grams)')\n",
    "    # axs[1].legend()\n",
    "\n",
    "    # Decreasing step-like data plot\n",
    "    axs[1].plot(decreasing_data, label='Decreasing Step-like Data', color='red')\n",
    "    axs[1].set_title('Decreasing Step-like Weight Data')\n",
    "    axs[1].set_xlabel('Time (arbitrary units)')\n",
    "    axs[1].set_ylabel('Weight (grams)')\n",
    "    axs[1].legend()\n",
    "    \n",
    "    plt.tight_layout()  # Adjust layout to prevent overlap\n",
    "    plt.show()\n"
   ]
  },
  {
   "cell_type": "code",
   "execution_count": 7,
   "id": "204dac7017dc01e0",
   "metadata": {
    "ExecuteTime": {
     "end_time": "2023-11-21T15:16:15.794639Z",
     "start_time": "2023-11-21T15:16:15.792303Z"
    }
   },
   "outputs": [],
   "source": [
    "def plot_ly(data, title=\"Raw Data\"):\n",
    "    fig = make_subplots(rows=2, cols=1, shared_xaxes=True)\n",
    "\n",
    "    # Raw data plot\n",
    "    fig.add_trace(go.Scatter(y=data, mode='lines', name='Raw Data', opacity=0.5, line=dict(color='green')), row=1, col=1)\n",
    "\n",
    "    # Update yaxis properties\n",
    "    fig.update_yaxes(title_text='Weight (grams)', row=1, col=1)\n",
    "\n",
    "    # Update titles with light mode theme color    \n",
    "    fig.update_layout(height=700, width=1000, title_text= title, template='plotly_white')\n",
    "\n",
    "    fig.show()"
   ]
  },
  {
   "cell_type": "code",
   "execution_count": 8,
   "id": "738a061597f9c8f2",
   "metadata": {
    "ExecuteTime": {
     "end_time": "2023-11-21T15:16:15.801017Z",
     "start_time": "2023-11-21T15:16:15.795193Z"
    }
   },
   "outputs": [],
   "source": [
    "def calculate_bite_sizes(decreasing_data, threshold=4):\n",
    "    \"\"\"\n",
    "    Calculate the number of bites and the weight of each bite from the decreasing step-like weight data,\n",
    "    considering only those bites where the weight decrease is greater than a specified threshold.\n",
    "\n",
    "    Parameters:\n",
    "    - decreasing_data (np.ndarray): The decreasing step-like weight data array.\n",
    "    - threshold (int): The minimum weight decrease to qualify as a bite.\n",
    "\n",
    "    Returns:\n",
    "    - int: The number of bites.\n",
    "    - list: The list of weights for each qualified bite.\n",
    "    \"\"\"\n",
    "    bite_sizes = []\n",
    "    for i in range(1, len(decreasing_data)):\n",
    "        if decreasing_data[i] < decreasing_data[i - 1]:\n",
    "            bite_size = decreasing_data[i - 1] - decreasing_data[i]\n",
    "            if bite_size >= threshold:\n",
    "                bite_sizes.append(bite_size)\n",
    "    \n",
    "    number_of_bites = len(bite_sizes)\n",
    "    return number_of_bites, bite_sizes\n",
    "\n",
    "# You would then call this function as before in the main function.\n"
   ]
  },
  {
   "cell_type": "code",
   "execution_count": 9,
   "id": "813a7454e08bf71e",
   "metadata": {
    "ExecuteTime": {
     "end_time": "2023-11-21T15:16:15.801286Z",
     "start_time": "2023-11-21T15:16:15.798279Z"
    }
   },
   "outputs": [],
   "source": [
    "from scipy.signal import find_peaks, savgol_filter\n",
    "\n",
    "def calculate_bite_sizes_advanced(decreasing_data, threshold=4, window_length=21, polyorder=3):\n",
    "    \"\"\"\n",
    "    Advanced calculation of the number of bites and the weight of each bite using signal processing\n",
    "    techniques to detect the local minima in the smoothed signal.\n",
    "\n",
    "    Parameters:\n",
    "    - decreasing_data (np.ndarray): The decreasing step-like weight data array.\n",
    "    - threshold (int): The minimum weight decrease to qualify as a bite.\n",
    "    - window_length (int): The length of the filter window (number of coefficients). Must be a positive odd integer.\n",
    "    - polyorder (int): The order of the polynomial used to fit the samples. Must be less than `window_length`.\n",
    "\n",
    "    Returns:\n",
    "    - int: The number of bites.\n",
    "    - list: The list of weights for each qualified bite.\n",
    "    \"\"\"\n",
    "    # Apply a Savitzky-Golay filter to the data to smooth it while preserving peaks\n",
    "    smoothed_data = savgol_filter(decreasing_data, window_length=window_length, polyorder=polyorder, mode='interp')\n",
    "\n",
    "    # Compute the first derivative of the smoothed data\n",
    "    derivative = np.diff(smoothed_data, n=1)\n",
    "    \n",
    "    # Find peaks (local minima) in the negative derivative (which correspond to bites in the original data)\n",
    "    peaks, _ = find_peaks(-derivative, height=-threshold)\n",
    "\n",
    "    # Calculate bite sizes based on the peaks detected\n",
    "    bite_sizes = np.diff(peaks, prepend=0)\n",
    "    \n",
    "    # Filter out the consecutive bites that are too close to each other, if necessary\n",
    "    # This step is optional and can be customized based on domain knowledge\n",
    "    \n",
    "    number_of_bites = len(bite_sizes)\n",
    "    return number_of_bites, bite_sizes.tolist()\n",
    "\n",
    "# You would call this function in your main function after processing the data.\n"
   ]
  },
  {
   "cell_type": "code",
   "execution_count": 10,
   "id": "4d3f2b90",
   "metadata": {
    "ExecuteTime": {
     "end_time": "2023-11-21T15:16:15.808881Z",
     "start_time": "2023-11-21T15:16:15.801654Z"
    }
   },
   "outputs": [],
   "source": [
    "def calculate_bite_statistics(decreasing_data, threshold=4, min_bite_interval=10):\n",
    "    \"\"\"\n",
    "    Calculate bite statistics by considering bite size, interval, and typical eating patterns.\n",
    "\n",
    "    Parameters:\n",
    "    - decreasing_data (np.ndarray): The decreasing step-like weight data array.\n",
    "    - threshold (int): The minimum weight decrease to qualify as a bite.\n",
    "    - min_bite_interval (int): The minimum number of seconds expected between bites.\n",
    "\n",
    "    Returns:\n",
    "    - int: The number of qualified bites.\n",
    "    - list: The list of weights for each qualified bite.\n",
    "    - float: The average interval between qualified bites.\n",
    "    \"\"\"\n",
    "    bite_sizes = []\n",
    "    bite_intervals = []\n",
    "    last_bite_time = 0\n",
    "\n",
    "    for i in range(1, len(decreasing_data)):\n",
    "        if decreasing_data[i] < decreasing_data[i - 1]:\n",
    "            bite_size = decreasing_data[i - 1] - decreasing_data[i]\n",
    "            if bite_size >= threshold:\n",
    "                bite_time = i\n",
    "                bite_interval = bite_time - last_bite_time\n",
    "\n",
    "                if bite_interval >= min_bite_interval or last_bite_time == 0:\n",
    "                    bite_sizes.append(bite_size)\n",
    "                    bite_intervals.append(bite_interval)\n",
    "                    last_bite_time = bite_time\n",
    "\n",
    "    number_of_bites = len(bite_sizes)\n",
    "    average_bite_interval = np.mean(bite_intervals) if bite_intervals else 0\n",
    "    return number_of_bites, bite_sizes, average_bite_interval"
   ]
  },
  {
   "cell_type": "code",
   "execution_count": 11,
   "id": "c3bbcae5",
   "metadata": {
    "ExecuteTime": {
     "end_time": "2023-11-21T15:16:15.809058Z",
     "start_time": "2023-11-21T15:16:15.803906Z"
    }
   },
   "outputs": [],
   "source": [
    "def dif(og, c):\n",
    "    difference = og - c\n",
    "    # print(f\"Original: {og}\\nCalculated: {c}\")\n",
    "    # print(f\"Difference original - calculated = {difference}\")\n",
    "    percentage = (difference / og) if og else 0  # Check for division by zero if og is zero\n",
    "    # print(f\"Percentage: {percentage * 100:.2f} %\")  # Format to two decimal places\n",
    "    return percentage"
   ]
  },
  {
   "cell_type": "code",
   "execution_count": 12,
   "id": "c387e21c32a8843",
   "metadata": {
    "ExecuteTime": {
     "end_time": "2023-11-21T15:16:15.809117Z",
     "start_time": "2023-11-21T15:16:15.806635Z"
    }
   },
   "outputs": [],
   "source": [
    "def grid_search(data, og_bites, weight_thresholds, time_thresholds):\n",
    "    best_acc = 200  # Initialize with a very high number to find min\n",
    "    best_param = (None, None)\n",
    "\n",
    "    for weight_threshold in weight_thresholds:\n",
    "        for time_threshold in time_thresholds:\n",
    "            number_of_bites, bite_sizes, bite_interval = calculate_bite_statistics(\n",
    "                data, \n",
    "                threshold=weight_threshold, \n",
    "                min_bite_interval=time_threshold\n",
    "            )\n",
    "\n",
    "            if og_bites is not None and number_of_bites is not None:\n",
    "                current_error = dif(og_bites, number_of_bites)\n",
    "                # Update if the current_error is less than the best_accuracy found so far\n",
    "                if abs(current_error) < best_acc:\n",
    "                    best_acc = abs(current_error)\n",
    "                    best_param = (weight_threshold, time_threshold)\n",
    "\n",
    "    return best_acc, best_param"
   ]
  },
  {
   "cell_type": "code",
   "execution_count": 22,
   "id": "460e0acb638f390c",
   "metadata": {
    "ExecuteTime": {
     "end_time": "2023-11-21T15:19:23.614960Z",
     "start_time": "2023-11-21T15:19:23.611003Z"
    }
   },
   "outputs": [],
   "source": [
    "with open('../config/mando_config.json') as config_file:\n",
    "    config = json.load(config_file)\n",
    "bites = config['ground_truth']['num_of_bites']"
   ]
  },
  {
   "cell_type": "code",
   "execution_count": 14,
   "id": "ed24be50bb66a214",
   "metadata": {
    "ExecuteTime": {
     "end_time": "2023-11-21T15:16:15.816443Z",
     "start_time": "2023-11-21T15:16:15.813988Z"
    }
   },
   "outputs": [],
   "source": [
    "accuracy = []\n",
    "accuracies = []\n",
    "\n",
    "# cursed = [1, 2, 4, 6, 9, 14, 15]\n",
    "gram_thresholds = [0, 1, 2, 3, 4, 5, 6, 7, 8]\n",
    "time_thresholds = [0, 1, 2, 3, 4, 5, 6, 7, 8, 9]"
   ]
  },
  {
   "cell_type": "code",
   "execution_count": 27,
   "outputs": [
    {
     "data": {
      "text/plain": "20"
     },
     "execution_count": 27,
     "metadata": {},
     "output_type": "execute_result"
    }
   ],
   "source": [
    "len(bites)"
   ],
   "metadata": {
    "collapsed": false,
    "ExecuteTime": {
     "end_time": "2023-11-21T15:21:18.886338Z",
     "start_time": "2023-11-21T15:21:18.870637Z"
    }
   },
   "id": "4cbc2258c683ed88"
  },
  {
   "cell_type": "code",
   "execution_count": 23,
   "id": "398b35a4fab640e2",
   "metadata": {
    "ExecuteTime": {
     "end_time": "2023-11-21T15:19:29.975767Z",
     "start_time": "2023-11-21T15:19:29.967125Z"
    }
   },
   "outputs": [],
   "source": [
    "def main():    \n",
    "    for subject in range(len(bites)):\n",
    "\n",
    "        # if subject in cursed:\n",
    "        #     continue\n",
    "        if subject == 1 or subject == 2:\n",
    "            continue\n",
    "            \n",
    "        subject = subject + 1    \n",
    "        print(f\"Subject {subject}\")\n",
    "    \n",
    "        path = f'../data/raw/{subject}'\n",
    "    \n",
    "        # 1. Load the data\n",
    "        weights = load_data(path).to_numpy()    \n",
    "        \n",
    "        \n",
    "        # 2. Obtain the decreasing step-like curve\n",
    "        print(\"Using 'process_meal_data' function\")\n",
    "        decreasing_data = process_meal_data(weights)\n",
    "        \n",
    "        \n",
    "        # 3. Get the number of bites and the weight of each bite using the 'simple' method\n",
    "        # print(\"Doing simple calculation\")\n",
    "        number_of_bites, bite_sizes = calculate_bite_sizes(decreasing_data, 2)\n",
    "        # print(f\"Number of bites simple: {number_of_bites}\")\n",
    "        # print(f\"Weight of each bite simple: {bite_sizes}\")\n",
    "        \n",
    "        \n",
    "        # 4. Grid search for the best parameters\n",
    "        # print(\"Doing grid search with advanced calculation\")\n",
    "        best_accuracy, best_params = grid_search(decreasing_data, bites[subject-1], gram_thresholds, time_thresholds)\n",
    "        # print(f\"Best accuracy: {((1-abs(best_accuracy))) * 100:.2f} %\")\n",
    "        # print(f\"Best parameters: {best_params[0]}, {best_params[1]}\")\n",
    "        \n",
    "        \n",
    "        # 5. Get the number of bites and the weight of each bite using the 'advanced' method    \n",
    "        # print(\"Doing advanced calculation\")\n",
    "        accuracy.append(1-best_accuracy) \n",
    "        calc_bites, sizes, intervals = calculate_bite_statistics(decreasing_data, best_params[0], best_params[1])\n",
    "        # print(f\"Number of bites advanced: {calc_bites}\")\n",
    "        # print(f\"Weight of each bite advanced: {sizes}\")\n",
    "        # print(f\"Average interval between bites: {intervals}\")\n",
    "        accuracies.append([((1-abs(best_accuracy))) * 100, calc_bites, sizes])\n",
    "        # plot_ly(decreasing_data, \"Algo'd\")\n"
   ]
  },
  {
   "cell_type": "code",
   "execution_count": 24,
   "id": "a8548f91c76ca01a",
   "metadata": {
    "ExecuteTime": {
     "end_time": "2023-11-21T15:19:31.374046Z",
     "start_time": "2023-11-21T15:19:31.215501Z"
    }
   },
   "outputs": [
    {
     "name": "stdout",
     "output_type": "stream",
     "text": [
      "Subject 1\n",
      "Using 'process_meal_data' function\n",
      "Subject 4\n",
      "Using 'process_meal_data' function\n",
      "Subject 5\n",
      "Using 'process_meal_data' function\n",
      "Subject 6\n",
      "Using 'process_meal_data' function\n",
      "Subject 7\n",
      "Using 'process_meal_data' function\n",
      "Subject 8\n",
      "Using 'process_meal_data' function\n",
      "Subject 9\n",
      "Using 'process_meal_data' function\n",
      "Subject 10\n",
      "Using 'process_meal_data' function\n",
      "Subject 11\n",
      "Using 'process_meal_data' function\n",
      "Subject 12\n",
      "Using 'process_meal_data' function\n",
      "Subject 13\n",
      "Using 'process_meal_data' function\n",
      "Subject 14\n",
      "Using 'process_meal_data' function\n",
      "Subject 15\n",
      "Using 'process_meal_data' function\n",
      "Subject 16\n",
      "Using 'process_meal_data' function\n",
      "Subject 17\n",
      "Using 'process_meal_data' function\n",
      "Subject 18\n",
      "Using 'process_meal_data' function\n",
      "Subject 19\n",
      "Using 'process_meal_data' function\n",
      "Subject 20\n",
      "Using 'process_meal_data' function\n"
     ]
    }
   ],
   "source": [
    "main()"
   ]
  },
  {
   "cell_type": "code",
   "execution_count": 29,
   "outputs": [
    {
     "data": {
      "text/plain": "35"
     },
     "execution_count": 29,
     "metadata": {},
     "output_type": "execute_result"
    }
   ],
   "source": [
    "# acc_val_of_grid_search = [entry[0] for entry in accuracies]\n",
    "# acc_val_of_grid_search\n",
    "# print((len(acc_val_of_grid_search)))\n",
    "len(accuracy)"
   ],
   "metadata": {
    "collapsed": false,
    "ExecuteTime": {
     "end_time": "2023-11-21T15:22:03.815917Z",
     "start_time": "2023-11-21T15:22:03.802071Z"
    }
   },
   "id": "339a23f140dc869e"
  },
  {
   "cell_type": "code",
   "execution_count": 18,
   "outputs": [
    {
     "data": {
      "text/plain": "84.33751403938349"
     },
     "execution_count": 18,
     "metadata": {},
     "output_type": "execute_result"
    }
   ],
   "source": [
    "mean_acc = sum(acc_val_of_grid_search) / len(acc_val_of_grid_search)\n",
    "mean_acc"
   ],
   "metadata": {
    "collapsed": false,
    "ExecuteTime": {
     "end_time": "2023-11-21T15:16:15.968088Z",
     "start_time": "2023-11-21T15:16:15.965129Z"
    }
   },
   "id": "e2ed841882ad9d70"
  },
  {
   "cell_type": "code",
   "execution_count": 19,
   "outputs": [],
   "source": [
    "sub_19_processed_mando = process_meal_data(load_data('../data/raw/19').to_numpy())\n",
    "bites, sizes, intervals = calculate_bite_statistics(sub_19_processed_mando, 1, 0)"
   ],
   "metadata": {
    "collapsed": false,
    "ExecuteTime": {
     "end_time": "2023-11-21T15:16:15.974001Z",
     "start_time": "2023-11-21T15:16:15.967997Z"
    }
   },
   "id": "8e6030c836f9f507"
  },
  {
   "cell_type": "code",
   "execution_count": 20,
   "outputs": [
    {
     "data": {
      "text/plain": "[69,\n 23,\n 1,\n 19,\n 30,\n 22,\n 24,\n 23,\n 15,\n 3,\n 37,\n 18,\n 14,\n 16,\n 9,\n 2,\n 26,\n 13,\n 9,\n 12,\n 11,\n 13,\n 65,\n 9,\n 14,\n 14,\n 16,\n 13,\n 13,\n 9]"
     },
     "execution_count": 20,
     "metadata": {},
     "output_type": "execute_result"
    }
   ],
   "source": [
    "sizes"
   ],
   "metadata": {
    "collapsed": false,
    "ExecuteTime": {
     "end_time": "2023-11-21T15:16:15.974735Z",
     "start_time": "2023-11-21T15:16:15.971809Z"
    }
   },
   "id": "c55e985243ca81b"
  },
  {
   "cell_type": "code",
   "execution_count": 21,
   "id": "fe8f9deb517e128c",
   "metadata": {
    "ExecuteTime": {
     "end_time": "2023-11-21T15:16:16.035143Z",
     "start_time": "2023-11-21T15:16:15.975138Z"
    }
   },
   "outputs": [
    {
     "ename": "TypeError",
     "evalue": "'int' object is not subscriptable",
     "output_type": "error",
     "traceback": [
      "\u001B[0;31m---------------------------------------------------------------------------\u001B[0m",
      "\u001B[0;31mTypeError\u001B[0m                                 Traceback (most recent call last)",
      "Cell \u001B[0;32mIn[21], line 8\u001B[0m\n\u001B[1;32m      6\u001B[0m \u001B[38;5;66;03m# 2. Obtain the decreasing step-like curve\u001B[39;00m\n\u001B[1;32m      7\u001B[0m decreasing_data \u001B[38;5;241m=\u001B[39m create_decreasing_curve(weights[\u001B[38;5;241m14\u001B[39m:\u001B[38;5;241m180\u001B[39m])\n\u001B[0;32m----> 8\u001B[0m \u001B[38;5;28mprint\u001B[39m(\u001B[38;5;124mf\u001B[39m\u001B[38;5;124m\"\u001B[39m\u001B[38;5;124mTrue number of bites: \u001B[39m\u001B[38;5;132;01m{\u001B[39;00m\u001B[43mbites\u001B[49m\u001B[43m[\u001B[49m\u001B[38;5;241;43m18\u001B[39;49m\u001B[43m]\u001B[49m\u001B[38;5;132;01m}\u001B[39;00m\u001B[38;5;124m\"\u001B[39m)\n\u001B[1;32m      9\u001B[0m calc_bites, sizes, intervals \u001B[38;5;241m=\u001B[39m calculate_bite_statistics(decreasing_data, \u001B[38;5;241m1\u001B[39m, \u001B[38;5;241m0\u001B[39m)\n\u001B[1;32m     10\u001B[0m \u001B[38;5;28mprint\u001B[39m(\u001B[38;5;124mf\u001B[39m\u001B[38;5;124m\"\u001B[39m\u001B[38;5;124mNumber of bites advanced: \u001B[39m\u001B[38;5;132;01m{\u001B[39;00mcalc_bites\u001B[38;5;132;01m}\u001B[39;00m\u001B[38;5;124m\"\u001B[39m)\n",
      "\u001B[0;31mTypeError\u001B[0m: 'int' object is not subscriptable"
     ]
    }
   ],
   "source": [
    "path = '../data/raw/19'\n",
    "\n",
    "# 1. Load the data\n",
    "weights = load_data(path).to_numpy()    \n",
    "\n",
    "# 2. Obtain the decreasing step-like curve\n",
    "decreasing_data = create_decreasing_curve(weights[14:180])\n",
    "print(f\"True number of bites: {bites[18]}\")\n",
    "calc_bites, sizes, intervals = calculate_bite_statistics(decreasing_data, 1, 0)\n",
    "print(f\"Number of bites advanced: {calc_bites}\")\n",
    "print(f\"Weight of each bite advanced: {sizes}\")\n",
    "print(f\"Average interval between bites: {intervals}\")"
   ]
  },
  {
   "cell_type": "code",
   "execution_count": null,
   "outputs": [],
   "source": [
    "with open ('../annotations/processed_micromovements/subject_1.json') as f:\n",
    "    data = json.load(f)\n",
    "true_bite_weights = [bite['bite_weight'] for meal in data['meals'] for bite in meal['bites']]\n",
    "true_bite_weights"
   ],
   "metadata": {
    "collapsed": false,
    "ExecuteTime": {
     "end_time": "2023-11-21T15:16:16.040376Z",
     "start_time": "2023-11-21T15:16:16.035794Z"
    }
   },
   "id": "7e7f407abd689793"
  },
  {
   "cell_type": "code",
   "execution_count": null,
   "outputs": [],
   "source": [
    "plot_comparison(data, sub_19_processed_mando)"
   ],
   "metadata": {
    "collapsed": false,
    "ExecuteTime": {
     "start_time": "2023-11-21T15:16:16.036939Z"
    }
   },
   "id": "764c29469ba6a10"
  },
  {
   "cell_type": "code",
   "execution_count": null,
   "id": "6ab279856d351121",
   "metadata": {
    "ExecuteTime": {
     "start_time": "2023-11-21T15:16:16.037850Z"
    }
   },
   "outputs": [],
   "source": [
    "def plot_weights_data(data):\n",
    "    \"\"\"\n",
    "    Plot the given data with sample number on the x-axis.\n",
    "\n",
    "    Args:\n",
    "        data (iterable): Iterable containing the data points to plot.\n",
    "    \"\"\"\n",
    "    plt.figure(figsize=(10, 5))\n",
    "    plt.plot(range(len(data)), data, marker='o')\n",
    "    plt.xlabel('Sample Number')\n",
    "    plt.ylabel('Data Value')\n",
    "    plt.title('Data Plot')\n",
    "    plt.grid(True)\n",
    "    plt.show()"
   ]
  }
 ],
 "metadata": {
  "kernelspec": {
   "display_name": "Python 3 (ipykernel)",
   "language": "python",
   "name": "python3"
  },
  "language_info": {
   "codemirror_mode": {
    "name": "ipython",
    "version": 3
   },
   "file_extension": ".py",
   "mimetype": "text/x-python",
   "name": "python",
   "nbconvert_exporter": "python",
   "pygments_lexer": "ipython3",
   "version": "3.11.0"
  }
 },
 "nbformat": 4,
 "nbformat_minor": 5
}
