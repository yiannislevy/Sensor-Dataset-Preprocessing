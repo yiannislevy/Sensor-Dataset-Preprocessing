{
 "cells": [
  {
   "cell_type": "code",
   "outputs": [],
   "source": [
    "import os\n",
    "import json\n",
    "import pprint\n",
    "import pandas as pd"
   ],
   "metadata": {
    "collapsed": false,
    "ExecuteTime": {
     "end_time": "2024-10-30T19:54:57.600898Z",
     "start_time": "2024-10-30T19:54:57.597708Z"
    }
   },
   "id": "eba0e056f25fdfad",
   "execution_count": 16
  },
  {
   "cell_type": "code",
   "outputs": [],
   "source": [
    "def load_bite_data(parent_folder):\n",
    "    data = {}\n",
    "    \n",
    "    # Walk through the parent folder to find all matching JSON files\n",
    "    for root, dirs, files in os.walk(parent_folder):\n",
    "        for file_name in files:\n",
    "            if file_name.startswith(\"annotated_bite_events_weights_\") and file_name.endswith(\".json\"):\n",
    "                subject_id = file_name.replace(\"annotated_bite_events_weights_\", \"\").replace(\".json\", \"\")\n",
    "                file_path = os.path.join(root, file_name)\n",
    "                \n",
    "                # Load JSON file content\n",
    "                with open(file_path, 'r') as f:\n",
    "                    content = json.load(f)\n",
    "                    data[subject_id] = content.get(\"bites\", [])\n",
    "    \n",
    "    return data"
   ],
   "metadata": {
    "collapsed": false,
    "ExecuteTime": {
     "end_time": "2024-10-30T19:49:50.246664Z",
     "start_time": "2024-10-30T19:49:50.243808Z"
    }
   },
   "id": "9df979ef3a4dd91d",
   "execution_count": 2
  },
  {
   "cell_type": "code",
   "outputs": [],
   "source": [
    "path = 'processed_events/bites'\n",
    "bites_data = load_bite_data(path)\n",
    "# print(bites_data)"
   ],
   "metadata": {
    "collapsed": false,
    "ExecuteTime": {
     "end_time": "2024-10-30T19:50:35.781757Z",
     "start_time": "2024-10-30T19:50:35.775262Z"
    }
   },
   "id": "f3624e867a207ce0",
   "execution_count": 4
  },
  {
   "cell_type": "code",
   "outputs": [],
   "source": [
    "def extract_summary(data):\n",
    "    # Convert data to a DataFrame for easier manipulation\n",
    "    all_bites = []\n",
    "    for subject_id, bites in data.items():\n",
    "        for bite in bites:\n",
    "            bite['subject_id'] = subject_id\n",
    "            all_bites.append(bite)\n",
    "    \n",
    "    df = pd.DataFrame(all_bites)\n",
    "    \n",
    "    # Filter out rows where 'weight' or 'duration_seconds' are None\n",
    "    df = df.dropna(subset=['weight', 'duration_seconds'])\n",
    "    \n",
    "    # Basic Statistics\n",
    "    total_sessions = df['subject_id'].nunique()\n",
    "    total_bites = len(df)\n",
    "    average_bites_per_subject = round(df.groupby('subject_id').size().mean(), 2)\n",
    "    \n",
    "    # Bite Statistics\n",
    "    average_duration_of_bite = round(df['duration_seconds'].mean(), 2)\n",
    "    median_bite_weight = round(df['weight'].median(), 2)\n",
    "    bite_weight_range = (round(df['weight'].min(), 2), round(df['weight'].max(), 2))\n",
    "    bite_duration_range = (round(df['duration_seconds'].min(), 2), round(df['duration_seconds'].max(), 2))\n",
    "    average_bite_weight = round(df['weight'].mean(), 2)\n",
    "    bite_weight_std = round(df['weight'].std(), 2)\n",
    "    bite_duration_std = round(df['duration_seconds'].std(), 2)\n",
    "    \n",
    "    # Meal-Level Statistics\n",
    "    meal_durations = df.groupby('subject_id').apply(lambda x: x['end_seconds'].max() - x['start_seconds'].min())\n",
    "    average_meal_duration = round(meal_durations.mean(), 2)\n",
    "    median_meal_duration = round(meal_durations.median(), 2)\n",
    "    meal_duration_range = (round(meal_durations.min(), 2), round(meal_durations.max(), 2))\n",
    "    \n",
    "    # Total Consumption per Meal\n",
    "    total_consumption_per_meal = df.groupby('subject_id')['weight'].sum()\n",
    "    average_total_consumption_per_meal = round(total_consumption_per_meal.mean(), 2)\n",
    "    \n",
    "    # Time Between Bites\n",
    "    df['time_between_bites'] = df.groupby('subject_id')['start_seconds'].diff()\n",
    "    average_time_between_bites = round(df['time_between_bites'].mean(), 2)\n",
    "    \n",
    "    # Total IMU Samples (if available)\n",
    "    total_imu_samples = int(df['imu_samples'].sum()) if 'imu_samples' in df.columns else None\n",
    "    \n",
    "    # Missing Values Count\n",
    "    total_na = int(df.isna().sum().sum())\n",
    "\n",
    "    # Summary dictionary\n",
    "    summary = {\n",
    "        \"Total Sessions\": total_sessions,\n",
    "        \"Total Bites\": total_bites,\n",
    "        \"Average Bites per Subject\": average_bites_per_subject,\n",
    "        \n",
    "        \"Bite Duration Statistics\": {\n",
    "            \"Average Duration of a Bite (s)\": average_duration_of_bite,\n",
    "            \"Bite Duration Range (s)\": bite_duration_range,\n",
    "            \"Bite Duration Std Dev (s)\": bite_duration_std\n",
    "        },\n",
    "        \n",
    "        \"Bite Weight Statistics\": {\n",
    "            \"Median Bite Weight (g)\": median_bite_weight,\n",
    "            \"Average Bite Weight (g)\": average_bite_weight,\n",
    "            \"Bite Weight Range (g)\": bite_weight_range,\n",
    "            \"Bite Weight Std Dev (g)\": bite_weight_std\n",
    "        },\n",
    "        \n",
    "        \"Meal-Level Statistics\": {\n",
    "            \"Average Meal Duration (s)\": average_meal_duration,\n",
    "            \"Median Meal Duration (s)\": median_meal_duration,\n",
    "            \"Meal Duration Range (s)\": meal_duration_range,\n",
    "            \"Average Total Consumption per Meal (g)\": average_total_consumption_per_meal\n",
    "        },\n",
    "        \n",
    "        \"Time Between Bites\": {\n",
    "            \"Average Time Between Bites (s)\": average_time_between_bites\n",
    "        },\n",
    "        \n",
    "        \"Additional\": {\n",
    "            \"Total IMU Samples\": total_imu_samples,\n",
    "            \"Total Missing Values (NaN)\": total_na\n",
    "        }\n",
    "    }\n",
    "    \n",
    "    return summary"
   ],
   "metadata": {
    "collapsed": false,
    "ExecuteTime": {
     "end_time": "2024-10-31T09:00:15.798612Z",
     "start_time": "2024-10-31T09:00:15.789626Z"
    }
   },
   "id": "43cc60b3f62b6be1",
   "execution_count": 62
  },
  {
   "cell_type": "code",
   "outputs": [],
   "source": [
    "summary_info = extract_summary(bites_data)"
   ],
   "metadata": {
    "collapsed": false,
    "ExecuteTime": {
     "end_time": "2024-10-31T09:00:16.131625Z",
     "start_time": "2024-10-31T09:00:16.124829Z"
    }
   },
   "id": "701c552103288fee",
   "execution_count": 63
  },
  {
   "cell_type": "code",
   "outputs": [
    {
     "name": "stdout",
     "output_type": "stream",
     "text": [
      "{'Total Sessions': 10,\n",
      " 'Total Bites': 342,\n",
      " 'Average Bites per Subject': 34.2,\n",
      " 'Bite Duration Statistics': {'Average Duration of a Bite (s)': 6.45,\n",
      "                              'Bite Duration Range (s)': (1.61, 27.19),\n",
      "                              'Bite Duration Std Dev (s)': 3.41},\n",
      " 'Bite Weight Statistics': {'Median Bite Weight (g)': 10.0,\n",
      "                            'Average Bite Weight (g)': 10.89,\n",
      "                            'Bite Weight Range (g)': (0.0, 34.0),\n",
      "                            'Bite Weight Std Dev (g)': 6.05},\n",
      " 'Meal-Level Statistics': {'Average Meal Duration (s)': 437.35,\n",
      "                           'Median Meal Duration (s)': 358.63,\n",
      "                           'Meal Duration Range (s)': (217.68, 857.68),\n",
      "                           'Average Total Consumption per Meal (g)': 372.3},\n",
      " 'Time Between Bites': {'Average Time Between Bites (s)': 12.99},\n",
      " 'Additional': {'Total IMU Samples': None, 'Total Missing Values (NaN)': 10}}\n"
     ]
    }
   ],
   "source": [
    "pprint.pp(summary_info)"
   ],
   "metadata": {
    "collapsed": false,
    "ExecuteTime": {
     "end_time": "2024-10-31T09:00:16.282621Z",
     "start_time": "2024-10-31T09:00:16.279614Z"
    }
   },
   "id": "a94bed43242d7860",
   "execution_count": 64
  },
  {
   "cell_type": "code",
   "outputs": [],
   "source": [
    "all_bites = []\n",
    "for subject_id, bites in bites_data.items():\n",
    "    for bite in bites:\n",
    "        bite['subject_id'] = subject_id\n",
    "        all_bites.append(bite)\n",
    "\n",
    "df = pd.DataFrame(all_bites)"
   ],
   "metadata": {
    "collapsed": false,
    "ExecuteTime": {
     "end_time": "2024-10-31T08:38:34.418468Z",
     "start_time": "2024-10-31T08:38:34.412202Z"
    }
   },
   "id": "9eb6b670b049f9d8",
   "execution_count": 42
  },
  {
   "cell_type": "code",
   "outputs": [
    {
     "data": {
      "text/plain": "     bite_id  start_seconds  end_seconds  duration_seconds  weight subject_id\n0          1         53.939       60.911             6.972    21.0  17_meal_2\n1          2         67.152       85.136            17.984    10.0  17_meal_2\n2          3         91.041      101.353            10.312    23.0  17_meal_2\n3          4        117.384      123.458             6.074    18.0  17_meal_2\n4          5        135.986      141.960             5.974    24.0  17_meal_2\n..       ...            ...          ...               ...     ...        ...\n351       27        313.080      316.216             3.136     NaN         14\n352       28        316.250      327.393            11.143     NaN         14\n353       29        327.495      335.370             7.875     7.0         14\n354       30        337.238      340.040             2.802     NaN         14\n355       31        344.845      351.586             6.741     7.0         14\n\n[356 rows x 6 columns]",
      "text/html": "<div>\n<style scoped>\n    .dataframe tbody tr th:only-of-type {\n        vertical-align: middle;\n    }\n\n    .dataframe tbody tr th {\n        vertical-align: top;\n    }\n\n    .dataframe thead th {\n        text-align: right;\n    }\n</style>\n<table border=\"1\" class=\"dataframe\">\n  <thead>\n    <tr style=\"text-align: right;\">\n      <th></th>\n      <th>bite_id</th>\n      <th>start_seconds</th>\n      <th>end_seconds</th>\n      <th>duration_seconds</th>\n      <th>weight</th>\n      <th>subject_id</th>\n    </tr>\n  </thead>\n  <tbody>\n    <tr>\n      <th>0</th>\n      <td>1</td>\n      <td>53.939</td>\n      <td>60.911</td>\n      <td>6.972</td>\n      <td>21.0</td>\n      <td>17_meal_2</td>\n    </tr>\n    <tr>\n      <th>1</th>\n      <td>2</td>\n      <td>67.152</td>\n      <td>85.136</td>\n      <td>17.984</td>\n      <td>10.0</td>\n      <td>17_meal_2</td>\n    </tr>\n    <tr>\n      <th>2</th>\n      <td>3</td>\n      <td>91.041</td>\n      <td>101.353</td>\n      <td>10.312</td>\n      <td>23.0</td>\n      <td>17_meal_2</td>\n    </tr>\n    <tr>\n      <th>3</th>\n      <td>4</td>\n      <td>117.384</td>\n      <td>123.458</td>\n      <td>6.074</td>\n      <td>18.0</td>\n      <td>17_meal_2</td>\n    </tr>\n    <tr>\n      <th>4</th>\n      <td>5</td>\n      <td>135.986</td>\n      <td>141.960</td>\n      <td>5.974</td>\n      <td>24.0</td>\n      <td>17_meal_2</td>\n    </tr>\n    <tr>\n      <th>...</th>\n      <td>...</td>\n      <td>...</td>\n      <td>...</td>\n      <td>...</td>\n      <td>...</td>\n      <td>...</td>\n    </tr>\n    <tr>\n      <th>351</th>\n      <td>27</td>\n      <td>313.080</td>\n      <td>316.216</td>\n      <td>3.136</td>\n      <td>NaN</td>\n      <td>14</td>\n    </tr>\n    <tr>\n      <th>352</th>\n      <td>28</td>\n      <td>316.250</td>\n      <td>327.393</td>\n      <td>11.143</td>\n      <td>NaN</td>\n      <td>14</td>\n    </tr>\n    <tr>\n      <th>353</th>\n      <td>29</td>\n      <td>327.495</td>\n      <td>335.370</td>\n      <td>7.875</td>\n      <td>7.0</td>\n      <td>14</td>\n    </tr>\n    <tr>\n      <th>354</th>\n      <td>30</td>\n      <td>337.238</td>\n      <td>340.040</td>\n      <td>2.802</td>\n      <td>NaN</td>\n      <td>14</td>\n    </tr>\n    <tr>\n      <th>355</th>\n      <td>31</td>\n      <td>344.845</td>\n      <td>351.586</td>\n      <td>6.741</td>\n      <td>7.0</td>\n      <td>14</td>\n    </tr>\n  </tbody>\n</table>\n<p>356 rows × 6 columns</p>\n</div>"
     },
     "execution_count": 43,
     "metadata": {},
     "output_type": "execute_result"
    }
   ],
   "source": [
    "df"
   ],
   "metadata": {
    "collapsed": false,
    "ExecuteTime": {
     "end_time": "2024-10-31T08:38:37.014635Z",
     "start_time": "2024-10-31T08:38:37.005220Z"
    }
   },
   "id": "6a1b56f36cf9ce19",
   "execution_count": 43
  },
  {
   "cell_type": "code",
   "outputs": [],
   "source": [],
   "metadata": {
    "collapsed": false
   },
   "id": "37bbc07a715c760"
  }
 ],
 "metadata": {
  "kernelspec": {
   "display_name": "Python 3",
   "language": "python",
   "name": "python3"
  },
  "language_info": {
   "codemirror_mode": {
    "name": "ipython",
    "version": 2
   },
   "file_extension": ".py",
   "mimetype": "text/x-python",
   "name": "python",
   "nbconvert_exporter": "python",
   "pygments_lexer": "ipython2",
   "version": "2.7.6"
  }
 },
 "nbformat": 4,
 "nbformat_minor": 5
}
