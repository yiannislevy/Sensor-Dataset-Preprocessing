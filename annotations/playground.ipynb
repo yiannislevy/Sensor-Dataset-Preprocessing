{
 "cells": [
  {
   "cell_type": "code",
   "execution_count": null,
   "id": "initial_id",
   "metadata": {
    "collapsed": true
   },
   "outputs": [],
   "source": [
    "from viz_annotations import *\n",
    "from annotation_data_io import *\n",
    "from tools import *"
   ]
  },
  {
   "cell_type": "code",
   "execution_count": null,
   "outputs": [],
   "source": [
    "bite_events = load_bite_events(\"processed_micromovements/bites/bite_events_19.pkl\")"
   ],
   "metadata": {
    "collapsed": false
   },
   "id": "9377a91704548d84"
  },
  {
   "cell_type": "code",
   "execution_count": null,
   "outputs": [],
   "source": [
    "bite_intervals = calculate_intervals(bite_events)"
   ],
   "metadata": {
    "collapsed": false
   },
   "id": "ec546f7c59566ed7"
  },
  {
   "cell_type": "code",
   "execution_count": null,
   "outputs": [],
   "source": [
    "plot_eating_style(bite_intervals)"
   ],
   "metadata": {
    "collapsed": false
   },
   "id": "ab2e4a0d722cfb05"
  },
  {
   "cell_type": "code",
   "execution_count": null,
   "outputs": [],
   "source": [],
   "metadata": {
    "collapsed": false
   },
   "id": "7729c4bd88345be4"
  },
  {
   "cell_type": "code",
   "execution_count": null,
   "outputs": [],
   "source": [
    "plot_eating_style(bite_intervals, 19)"
   ],
   "metadata": {
    "collapsed": false
   },
   "id": "cf98c0a32c2de93b"
  },
  {
   "cell_type": "code",
   "execution_count": null,
   "outputs": [],
   "source": [],
   "metadata": {
    "collapsed": false
   },
   "id": "1eb80a2b242abe15"
  }
 ],
 "metadata": {
  "kernelspec": {
   "display_name": "Python 3",
   "language": "python",
   "name": "python3"
  },
  "language_info": {
   "codemirror_mode": {
    "name": "ipython",
    "version": 2
   },
   "file_extension": ".py",
   "mimetype": "text/x-python",
   "name": "python",
   "nbconvert_exporter": "python",
   "pygments_lexer": "ipython2",
   "version": "2.7.6"
  }
 },
 "nbformat": 4,
 "nbformat_minor": 5
}
