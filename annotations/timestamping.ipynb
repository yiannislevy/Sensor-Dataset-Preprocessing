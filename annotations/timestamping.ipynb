{
 "cells": [
  {
   "cell_type": "markdown",
   "source": [
    "# This is a time_sync helper notebook for annotating timestamps"
   ],
   "metadata": {
    "collapsed": false
   },
   "id": "9f12b0c663690f26"
  },
  {
   "cell_type": "markdown",
   "source": [
    "## Video Annotation\n",
    "1. **Note** through quickTime Player the \"video_start_time_SMPTE\" (last 1 or 2 digits -> x frames)\n",
    "2. Find the number of frames used in the video (30 or 60)\n",
    "3. Translate frames to milliseconds with x/fps (will give the ms approximation)\n",
    "4. **Note** \"video_start_time\"  \n",
    "5. **Annotate** \"relative_video_clap_time\" in relative seconds since start\n",
    "6. **Note** \"video_clap_time\" by calculating the real time (video start time + seconds elapsed)"
   ],
   "metadata": {
    "collapsed": false
   },
   "id": "8e337a20832cf74"
  },
  {
   "cell_type": "markdown",
   "source": [
    "## IMU Annotation"
   ],
   "metadata": {
    "collapsed": false
   },
   "id": "9659e6393c1a0bca"
  },
  {
   "cell_type": "code",
   "execution_count": null,
   "id": "initial_id",
   "metadata": {
    "collapsed": true
   },
   "outputs": [],
   "source": [
    "%matplotlib notebook\n",
    "import json\n",
    "import pickle\n",
    "from datetime import datetime, timedelta\n",
    "import pandas as pd\n",
    "\n",
    "from src.main.imu_data_io import load_raw_sensor_data\n",
    "from src.main.imu_preprocessing import (sync, resample)\n",
    "\n",
    "from src.utils.imu_data_visualization import plot_raw_sensor"
   ]
  },
  {
   "cell_type": "code",
   "outputs": [],
   "source": [
    "with open('../config/imu_config.json') as config_file:\n",
    "    config = json.load(config_file)"
   ],
   "metadata": {
    "collapsed": false
   },
   "id": "ebb7b44d697ec579",
   "execution_count": null
  },
  {
   "cell_type": "code",
   "outputs": [],
   "source": [
    "raw_data_directory = config['data_paths']['raw_data_directory']\n",
    "processed_data_directory = config['data_paths']['processed_data_directory']\n",
    "upsample_frequency = config['resampling']['upsample_frequency']\n",
    "filter_length = config['filtering']['moving_average_filter_length']\n",
    "gravity_filter_cutoff_hz = config['filtering']['gravity_filter_cutoff_hz']\n",
    "left_handed_subjects = config['processing_options']['left_handed_subjects']\n",
    "saving_format = config['saving_options']['file_format']\n",
    "path_to_mean_std = config['standardization']['path_to_mean_std']"
   ],
   "metadata": {
    "collapsed": false
   },
   "id": "e75f4aa27cca48ac",
   "execution_count": null
  },
  {
   "cell_type": "code",
   "outputs": [],
   "source": [
    "subject_id = \"19\""
   ],
   "metadata": {
    "collapsed": false
   },
   "id": "2bacda5fd5852765",
   "execution_count": null
  },
  {
   "cell_type": "code",
   "outputs": [],
   "source": [
    "path = f\"../data/raw/{subject_id}\""
   ],
   "metadata": {
    "collapsed": false
   },
   "id": "a5ef277d6831a71f",
   "execution_count": null
  },
  {
   "cell_type": "code",
   "outputs": [],
   "source": [
    "acc_data, gyro_data = load_raw_sensor_data(path)"
   ],
   "metadata": {
    "collapsed": false
   },
   "id": "f10395aa6f67f052"
  },
  {
   "cell_type": "code",
   "outputs": [],
   "source": [
    "sync_acc, sync_gyro = sync(acc_data, gyro_data)\n",
    "res_acc, res_gyro = resample(acc_data, gyro_data, upsample_frequency)"
   ],
   "metadata": {
    "collapsed": false
   },
   "id": "afc2645affc0864"
  },
  {
   "cell_type": "markdown",
   "source": [
    "1. **Note** \"imu_start_time\"\n",
    "2. Identify event (clap) from resampled data\n",
    "3. **Note** \"imu_clap_time\""
   ],
   "metadata": {
    "collapsed": false
   },
   "id": "b4e12233073e778f"
  },
  {
   "cell_type": "code",
   "outputs": [],
   "source": [
    "plot_raw_sensor(res_acc, \"\")"
   ],
   "metadata": {
    "collapsed": false
   },
   "id": "8e4e4f7a83052865"
  },
  {
   "cell_type": "markdown",
   "source": [
    "1. FIND DT between imu and video\n",
    "2. **Note** \"video_imu_time_difference\"\n",
    "3. **Note** \"video_imu_time_difference_seconds\""
   ],
   "metadata": {
    "collapsed": false
   },
   "id": "d6e8eea30799397f"
  },
  {
   "cell_type": "code",
   "outputs": [],
   "source": [
    "# IMU actual clap time\n",
    "imu_clap_time_str = '15:36:41.3020'  # hh:mm:ss.ms format\n",
    "imu_clap_time = datetime.strptime(imu_clap_time_str, '%H:%M:%S.%f')\n",
    "\n",
    "# Video actual clap time\n",
    "video_clap_time_str = '16:37:14.5630'  # hh:mm:ss.ms format\n",
    "video_clap_time = datetime.strptime(video_clap_time_str, '%H:%M:%S.%f')\n",
    "\n",
    "# Calculate dt (time difference)\n",
    "dt = video_clap_time - imu_clap_time\n",
    "\n",
    "# Output dt\n",
    "print(\"Time Difference (dt):\", dt)\n",
    "\n",
    "dt_seconds = dt.total_seconds()\n",
    "\n",
    "print(\"Time Difference in seconds:\", dt_seconds)"
   ],
   "metadata": {
    "collapsed": false
   },
   "id": "8f6e2d2ee1ffb5e0"
  },
  {
   "cell_type": "markdown",
   "source": [
    "# OPTIONAL"
   ],
   "metadata": {
    "collapsed": false
   },
   "id": "30503492538d352b"
  },
  {
   "cell_type": "markdown",
   "source": [
    "## Mandometer Annotation"
   ],
   "metadata": {
    "collapsed": false
   },
   "id": "b58695eb7baf97ac"
  },
  {
   "cell_type": "markdown",
   "source": [
    "1. Find commonly identifiable event\n",
    "2. **Note** \"relative_video_mando_time\" which is the relative seconds in *video* time of when it happened\n",
    "3. **Note** \"relative_mando_time\" which is the relative seconds in *mandometer* time of when it happened"
   ],
   "metadata": {
    "collapsed": false
   },
   "id": "d5ca61a98599e115"
  },
  {
   "cell_type": "code",
   "outputs": [],
   "source": [
    "with open(\"time_sync.json\", \"r\") as f:\n",
    "    time_sync = json.load(f)"
   ],
   "metadata": {
    "collapsed": false
   },
   "id": "630fbe1b8b4f4231",
   "execution_count": null
  },
  {
   "cell_type": "code",
   "outputs": [],
   "source": [
    "sync_subject = [info for info in time_sync['sync_info'] if info['subject_id'] == subject_id][0]"
   ],
   "metadata": {
    "collapsed": false
   },
   "id": "bb1276229470ae3b",
   "execution_count": null
  },
  {
   "cell_type": "code",
   "outputs": [],
   "source": [
    "video_start_time_str = sync_subject['video_start_time']\n",
    "relative_video_mando_time_str = sync_subject['relative_video_mando_time']  # Find the relative time since the video started of a commonly identifiable event\n",
    "relative_mando_time_str = sync_subject['relative_mando_time'] # the sample number of when the person started eating. since median sample rate is 1hz ->seconds (beware cause average hz is less than that: 0.94hz)"
   ],
   "metadata": {
    "collapsed": false
   },
   "id": "766ae72acf0f7ef",
   "execution_count": null
  },
  {
   "cell_type": "markdown",
   "source": [
    "1. Find when the mandometer actually started in video's timeline\n",
    "2. **Note** \"mando_video_start_time\""
   ],
   "metadata": {
    "collapsed": false
   },
   "id": "8d1250091ca86f0d"
  },
  {
   "cell_type": "code",
   "outputs": [],
   "source": [
    "# Convert string times to datetime objects\n",
    "video_start_time = datetime.strptime(video_start_time_str, \"%H:%M:%S.%f\")\n",
    "relative_video_mando_time = datetime.strptime(relative_video_mando_time_str, \"%H:%M:%S.%f\")\n",
    "relative_mando_time = datetime.strptime(relative_mando_time_str, \"%H:%M:%S.%f\")"
   ],
   "metadata": {
    "collapsed": false
   },
   "id": "d74940f96cb800d1",
   "execution_count": null
  },
  {
   "cell_type": "code",
   "outputs": [],
   "source": [
    "# Calculate timedelta for the relative times from the video start to the event (n) and from the device start to the event (k)\n",
    "relative_video_mando_delta = timedelta(hours=relative_video_mando_time.hour, minutes=relative_video_mando_time.minute, seconds=relative_video_mando_time.second, microseconds=relative_video_mando_time.microsecond)\n",
    "relative_mando_delta = timedelta(hours=relative_mando_time.hour, minutes=relative_mando_time.minute, seconds=relative_mando_time.second, microseconds=relative_mando_time.microsecond)\n",
    "\n",
    "# Calculate the device's start time using the logic X + n - k\n",
    "mando_video_start_time = (video_start_time + relative_video_mando_delta - relative_mando_delta).strftime(\"%H:%M:%S.%f\")\n"
   ],
   "metadata": {
    "collapsed": false
   },
   "id": "3e7bb9696c19228a",
   "execution_count": null
  },
  {
   "cell_type": "code",
   "outputs": [],
   "source": [
    "print(\"Mandometer's approximate start time:\", mando_video_start_time)"
   ],
   "metadata": {
    "collapsed": false
   },
   "id": "99df543f2ccb8314",
   "execution_count": null
  },
  {
   "cell_type": "code",
   "outputs": [],
   "source": [],
   "metadata": {
    "collapsed": false
   },
   "id": "f13a004afc4232d4"
  }
 ],
 "metadata": {
  "kernelspec": {
   "display_name": "Python 3",
   "language": "python",
   "name": "python3"
  },
  "language_info": {
   "codemirror_mode": {
    "name": "ipython",
    "version": 2
   },
   "file_extension": ".py",
   "mimetype": "text/x-python",
   "name": "python",
   "nbconvert_exporter": "python",
   "pygments_lexer": "ipython2",
   "version": "2.7.6"
  }
 },
 "nbformat": 4,
 "nbformat_minor": 5
}
