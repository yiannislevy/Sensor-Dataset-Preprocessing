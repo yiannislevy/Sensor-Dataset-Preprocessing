{
 "cells": [
  {
   "cell_type": "code",
   "execution_count": null,
   "id": "initial_id",
   "metadata": {
    "collapsed": true
   },
   "outputs": [],
   "source": [
    "import numpy as np\n",
    "%matplotlib notebook\n",
    "import json\n",
    "import pickle\n",
    "from datetime import datetime, timedelta\n",
    "import pandas as pd\n",
    "\n",
    "from src.main.imu_data_io import load_raw_sensor_data\n",
    "from src.main.imu_preprocessing import (sync, resample)\n",
    "\n",
    "from src.utils.imu_data_visualization import plot_raw_sensor"
   ]
  },
  {
   "cell_type": "markdown",
   "id": "9f12b0c663690f26",
   "metadata": {},
   "source": [
    "# This is a time_sync helper notebook for annotating timestamps"
   ]
  },
  {
   "cell_type": "markdown",
   "id": "9659e6393c1a0bca",
   "metadata": {},
   "source": [
    "## IMU Annotation"
   ]
  },
  {
   "cell_type": "markdown",
   "source": [
    "1. **Note** \"imu_start_time\"\n",
    "2. Identify event (clap) from resampled data\n",
    "3. **Note** \"imu_clap_time\""
   ],
   "metadata": {
    "collapsed": false
   },
   "id": "56583d24134daa1d"
  },
  {
   "cell_type": "code",
   "outputs": [],
   "source": [
    "subject_id = \"\""
   ],
   "metadata": {},
   "id": "2bacda5fd5852765",
   "execution_count": null
  },
  {
   "cell_type": "code",
   "outputs": [],
   "source": [
    "path = f\"../data/raw/{subject_id}\""
   ],
   "metadata": {},
   "id": "a5ef277d6831a71f",
   "execution_count": null
  },
  {
   "cell_type": "code",
   "outputs": [],
   "source": [
    "acc_data, gyro_data = load_raw_sensor_data(path)"
   ],
   "metadata": {},
   "id": "f10395aa6f67f052",
   "execution_count": null
  },
  {
   "cell_type": "code",
   "outputs": [],
   "source": [
    "sync_acc, sync_gyro = sync(acc_data, gyro_data)\n",
    "res_acc, res_gyro = resample(acc_data, gyro_data)"
   ],
   "metadata": {},
   "id": "afc2645affc0864",
   "execution_count": null
  },
  {
   "cell_type": "code",
   "outputs": [],
   "source": [
    "print(res_acc['time'][0])"
   ],
   "metadata": {
    "collapsed": false
   },
   "id": "9f19a3043e7e0fbd",
   "execution_count": null
  },
  {
   "cell_type": "code",
   "outputs": [],
   "source": [
    "plot_raw_sensor(res_acc, \"\")"
   ],
   "metadata": {},
   "id": "8e4e4f7a83052865",
   "execution_count": null
  },
  {
   "cell_type": "markdown",
   "source": [
    "## Video Annotation\n",
    "\n",
    "1. **Open** ELAN and identify common event time\n",
    "2. **Note** \"relative_video_clap_time\" in [time_sync.json](time_sync.json)"
   ],
   "metadata": {},
   "id": "8e337a20832cf74"
  },
  {
   "cell_type": "code",
   "outputs": [],
   "source": [
    "with open(\"time_sync.json\", \"r\") as f:\n",
    "    time_sync = json.load(f)\n",
    "sync_subject = [info for info in time_sync['sync_info'] if info['subject_id'] == subject_id][0]"
   ],
   "metadata": {},
   "id": "aa318109732428d3",
   "execution_count": null
  },
  {
   "cell_type": "code",
   "outputs": [],
   "source": [
    "relative_video_clap_time = datetime.strptime(sync_subject['relative_video_clap_time'], '%H:%M:%S.%f') - datetime.strptime(\"00:00:00.0000\", '%H:%M:%S.%f')\n",
    "imu_clap_time = datetime.strptime(sync_subject['imu_clap_time'], '%H:%M:%S.%f')"
   ],
   "metadata": {
    "collapsed": false
   },
   "id": "12c6968d7d343ac3",
   "execution_count": null
  },
  {
   "cell_type": "markdown",
   "source": [
    "3. **Calculate** video start time (fake time)"
   ],
   "metadata": {
    "collapsed": false
   },
   "id": "a2df00bc4966eadf"
  },
  {
   "cell_type": "code",
   "outputs": [],
   "source": [
    "video_start_time = imu_clap_time - relative_video_clap_time"
   ],
   "metadata": {},
   "id": "af42afdda8a2012d",
   "execution_count": null
  },
  {
   "cell_type": "markdown",
   "source": [
    "4. **Note** to json \"video_start_time\"  "
   ],
   "metadata": {
    "collapsed": false
   },
   "id": "b222129db96e7596"
  },
  {
   "cell_type": "code",
   "outputs": [],
   "source": [
    "print(video_start_time.strftime('%H:%M:%S.%f')[:-2])"
   ],
   "metadata": {
    "collapsed": false
   },
   "id": "3edf550559ebeb5c",
   "execution_count": null
  },
  {
   "cell_type": "markdown",
   "source": [
    "5. **Calculate** video_clap_time"
   ],
   "metadata": {
    "collapsed": false
   },
   "id": "4fed79dbdd2564b3"
  },
  {
   "cell_type": "code",
   "outputs": [],
   "source": [
    "video_clap_time = video_start_time + relative_video_clap_time"
   ],
   "metadata": {
    "collapsed": false
   },
   "id": "ce9952814b9fe694",
   "execution_count": null
  },
  {
   "cell_type": "markdown",
   "source": [
    "6. **Note** to json \"video_clap_time\""
   ],
   "metadata": {
    "collapsed": false
   },
   "id": "65a37946770454b8"
  },
  {
   "cell_type": "code",
   "outputs": [],
   "source": [
    "print(video_clap_time.strftime('%H:%M:%S.%f')[:-2]) # Same as in the imu!"
   ],
   "metadata": {
    "collapsed": false
   },
   "id": "447ed305367ebc08",
   "execution_count": null
  },
  {
   "cell_type": "markdown",
   "id": "30503492538d352b",
   "metadata": {},
   "source": [
    "# OPTIONAL"
   ]
  },
  {
   "cell_type": "markdown",
   "id": "b58695eb7baf97ac",
   "metadata": {},
   "source": [
    "## Mandometer Annotation"
   ]
  },
  {
   "cell_type": "markdown",
   "id": "d5ca61a98599e115",
   "metadata": {},
   "source": [
    "1. Find commonly identifiable event\n",
    "2. **Note** \"relative_video_mando_time\" which is the relative seconds in *video* time of when it happened\n",
    "3. **Note** \"relative_mando_time\" which is the relative seconds in *mandometer* time of when it happened"
   ]
  },
  {
   "cell_type": "code",
   "execution_count": null,
   "id": "630fbe1b8b4f4231",
   "metadata": {},
   "outputs": [],
   "source": [
    "with open(\"time_sync.json\", \"r\") as f:\n",
    "    time_sync = json.load(f)"
   ]
  },
  {
   "cell_type": "code",
   "execution_count": null,
   "id": "bb1276229470ae3b",
   "metadata": {},
   "outputs": [],
   "source": [
    "sync_subject = [info for info in time_sync['sync_info'] if info['subject_id'] == subject_id][0]"
   ]
  },
  {
   "cell_type": "code",
   "execution_count": null,
   "id": "766ae72acf0f7ef",
   "metadata": {},
   "outputs": [],
   "source": [
    "video_start_time_str = sync_subject['video_start_time']\n",
    "relative_video_mando_time_str = sync_subject['relative_video_mando_time']  # Find the relative time since the video started of a commonly identifiable event\n",
    "relative_mando_time_str = sync_subject['relative_mando_time'] # the sample number of when the person started eating. since median sample rate is 1hz ->seconds (beware cause average hz is less than that: 0.94hz)"
   ]
  },
  {
   "cell_type": "markdown",
   "id": "8d1250091ca86f0d",
   "metadata": {},
   "source": [
    "1. Find when the mandometer actually started in video's timeline\n",
    "2. **Note** \"mando_video_start_time\""
   ]
  },
  {
   "cell_type": "code",
   "execution_count": null,
   "id": "d74940f96cb800d1",
   "metadata": {},
   "outputs": [],
   "source": [
    "# Convert string times to datetime objects\n",
    "video_start_time = datetime.strptime(video_start_time_str, \"%H:%M:%S.%f\")\n",
    "relative_video_mando_time = datetime.strptime(relative_video_mando_time_str, \"%H:%M:%S.%f\")\n",
    "relative_mando_time = datetime.strptime(relative_mando_time_str, \"%H:%M:%S.%f\")"
   ]
  },
  {
   "cell_type": "code",
   "execution_count": null,
   "id": "3e7bb9696c19228a",
   "metadata": {},
   "outputs": [],
   "source": [
    "# Calculate timedelta for the relative times from the video start to the event (n) and from the device start to the event (k)\n",
    "relative_video_mando_delta = timedelta(hours=relative_video_mando_time.hour, minutes=relative_video_mando_time.minute, seconds=relative_video_mando_time.second, microseconds=relative_video_mando_time.microsecond)\n",
    "relative_mando_delta = timedelta(hours=relative_mando_time.hour, minutes=relative_mando_time.minute, seconds=relative_mando_time.second, microseconds=relative_mando_time.microsecond)\n",
    "\n",
    "# Calculate the device's start time using the logic X + n - k\n",
    "mando_video_start_time = (video_start_time + relative_video_mando_delta - relative_mando_delta).strftime(\"%H:%M:%S.%f\")\n"
   ]
  },
  {
   "cell_type": "code",
   "execution_count": null,
   "id": "99df543f2ccb8314",
   "metadata": {},
   "outputs": [],
   "source": [
    "print(\"Mandometer's approximate start time:\", mando_video_start_time)"
   ]
  },
  {
   "cell_type": "code",
   "execution_count": null,
   "id": "f13a004afc4232d4",
   "metadata": {},
   "outputs": [],
   "source": []
  }
 ],
 "metadata": {
  "kernelspec": {
   "display_name": "Python 3 (ipykernel)",
   "language": "python",
   "name": "python3"
  },
  "language_info": {
   "codemirror_mode": {
    "name": "ipython",
    "version": 3
   },
   "file_extension": ".py",
   "mimetype": "text/x-python",
   "name": "python",
   "nbconvert_exporter": "python",
   "pygments_lexer": "ipython3",
   "version": "3.11.0"
  }
 },
 "nbformat": 4,
 "nbformat_minor": 5
}
