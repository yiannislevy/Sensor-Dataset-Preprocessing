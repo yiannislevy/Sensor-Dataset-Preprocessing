{
 "cells": [
  {
   "cell_type": "markdown",
   "source": [
    "This notebook transforms imu's timeline to video's in relative seconds since common start.\n",
    "Then, using bite event ground truth, makes the windows of imu corresponding to bite event.\n",
    "Saves all."
   ],
   "metadata": {
    "collapsed": false
   },
   "id": "f5b6f965c5c4ea2d"
  },
  {
   "cell_type": "code",
   "outputs": [],
   "source": [
    "import pickle\n",
    "import json\n",
    "import pandas as pd\n",
    "import numpy as np\n",
    "from datetime import datetime, timedelta, date\n",
    "from src.tools import align_imu_to_video_timeline, extract_event_windows\n",
    "from src.utils.tools import save_data"
   ],
   "metadata": {
    "collapsed": false
   },
   "id": "567ad29490ecd082",
   "execution_count": null
  },
  {
   "cell_type": "code",
   "outputs": [],
   "source": [
    "subject_id = ''"
   ],
   "metadata": {
    "collapsed": false
   },
   "id": "ba9c4a41164d1640",
   "execution_count": null
  },
  {
   "cell_type": "code",
   "outputs": [],
   "source": [
    "with open(f\"../data/processed/{subject_id}/{subject_id}.pkl\", \"rb\") as f:\n",
    "    imu = pickle.load(f)"
   ],
   "metadata": {
    "collapsed": false
   },
   "id": "1127aa18126c11e4",
   "execution_count": null
  },
  {
   "cell_type": "code",
   "outputs": [],
   "source": [
    "imu_relative_t = align_imu_to_video_timeline(imu.copy(), \n",
    "                       subject_id=subject_id,\n",
    "                       save=False)"
   ],
   "metadata": {
    "collapsed": false
   },
   "id": "d60140c5f9c0547f",
   "execution_count": null
  },
  {
   "cell_type": "code",
   "outputs": [],
   "source": [
    "save_data(imu_relative_t, f\"../data/processed/{subject_id}/\", f\"imu_relative_t_{subject_id}\")"
   ],
   "metadata": {
    "collapsed": false
   },
   "id": "cf2b467335f9d5ab",
   "execution_count": null
  },
  {
   "cell_type": "code",
   "outputs": [],
   "source": [
    "with open(f\"../data/processed/{subject_id}/bite_gt_{subject_id}.pkl\", \"rb\") as f:\n",
    "    bite_gt = pickle.load(f)"
   ],
   "metadata": {
    "collapsed": false
   },
   "id": "cdcf2276c4b02477",
   "execution_count": null
  },
  {
   "cell_type": "code",
   "outputs": [],
   "source": [
    "bite_events = extract_event_windows(imu_relative_t, bite_gt)"
   ],
   "metadata": {
    "collapsed": false
   },
   "id": "1448d49a1f643766",
   "execution_count": null
  },
  {
   "cell_type": "code",
   "outputs": [],
   "source": [
    "save_data(bite_events, f\"../data/processed/{subject_id}/\", f\"imu_bite_windows_{subject_id}\")"
   ],
   "metadata": {
    "collapsed": false
   },
   "id": "47e5ceadc055c7af",
   "execution_count": null
  },
  {
   "cell_type": "code",
   "outputs": [],
   "source": [],
   "metadata": {
    "collapsed": false
   },
   "id": "4750f87d513a3d0f"
  }
 ],
 "metadata": {
  "kernelspec": {
   "display_name": "Python 3",
   "language": "python",
   "name": "python3"
  },
  "language_info": {
   "codemirror_mode": {
    "name": "ipython",
    "version": 2
   },
   "file_extension": ".py",
   "mimetype": "text/x-python",
   "name": "python",
   "nbconvert_exporter": "python",
   "pygments_lexer": "ipython2",
   "version": "2.7.6"
  }
 },
 "nbformat": 4,
 "nbformat_minor": 5
}
