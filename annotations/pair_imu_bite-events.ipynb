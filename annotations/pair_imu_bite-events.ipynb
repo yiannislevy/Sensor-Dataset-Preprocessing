{
 "cells": [
  {
   "cell_type": "markdown",
   "source": [
    "This notebook transforms imu's timeline to video's in relative seconds since common start.\n",
    "Then, using bite event ground truth, makes the windows of imu corresponding to bite event.\n",
    "Saves all."
   ],
   "metadata": {
    "collapsed": false
   },
   "id": "f5b6f965c5c4ea2d"
  },
  {
   "cell_type": "code",
   "outputs": [],
   "source": [
    "import pickle\n",
    "import json\n",
    "import pandas as pd\n",
    "import numpy as np\n",
    "from datetime import datetime, timedelta, date\n",
    "from src.tools import align_imu_to_video_timeline, extract_event_windows\n",
    "from src.utils.tools import save_data"
   ],
   "metadata": {
    "collapsed": false,
    "ExecuteTime": {
     "end_time": "2024-06-07T13:17:40.699594Z",
     "start_time": "2024-06-07T13:17:40.271659Z"
    }
   },
   "id": "567ad29490ecd082",
   "execution_count": 1
  },
  {
   "cell_type": "code",
   "outputs": [],
   "source": [
    "subject_id = '4' #run again with not standardized data"
   ],
   "metadata": {
    "collapsed": false,
    "ExecuteTime": {
     "end_time": "2024-06-07T13:17:42.949785Z",
     "start_time": "2024-06-07T13:17:42.946437Z"
    }
   },
   "id": "ba9c4a41164d1640",
   "execution_count": 2
  },
  {
   "cell_type": "code",
   "outputs": [],
   "source": [
    "with open(f\"../data/processed/{subject_id}/{subject_id}.pkl\", \"rb\") as f:\n",
    "    imu = pickle.load(f)"
   ],
   "metadata": {
    "collapsed": false,
    "ExecuteTime": {
     "end_time": "2024-06-07T13:17:43.448035Z",
     "start_time": "2024-06-07T13:17:43.440315Z"
    }
   },
   "id": "1127aa18126c11e4",
   "execution_count": 3
  },
  {
   "cell_type": "code",
   "outputs": [],
   "source": [
    "imu_relative_t = align_imu_to_video_timeline(imu.copy(), \n",
    "                       subject_id=subject_id,\n",
    "                       save=False)"
   ],
   "metadata": {
    "collapsed": false,
    "ExecuteTime": {
     "end_time": "2024-06-07T13:17:45.009016Z",
     "start_time": "2024-06-07T13:17:44.990731Z"
    }
   },
   "id": "d60140c5f9c0547f",
   "execution_count": 4
  },
  {
   "cell_type": "code",
   "outputs": [
    {
     "data": {
      "text/plain": "array([[ 7.99993600e-03,  3.01387323e-03, -2.01133912e-03, ...,\n        -8.45290200e+00,  5.64772972e-03,  4.47181790e-01],\n       [ 1.79999360e-02,  3.01387323e-03, -2.01133912e-03, ...,\n        -8.66509708e+00,  5.64772972e-03,  4.47181790e-01],\n       [ 2.79999360e-02,  3.01387323e-03, -2.01133912e-03, ...,\n        -1.06690563e+01,  5.64772972e-03,  5.96245902e-01],\n       ...,\n       [ 6.62608000e+02,  0.00000000e+00, -0.00000000e+00, ...,\n         0.00000000e+00, -3.88245516e-01, -1.39929082e-01],\n       [ 6.62618000e+02,  0.00000000e+00, -0.00000000e+00, ...,\n         0.00000000e+00, -1.56060207e-01, -1.39929082e-01],\n       [ 6.62628000e+02,  0.00000000e+00, -0.00000000e+00, ...,\n         0.00000000e+00, -0.00000000e+00, -1.39929082e-01]])"
     },
     "execution_count": 6,
     "metadata": {},
     "output_type": "execute_result"
    }
   ],
   "source": [
    "imu_relative_t"
   ],
   "metadata": {
    "collapsed": false,
    "ExecuteTime": {
     "end_time": "2024-06-07T13:17:53.812919Z",
     "start_time": "2024-06-07T13:17:53.806487Z"
    }
   },
   "id": "e6cd261b52b972d1",
   "execution_count": 6
  },
  {
   "cell_type": "code",
   "outputs": [],
   "source": [
    "save_data(imu_relative_t, f\"../data/processed/{subject_id}/\", f\"imu_relative_t_{subject_id}\")"
   ],
   "metadata": {
    "collapsed": false,
    "ExecuteTime": {
     "end_time": "2024-06-04T16:54:32.185873Z",
     "start_time": "2024-06-04T16:54:32.181168Z"
    }
   },
   "id": "cf2b467335f9d5ab",
   "execution_count": 145
  },
  {
   "cell_type": "code",
   "outputs": [],
   "source": [
    "with open(f\"../data/processed/{subject_id}/bite_gt_{subject_id}.pkl\", \"rb\") as f:\n",
    "    bite_gt = pickle.load(f)"
   ],
   "metadata": {
    "collapsed": false,
    "ExecuteTime": {
     "end_time": "2024-06-07T13:18:02.363113Z",
     "start_time": "2024-06-07T13:18:02.358108Z"
    }
   },
   "id": "cdcf2276c4b02477",
   "execution_count": 7
  },
  {
   "cell_type": "code",
   "outputs": [],
   "source": [
    "bite_events = extract_event_windows(imu_relative_t, bite_gt)"
   ],
   "metadata": {
    "collapsed": false,
    "ExecuteTime": {
     "end_time": "2024-06-07T13:18:04.743824Z",
     "start_time": "2024-06-07T13:18:04.735484Z"
    }
   },
   "id": "1448d49a1f643766",
   "execution_count": 8
  },
  {
   "cell_type": "code",
   "outputs": [
    {
     "data": {
      "text/plain": "array([[ 8.07079999e+01, -3.03508325e-02,  3.79489644e-02, ...,\n         4.28715931e+01,  5.18509946e+01, -1.97527104e+01],\n       [ 8.07179999e+01, -3.03508325e-02,  3.79489644e-02, ...,\n         4.40251156e+01,  5.77960798e+01, -1.79655375e+01],\n       [ 8.07279999e+01, -3.03508325e-02,  3.79489644e-02, ...,\n         4.40251156e+01,  5.97466119e+01, -1.72836341e+01],\n       ...,\n       [ 8.39079999e+01,  6.65936705e-02, -1.61351894e-01, ...,\n         7.09308440e+00, -4.82191232e+00, -4.98309907e-01],\n       [ 8.39179999e+01,  6.65936705e-02, -1.61351894e-01, ...,\n         7.09308440e+00, -4.17930376e+00, -4.98309907e-01],\n       [ 8.39279999e+01,  6.65936705e-02, -1.53464488e-01, ...,\n         7.09308440e+00, -4.07113947e+00, -1.52164560e+00]])"
     },
     "execution_count": 9,
     "metadata": {},
     "output_type": "execute_result"
    }
   ],
   "source": [
    "bite_events[0]"
   ],
   "metadata": {
    "collapsed": false,
    "ExecuteTime": {
     "end_time": "2024-06-07T13:18:10.393402Z",
     "start_time": "2024-06-07T13:18:10.389299Z"
    }
   },
   "id": "70df0d150a251f28",
   "execution_count": 9
  },
  {
   "cell_type": "code",
   "outputs": [],
   "source": [
    "save_data(bite_events, f\"../data/processed/{subject_id}/\", f\"imu_bite_windows_{subject_id}\")"
   ],
   "metadata": {
    "collapsed": false,
    "ExecuteTime": {
     "end_time": "2024-06-04T16:54:36.099975Z",
     "start_time": "2024-06-04T16:54:36.093335Z"
    }
   },
   "id": "47e5ceadc055c7af",
   "execution_count": 149
  },
  {
   "cell_type": "code",
   "outputs": [
    {
     "data": {
      "text/plain": "40"
     },
     "execution_count": 150,
     "metadata": {},
     "output_type": "execute_result"
    }
   ],
   "source": [
    "len(bite_events)"
   ],
   "metadata": {
    "collapsed": false,
    "ExecuteTime": {
     "end_time": "2024-06-04T16:54:43.164238Z",
     "start_time": "2024-06-04T16:54:43.160926Z"
    }
   },
   "id": "cd427eaf70d6135",
   "execution_count": 150
  },
  {
   "cell_type": "code",
   "outputs": [
    {
     "data": {
      "text/plain": "40"
     },
     "execution_count": 41,
     "metadata": {},
     "output_type": "execute_result"
    }
   ],
   "source": [
    "with open(\"../data/processed/22_meal_2/imu_bite_windows_22_meal_2.pkl\", \"rb\") as f:\n",
    "    bites=pickle.load(f)\n",
    "len(bites)"
   ],
   "metadata": {
    "collapsed": false,
    "ExecuteTime": {
     "end_time": "2024-06-04T08:13:27.479907Z",
     "start_time": "2024-06-04T08:13:27.474039Z"
    }
   },
   "id": "8e4eb6a1801afa48",
   "execution_count": 41
  },
  {
   "cell_type": "code",
   "outputs": [],
   "source": [
    "with open('../data/processed/4/4.pkl', 'rb') as f:\n",
    "    imu_4 = pickle.load(f)"
   ],
   "metadata": {
    "collapsed": false,
    "ExecuteTime": {
     "end_time": "2024-06-07T13:22:17.592476Z",
     "start_time": "2024-06-07T13:22:17.587211Z"
    }
   },
   "id": "5d0353aee6acb1c0",
   "execution_count": 18
  },
  {
   "cell_type": "code",
   "outputs": [
    {
     "data": {
      "text/plain": "                                   t  a_x       a_y       a_z       g_x  \\\n0      2023-09-28 12:43:27.620999936  0.0 -0.000000 -0.000005 -0.251389   \n1      2023-09-28 12:43:27.630999936  0.0 -0.005485 -0.006215 -0.298031   \n2      2023-09-28 12:43:27.640999936  0.0 -0.010964 -0.012171 -0.344674   \n3      2023-09-28 12:43:27.650999936  0.0 -0.012768 -0.012171 -0.432812   \n4      2023-09-28 12:43:27.660999936  0.0 -0.012768 -0.012171 -0.526099   \n...                              ...  ...       ...       ...       ...   \n279259 2023-09-28 13:30:00.210999936  0.0 -0.000000 -0.000000  0.000000   \n279260 2023-09-28 13:30:00.220999936  0.0 -0.000000 -0.000000  0.000000   \n279261 2023-09-28 13:30:00.230999936  0.0 -0.000000 -0.000000  0.000000   \n279262 2023-09-28 13:30:00.240999936  0.0 -0.000000 -0.000000  0.000000   \n279263 2023-09-28 13:30:00.250999936  0.0 -0.000000 -0.000000  0.000000   \n\n             g_y       g_z  \n0      -3.628646  5.120283  \n1      -4.110045  5.120283  \n2      -4.483186  5.120283  \n3      -4.483186  5.236889  \n4      -4.483186  5.282341  \n...          ...       ...  \n279259 -0.407563 -0.183984  \n279260 -0.391361 -0.139929  \n279261 -0.388246 -0.139929  \n279262 -0.156060 -0.139929  \n279263 -0.000000 -0.139929  \n\n[279264 rows x 7 columns]",
      "text/html": "<div>\n<style scoped>\n    .dataframe tbody tr th:only-of-type {\n        vertical-align: middle;\n    }\n\n    .dataframe tbody tr th {\n        vertical-align: top;\n    }\n\n    .dataframe thead th {\n        text-align: right;\n    }\n</style>\n<table border=\"1\" class=\"dataframe\">\n  <thead>\n    <tr style=\"text-align: right;\">\n      <th></th>\n      <th>t</th>\n      <th>a_x</th>\n      <th>a_y</th>\n      <th>a_z</th>\n      <th>g_x</th>\n      <th>g_y</th>\n      <th>g_z</th>\n    </tr>\n  </thead>\n  <tbody>\n    <tr>\n      <th>0</th>\n      <td>2023-09-28 12:43:27.620999936</td>\n      <td>0.0</td>\n      <td>-0.000000</td>\n      <td>-0.000005</td>\n      <td>-0.251389</td>\n      <td>-3.628646</td>\n      <td>5.120283</td>\n    </tr>\n    <tr>\n      <th>1</th>\n      <td>2023-09-28 12:43:27.630999936</td>\n      <td>0.0</td>\n      <td>-0.005485</td>\n      <td>-0.006215</td>\n      <td>-0.298031</td>\n      <td>-4.110045</td>\n      <td>5.120283</td>\n    </tr>\n    <tr>\n      <th>2</th>\n      <td>2023-09-28 12:43:27.640999936</td>\n      <td>0.0</td>\n      <td>-0.010964</td>\n      <td>-0.012171</td>\n      <td>-0.344674</td>\n      <td>-4.483186</td>\n      <td>5.120283</td>\n    </tr>\n    <tr>\n      <th>3</th>\n      <td>2023-09-28 12:43:27.650999936</td>\n      <td>0.0</td>\n      <td>-0.012768</td>\n      <td>-0.012171</td>\n      <td>-0.432812</td>\n      <td>-4.483186</td>\n      <td>5.236889</td>\n    </tr>\n    <tr>\n      <th>4</th>\n      <td>2023-09-28 12:43:27.660999936</td>\n      <td>0.0</td>\n      <td>-0.012768</td>\n      <td>-0.012171</td>\n      <td>-0.526099</td>\n      <td>-4.483186</td>\n      <td>5.282341</td>\n    </tr>\n    <tr>\n      <th>...</th>\n      <td>...</td>\n      <td>...</td>\n      <td>...</td>\n      <td>...</td>\n      <td>...</td>\n      <td>...</td>\n      <td>...</td>\n    </tr>\n    <tr>\n      <th>279259</th>\n      <td>2023-09-28 13:30:00.210999936</td>\n      <td>0.0</td>\n      <td>-0.000000</td>\n      <td>-0.000000</td>\n      <td>0.000000</td>\n      <td>-0.407563</td>\n      <td>-0.183984</td>\n    </tr>\n    <tr>\n      <th>279260</th>\n      <td>2023-09-28 13:30:00.220999936</td>\n      <td>0.0</td>\n      <td>-0.000000</td>\n      <td>-0.000000</td>\n      <td>0.000000</td>\n      <td>-0.391361</td>\n      <td>-0.139929</td>\n    </tr>\n    <tr>\n      <th>279261</th>\n      <td>2023-09-28 13:30:00.230999936</td>\n      <td>0.0</td>\n      <td>-0.000000</td>\n      <td>-0.000000</td>\n      <td>0.000000</td>\n      <td>-0.388246</td>\n      <td>-0.139929</td>\n    </tr>\n    <tr>\n      <th>279262</th>\n      <td>2023-09-28 13:30:00.240999936</td>\n      <td>0.0</td>\n      <td>-0.000000</td>\n      <td>-0.000000</td>\n      <td>0.000000</td>\n      <td>-0.156060</td>\n      <td>-0.139929</td>\n    </tr>\n    <tr>\n      <th>279263</th>\n      <td>2023-09-28 13:30:00.250999936</td>\n      <td>0.0</td>\n      <td>-0.000000</td>\n      <td>-0.000000</td>\n      <td>0.000000</td>\n      <td>-0.000000</td>\n      <td>-0.139929</td>\n    </tr>\n  </tbody>\n</table>\n<p>279264 rows × 7 columns</p>\n</div>"
     },
     "execution_count": 19,
     "metadata": {},
     "output_type": "execute_result"
    }
   ],
   "source": [
    "imu_4"
   ],
   "metadata": {
    "collapsed": false,
    "ExecuteTime": {
     "end_time": "2024-06-07T13:22:19.662583Z",
     "start_time": "2024-06-07T13:22:19.653312Z"
    }
   },
   "id": "6d990e5a702c364b",
   "execution_count": 19
  },
  {
   "cell_type": "code",
   "outputs": [],
   "source": [
    "with open('../data/processed_fic_std/4/4.pkl', 'rb') as f:\n",
    "    imu_4_old = pickle.load(f)"
   ],
   "metadata": {
    "collapsed": false,
    "ExecuteTime": {
     "end_time": "2024-06-07T13:22:33.341704Z",
     "start_time": "2024-06-07T13:22:33.334418Z"
    }
   },
   "id": "c95ed8d6920c297",
   "execution_count": 20
  },
  {
   "cell_type": "code",
   "outputs": [
    {
     "data": {
      "text/plain": "                             t       a_x       a_y       a_z       g_x  \\\n0      2023-09-28 12:40:51.396  0.000071  0.000009 -0.000110  0.001171   \n1      2023-09-28 12:40:51.406  2.111494  0.000009 -1.631215  0.001171   \n2      2023-09-28 12:40:51.416  2.234349  0.000009 -1.631215  0.001171   \n3      2023-09-28 12:40:51.426  2.234349  0.000009 -1.631215  0.001171   \n4      2023-09-28 12:40:51.436  2.234349  0.000009 -1.631215  0.001171   \n...                        ...       ...       ...       ...       ...   \n294882 2023-09-28 13:30:00.216  0.000007  0.000009 -0.000042  0.001171   \n294883 2023-09-28 13:30:00.226  0.000071  0.000009 -0.000042  0.001171   \n294884 2023-09-28 13:30:00.236  0.000071  0.000009 -0.000042  0.001171   \n294885 2023-09-28 13:30:00.246  0.000071  0.000009 -0.000042  0.001171   \n294886 2023-09-28 13:30:00.256  0.000071  0.000009 -0.000042  0.001171   \n\n             g_y       g_z  \n0      -3.133285 -0.182807  \n1      -3.168634 -0.182807  \n2      -3.168634 -0.182807  \n3      -3.168634 -0.182807  \n4      -3.168634 -0.182807  \n...          ...       ...  \n294882 -0.086143  0.028972  \n294883 -0.082720  0.029379  \n294884 -0.080195  0.029379  \n294885 -0.064009  0.029379  \n294886 -0.064009  0.029379  \n\n[294887 rows x 7 columns]",
      "text/html": "<div>\n<style scoped>\n    .dataframe tbody tr th:only-of-type {\n        vertical-align: middle;\n    }\n\n    .dataframe tbody tr th {\n        vertical-align: top;\n    }\n\n    .dataframe thead th {\n        text-align: right;\n    }\n</style>\n<table border=\"1\" class=\"dataframe\">\n  <thead>\n    <tr style=\"text-align: right;\">\n      <th></th>\n      <th>t</th>\n      <th>a_x</th>\n      <th>a_y</th>\n      <th>a_z</th>\n      <th>g_x</th>\n      <th>g_y</th>\n      <th>g_z</th>\n    </tr>\n  </thead>\n  <tbody>\n    <tr>\n      <th>0</th>\n      <td>2023-09-28 12:40:51.396</td>\n      <td>0.000071</td>\n      <td>0.000009</td>\n      <td>-0.000110</td>\n      <td>0.001171</td>\n      <td>-3.133285</td>\n      <td>-0.182807</td>\n    </tr>\n    <tr>\n      <th>1</th>\n      <td>2023-09-28 12:40:51.406</td>\n      <td>2.111494</td>\n      <td>0.000009</td>\n      <td>-1.631215</td>\n      <td>0.001171</td>\n      <td>-3.168634</td>\n      <td>-0.182807</td>\n    </tr>\n    <tr>\n      <th>2</th>\n      <td>2023-09-28 12:40:51.416</td>\n      <td>2.234349</td>\n      <td>0.000009</td>\n      <td>-1.631215</td>\n      <td>0.001171</td>\n      <td>-3.168634</td>\n      <td>-0.182807</td>\n    </tr>\n    <tr>\n      <th>3</th>\n      <td>2023-09-28 12:40:51.426</td>\n      <td>2.234349</td>\n      <td>0.000009</td>\n      <td>-1.631215</td>\n      <td>0.001171</td>\n      <td>-3.168634</td>\n      <td>-0.182807</td>\n    </tr>\n    <tr>\n      <th>4</th>\n      <td>2023-09-28 12:40:51.436</td>\n      <td>2.234349</td>\n      <td>0.000009</td>\n      <td>-1.631215</td>\n      <td>0.001171</td>\n      <td>-3.168634</td>\n      <td>-0.182807</td>\n    </tr>\n    <tr>\n      <th>...</th>\n      <td>...</td>\n      <td>...</td>\n      <td>...</td>\n      <td>...</td>\n      <td>...</td>\n      <td>...</td>\n      <td>...</td>\n    </tr>\n    <tr>\n      <th>294882</th>\n      <td>2023-09-28 13:30:00.216</td>\n      <td>0.000007</td>\n      <td>0.000009</td>\n      <td>-0.000042</td>\n      <td>0.001171</td>\n      <td>-0.086143</td>\n      <td>0.028972</td>\n    </tr>\n    <tr>\n      <th>294883</th>\n      <td>2023-09-28 13:30:00.226</td>\n      <td>0.000071</td>\n      <td>0.000009</td>\n      <td>-0.000042</td>\n      <td>0.001171</td>\n      <td>-0.082720</td>\n      <td>0.029379</td>\n    </tr>\n    <tr>\n      <th>294884</th>\n      <td>2023-09-28 13:30:00.236</td>\n      <td>0.000071</td>\n      <td>0.000009</td>\n      <td>-0.000042</td>\n      <td>0.001171</td>\n      <td>-0.080195</td>\n      <td>0.029379</td>\n    </tr>\n    <tr>\n      <th>294885</th>\n      <td>2023-09-28 13:30:00.246</td>\n      <td>0.000071</td>\n      <td>0.000009</td>\n      <td>-0.000042</td>\n      <td>0.001171</td>\n      <td>-0.064009</td>\n      <td>0.029379</td>\n    </tr>\n    <tr>\n      <th>294886</th>\n      <td>2023-09-28 13:30:00.256</td>\n      <td>0.000071</td>\n      <td>0.000009</td>\n      <td>-0.000042</td>\n      <td>0.001171</td>\n      <td>-0.064009</td>\n      <td>0.029379</td>\n    </tr>\n  </tbody>\n</table>\n<p>294887 rows × 7 columns</p>\n</div>"
     },
     "execution_count": 21,
     "metadata": {},
     "output_type": "execute_result"
    }
   ],
   "source": [
    "imu_4_old"
   ],
   "metadata": {
    "collapsed": false,
    "ExecuteTime": {
     "end_time": "2024-06-07T13:22:33.890363Z",
     "start_time": "2024-06-07T13:22:33.883850Z"
    }
   },
   "id": "7abd1abccd2ea33d",
   "execution_count": 21
  },
  {
   "cell_type": "code",
   "outputs": [],
   "source": [
    "with open('../data/raw/4/1695905007621_accelerometer.bin', 'rb') as f:\n",
    "    imu_4_old = pickle.load(f)"
   ],
   "metadata": {
    "collapsed": false
   },
   "id": "71ac5eb4754c8b89"
  }
 ],
 "metadata": {
  "kernelspec": {
   "display_name": "Python 3",
   "language": "python",
   "name": "python3"
  },
  "language_info": {
   "codemirror_mode": {
    "name": "ipython",
    "version": 2
   },
   "file_extension": ".py",
   "mimetype": "text/x-python",
   "name": "python",
   "nbconvert_exporter": "python",
   "pygments_lexer": "ipython2",
   "version": "2.7.6"
  }
 },
 "nbformat": 4,
 "nbformat_minor": 5
}
