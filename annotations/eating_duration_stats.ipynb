{
 "cells": [
  {
   "cell_type": "markdown",
   "source": [
    "# BUGGY for subject 4 at least. verify and then make it for all subjects."
   ],
   "metadata": {
    "collapsed": false
   },
   "id": "bac9f7bb04801f3e"
  },
  {
   "cell_type": "code",
   "execution_count": 1,
   "id": "initial_id",
   "metadata": {
    "collapsed": true,
    "ExecuteTime": {
     "end_time": "2024-11-15T12:11:12.632512Z",
     "start_time": "2024-11-15T12:11:12.631014Z"
    }
   },
   "outputs": [],
   "source": [
    "import pandas as pd\n",
    "from datetime import datetime"
   ]
  },
  {
   "cell_type": "code",
   "outputs": [],
   "source": [
    "def load_imu_data(file_path):\n",
    "    imu_data = pd.read_pickle(file_path)\n",
    "    imu_data['t'] = pd.to_datetime(imu_data['t'])\n",
    "    return imu_data"
   ],
   "metadata": {
    "collapsed": false,
    "ExecuteTime": {
     "end_time": "2024-11-15T12:11:12.635324Z",
     "start_time": "2024-11-15T12:11:12.633358Z"
    }
   },
   "id": "f6c1cb3ffaa87060",
   "execution_count": 2
  },
  {
   "cell_type": "code",
   "outputs": [],
   "source": [
    "def extract_sync_times(json_data, subject_id):\n",
    "    subject_sync_info = next(item for item in json_data['sync_info'] if item['subject_id'] == subject_id)\n",
    "    imu_start_time = datetime.strptime(subject_sync_info['imu_start_time'], \"%H:%M:%S.%f\")\n",
    "    imu_clap_time = datetime.strptime(subject_sync_info['imu_clap_time'], \"%H:%M:%S.%f\")\n",
    "    return imu_start_time, imu_clap_time"
   ],
   "metadata": {
    "collapsed": false,
    "ExecuteTime": {
     "end_time": "2024-11-15T12:14:10.868999Z",
     "start_time": "2024-11-15T12:14:10.866679Z"
    }
   },
   "id": "353b6c34ef6f818e",
   "execution_count": 8
  },
  {
   "cell_type": "code",
   "outputs": [],
   "source": [
    "def align_clap_time(imu_data, imu_clap_time):\n",
    "    imu_clap_dt_corrected = imu_data['t'].dt.normalize().iloc[0] + (\n",
    "        imu_clap_time - imu_clap_time.replace(hour=0, minute=0, second=0, microsecond=0)\n",
    "    )\n",
    "    return imu_clap_dt_corrected"
   ],
   "metadata": {
    "collapsed": false,
    "ExecuteTime": {
     "end_time": "2024-11-15T12:11:45.534456Z",
     "start_time": "2024-11-15T12:11:45.532308Z"
    }
   },
   "id": "8db3114187d9a4cd",
   "execution_count": 4
  },
  {
   "cell_type": "code",
   "outputs": [],
   "source": [
    "def calculate_durations(imu_data, imu_clap_dt_corrected):\n",
    "    imu_start_actual = imu_data['t'].iloc[0]\n",
    "    imu_end_actual = imu_data['t'].iloc[-1]\n",
    "    \n",
    "    if imu_start_actual <= imu_clap_dt_corrected <= imu_end_actual:\n",
    "        imu_data_after_clap = imu_data[imu_data['t'] >= imu_clap_dt_corrected]\n",
    "        eating_duration = (imu_data_after_clap['t'].iloc[-1] - imu_clap_dt_corrected).total_seconds()\n",
    "        total_duration = (imu_end_actual - imu_start_actual).total_seconds()\n",
    "        eating_percentage = (eating_duration / total_duration) * 100\n",
    "    else:\n",
    "        eating_duration = 0\n",
    "        total_duration = (imu_end_actual - imu_start_actual).total_seconds()\n",
    "        eating_percentage = 0\n",
    "    \n",
    "    return eating_duration, total_duration, eating_percentage\n"
   ],
   "metadata": {
    "collapsed": false,
    "ExecuteTime": {
     "end_time": "2024-11-15T12:12:05.479151Z",
     "start_time": "2024-11-15T12:12:05.476114Z"
    }
   },
   "id": "1e018db83603d13d",
   "execution_count": 6
  },
  {
   "cell_type": "code",
   "outputs": [],
   "source": [
    "def process_all_subjects(json_file_path, subject_ids):\n",
    "    results = []\n",
    "    total_eating_duration = 0\n",
    "    total_duration = 0\n",
    "    \n",
    "    # Load JSON data\n",
    "    with open(json_file_path, 'r') as f:\n",
    "        json_data = pd.read_json(f)\n",
    "    \n",
    "    # Loop through each subject\n",
    "    for subject_id in subject_ids:\n",
    "        imu_file_path = f'../data/processed/{subject_id}/{subject_id}.pkl'\n",
    "        imu_data = load_imu_data(imu_file_path)\n",
    "        imu_start_time, imu_clap_time = extract_sync_times(json_data, subject_id)\n",
    "        imu_clap_dt_corrected = align_clap_time(imu_data, imu_clap_time)\n",
    "        eating_duration, duration, eating_percentage = calculate_durations(imu_data, imu_clap_dt_corrected)\n",
    "        \n",
    "        # Accumulate results\n",
    "        results.append({\n",
    "            \"Subject ID\": subject_id,\n",
    "            \"Eating Duration (seconds)\": eating_duration,\n",
    "            \"Total Duration (seconds)\": duration,\n",
    "            \"Percentage of Eating Duration\": eating_percentage\n",
    "        })\n",
    "        \n",
    "        total_eating_duration += eating_duration\n",
    "        total_duration += duration\n",
    "    \n",
    "    # Calculate overall percentage\n",
    "    overall_percentage = (total_eating_duration / total_duration) * 100 if total_duration > 0 else 0\n",
    "    overall_results = {\n",
    "        \"Total Eating Duration (seconds)\": total_eating_duration,\n",
    "        \"Total Duration (seconds)\": total_duration,\n",
    "        \"Overall Percentage of Eating Duration\": overall_percentage\n",
    "    }\n",
    "    \n",
    "    return results, overall_results"
   ],
   "metadata": {
    "collapsed": false,
    "ExecuteTime": {
     "end_time": "2024-11-15T12:18:11.667632Z",
     "start_time": "2024-11-15T12:18:11.663350Z"
    }
   },
   "id": "b785e24660757799",
   "execution_count": 19
  },
  {
   "cell_type": "code",
   "outputs": [
    {
     "name": "stdout",
     "output_type": "stream",
     "text": [
      "Subject-wise Results:\n",
      "{'Subject ID': '1_meal_2', 'Eating Duration (seconds)': 399.56, 'Total Duration (seconds)': 1043.04, 'Percentage of Eating Duration': 38.30725571406657}\n",
      "{'Subject ID': '4', 'Eating Duration (seconds)': 0.014999, 'Total Duration (seconds)': 2792.63, 'Percentage of Eating Duration': 0.0005370922750239022}\n",
      "{'Subject ID': '5', 'Eating Duration (seconds)': 931.83, 'Total Duration (seconds)': 2543.16, 'Percentage of Eating Duration': 36.640636059076115}\n",
      "{'Subject ID': '6', 'Eating Duration (seconds)': 290.54, 'Total Duration (seconds)': 1588.5, 'Percentage of Eating Duration': 18.290210890777463}\n",
      "{'Subject ID': '9', 'Eating Duration (seconds)': 378.67, 'Total Duration (seconds)': 451.0, 'Percentage of Eating Duration': 83.96230598669624}\n",
      "{'Subject ID': '14', 'Eating Duration (seconds)': 489.13, 'Total Duration (seconds)': 1145.76, 'Percentage of Eating Duration': 42.69044127915096}\n",
      "{'Subject ID': '17_meal_2', 'Eating Duration (seconds)': 506.94, 'Total Duration (seconds)': 1409.58, 'Percentage of Eating Duration': 35.96390414165922}\n",
      "{'Subject ID': '18', 'Eating Duration (seconds)': 764.81, 'Total Duration (seconds)': 1603.38, 'Percentage of Eating Duration': 47.69985904776159}\n",
      "{'Subject ID': '19', 'Eating Duration (seconds)': 244.7, 'Total Duration (seconds)': 829.27, 'Percentage of Eating Duration': 29.507880424952067}\n",
      "{'Subject ID': '20', 'Eating Duration (seconds)': 358.39, 'Total Duration (seconds)': 644.51, 'Percentage of Eating Duration': 55.606584847403454}\n",
      "\n",
      "Overall Results:\n",
      "{'Total Eating Duration (seconds)': 4364.584999, 'Total Duration (seconds)': 14050.83, 'Overall Percentage of Eating Duration': 31.06282688638322}\n"
     ]
    }
   ],
   "source": [
    "subject_ids = ['1_meal_2', '4', '5', '6', '9', '14', '17_meal_2', '18', '19', '20']\n",
    "json_file_path = 'time_sync.json'\n",
    "subject_results, overall_results = process_all_subjects(json_file_path, subject_ids)\n",
    "\n",
    "# Print Results\n",
    "print(\"Subject-wise Results:\")\n",
    "for result in subject_results:\n",
    "    print(result)\n",
    "\n",
    "print(\"\\nOverall Results:\")\n",
    "print(overall_results)"
   ],
   "metadata": {
    "collapsed": false,
    "ExecuteTime": {
     "end_time": "2024-11-15T12:18:12.491072Z",
     "start_time": "2024-11-15T12:18:12.334709Z"
    }
   },
   "id": "be9db578bf6504cf",
   "execution_count": 20
  },
  {
   "cell_type": "code",
   "outputs": [
    {
     "data": {
      "text/plain": "datetime.datetime(1900, 1, 1, 16, 13, 0, 902000)"
     },
     "execution_count": 10,
     "metadata": {},
     "output_type": "execute_result"
    }
   ],
   "source": [
    "imu_start_time"
   ],
   "metadata": {
    "collapsed": false,
    "ExecuteTime": {
     "end_time": "2024-11-15T12:14:22.518352Z",
     "start_time": "2024-11-15T12:14:22.510269Z"
    }
   },
   "id": "32e81c027ed32faf",
   "execution_count": 10
  },
  {
   "cell_type": "code",
   "outputs": [
    {
     "data": {
      "text/plain": "datetime.datetime(1900, 1, 1, 16, 23, 44, 382000)"
     },
     "execution_count": 11,
     "metadata": {},
     "output_type": "execute_result"
    }
   ],
   "source": [
    "imu_clap_time"
   ],
   "metadata": {
    "collapsed": false,
    "ExecuteTime": {
     "end_time": "2024-11-15T12:14:25.012442Z",
     "start_time": "2024-11-15T12:14:25.009812Z"
    }
   },
   "id": "ae98770aecd7ffe7",
   "execution_count": 11
  },
  {
   "cell_type": "code",
   "outputs": [
    {
     "data": {
      "text/plain": "Timestamp('2023-11-20 16:23:44.382000')"
     },
     "execution_count": 12,
     "metadata": {},
     "output_type": "execute_result"
    }
   ],
   "source": [
    "imu_clap_dt_corrected"
   ],
   "metadata": {
    "collapsed": false,
    "ExecuteTime": {
     "end_time": "2024-11-15T12:14:34.144128Z",
     "start_time": "2024-11-15T12:14:34.141507Z"
    }
   },
   "id": "c080e74e2b624f17",
   "execution_count": 12
  },
  {
   "cell_type": "code",
   "outputs": [
    {
     "data": {
      "text/plain": "399.56"
     },
     "execution_count": 13,
     "metadata": {},
     "output_type": "execute_result"
    }
   ],
   "source": [
    "eating_duration"
   ],
   "metadata": {
    "collapsed": false,
    "ExecuteTime": {
     "end_time": "2024-11-15T12:14:39.397535Z",
     "start_time": "2024-11-15T12:14:39.394869Z"
    }
   },
   "id": "e4beada822ba0554",
   "execution_count": 13
  },
  {
   "cell_type": "code",
   "outputs": [
    {
     "data": {
      "text/plain": "1043.04"
     },
     "execution_count": 14,
     "metadata": {},
     "output_type": "execute_result"
    }
   ],
   "source": [
    "total_duration"
   ],
   "metadata": {
    "collapsed": false,
    "ExecuteTime": {
     "end_time": "2024-11-15T12:14:43.604213Z",
     "start_time": "2024-11-15T12:14:43.601688Z"
    }
   },
   "id": "8f456262c06c9ba8",
   "execution_count": 14
  },
  {
   "cell_type": "code",
   "outputs": [
    {
     "data": {
      "text/plain": "38.30725571406657"
     },
     "execution_count": 15,
     "metadata": {},
     "output_type": "execute_result"
    }
   ],
   "source": [
    "eating_percentage"
   ],
   "metadata": {
    "collapsed": false,
    "ExecuteTime": {
     "end_time": "2024-11-15T12:14:49.250323Z",
     "start_time": "2024-11-15T12:14:49.246505Z"
    }
   },
   "id": "d76d8765dfb4de96",
   "execution_count": 15
  },
  {
   "cell_type": "code",
   "outputs": [],
   "source": [],
   "metadata": {
    "collapsed": false
   },
   "id": "a51ee18f015c37da"
  }
 ],
 "metadata": {
  "kernelspec": {
   "display_name": "Python 3",
   "language": "python",
   "name": "python3"
  },
  "language_info": {
   "codemirror_mode": {
    "name": "ipython",
    "version": 2
   },
   "file_extension": ".py",
   "mimetype": "text/x-python",
   "name": "python",
   "nbconvert_exporter": "python",
   "pygments_lexer": "ipython2",
   "version": "2.7.6"
  }
 },
 "nbformat": 4,
 "nbformat_minor": 5
}
