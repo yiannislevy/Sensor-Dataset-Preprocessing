{
 "cells": [
  {
   "cell_type": "code",
   "execution_count": null,
   "id": "initial_id",
   "metadata": {},
   "outputs": [],
   "source": [
    "%matplotlib notebook\n",
    "import pandas as pd\n",
    "import numpy as np\n",
    "import json\n",
    "import plotly.graph_objs as go\n",
    "from plotly.subplots import make_subplots\n",
    "\n",
    "from src.utils.tools import save_data\n",
    "from src.main.mando_data_io import load_raw_mando_data as load_weight\n",
    "from src.utils.mando_viz import plot_annotated_meal"
   ]
  },
  {
   "cell_type": "code",
   "execution_count": null,
   "id": "ea0327b250e84071",
   "metadata": {},
   "outputs": [],
   "source": [
    "def plot_weights_data(data):\n",
    "    fig = make_subplots(rows=2, cols=1, shared_xaxes=True)\n",
    "\n",
    "    # Raw data plot\n",
    "    fig.add_trace(go.Scatter(y=data, mode='lines', name='Raw Data', opacity=0.5, line=dict(color='green')), row=1, col=1)\n",
    "\n",
    "    # Update yaxis properties\n",
    "    fig.update_yaxes(title_text='Weight (grams)', row=1, col=1)\n",
    "\n",
    "    # Update titles with light mode theme color    \n",
    "    fig.update_layout(height=2500, width=2250, title_text='Raw Weight Data', template='plotly_white')\n",
    "\n",
    "    fig.show()"
   ]
  },
  {
   "cell_type": "code",
   "execution_count": null,
   "id": "186e56c30a06db42",
   "metadata": {},
   "outputs": [],
   "source": [
    "subject_id = 13\n",
    "path_to_weights = f\"../data/raw/{subject_id}\"\n",
    "weights = load_weight(path_to_weights)\n",
    "plot_weights_data(weights)"
   ]
  },
  {
   "cell_type": "code",
   "execution_count": null,
   "id": "19c415e41ef02457",
   "metadata": {},
   "outputs": [],
   "source": [
    "bite_weight_annotated = []"
   ]
  },
  {
   "cell_type": "code",
   "execution_count": null,
   "id": "1e5198889576d15c",
   "metadata": {},
   "outputs": [],
   "source": [
    "path_to_processed_data = f\"../data/processed/{subject_id}\"\n",
    "filename = f\"bite_weights_annotated_{subject_id}\"\n",
    "save_data(np.array(bite_weight_annotated), processed_data_directory=path_to_processed_data, filename=filename)"
   ]
  },
  {
   "cell_type": "code",
   "execution_count": null,
   "id": "ec917af0ca5bc7b3",
   "metadata": {},
   "outputs": [],
   "source": [
    "# # plot the processed manually mando data\n",
    "# with open('../annotations/processed_micromovements/subject_1.json') as f:\n",
    "#     data = json.load(f)\n",
    "# plot_annotated_meal(data)"
   ]
  }
 ],
 "metadata": {
  "kernelspec": {
   "display_name": "Python 3 (ipykernel)",
   "language": "python",
   "name": "python3"
  },
  "language_info": {
   "codemirror_mode": {
    "name": "ipython",
    "version": 3
   },
   "file_extension": ".py",
   "mimetype": "text/x-python",
   "name": "python",
   "nbconvert_exporter": "python",
   "pygments_lexer": "ipython3",
   "version": "3.11.0"
  }
 },
 "nbformat": 4,
 "nbformat_minor": 5
}
