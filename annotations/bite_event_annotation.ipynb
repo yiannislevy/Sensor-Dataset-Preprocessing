{
 "cells": [
  {
   "cell_type": "markdown",
   "source": [
    "# Load annotated bite events from ELAN and transform to json and pickle files"
   ],
   "metadata": {
    "collapsed": false
   },
   "id": "340e27b889e76767"
  },
  {
   "cell_type": "code",
   "execution_count": null,
   "id": "initial_id",
   "metadata": {
    "collapsed": true
   },
   "outputs": [],
   "source": [
    "%matplotlib notebook\n",
    "import json\n",
    "import numpy as np\n",
    "import pickle\n",
    "from datetime import datetime, timedelta\n",
    "import pandas as pd\n",
    "from src.utils.tools import save_data"
   ]
  },
  {
   "cell_type": "code",
   "outputs": [],
   "source": [
    "subject_id = 19\n",
    "filename = f\"annotated_bite_events_weights_{subject_id}\"\n",
    "annotation_file_path = f'processed_events/bites/{subject_id}/{filename}'\n",
    "processed_file_path = f\"../data/processed/{subject_id}/\""
   ],
   "metadata": {
    "collapsed": false
   },
   "id": "6129e4565951a955",
   "execution_count": null
  },
  {
   "cell_type": "code",
   "outputs": [],
   "source": [
    "annotated_bite_events_weights = {\n",
    "    \"subject_id\": subject_id,\n",
    "    \"bites\": []\n",
    "}"
   ],
   "metadata": {
    "collapsed": false
   },
   "id": "62662254ba11bc05",
   "execution_count": null
  },
  {
   "cell_type": "code",
   "outputs": [],
   "source": [
    "bite_gt = []\n",
    "weight_gt = []"
   ],
   "metadata": {
    "collapsed": false
   },
   "id": "6abcbf42a83ed83b",
   "execution_count": null
  },
  {
   "cell_type": "code",
   "outputs": [],
   "source": [
    "with open(annotation_file_path+'.txt', 'r') as file:\n",
    "    for bite_id, line in enumerate(file, start=1):\n",
    "        # Split the line into components\n",
    "        parts = line.strip().split('\\t')\n",
    "\n",
    "        # Extract the relevant information\n",
    "        _, _, _, start_seconds, _, end_seconds, _, duration_seconds, weight = parts\n",
    "        \n",
    "        # Check if weight is 'None' and set accordingly\n",
    "        weight = None if weight == 'None' else int(weight)\n",
    "\n",
    "        # Create a structured dictionary for the current event\n",
    "        bite_event = {\n",
    "            \"bite_id\": bite_id,\n",
    "            \"start_seconds\": float(start_seconds),\n",
    "            \"end_seconds\": float(end_seconds),\n",
    "            \"duration_seconds\": float(duration_seconds),\n",
    "            \"weight\": weight,\n",
    "        }\n",
    "\n",
    "        # Append the structured dictionary to the bites list\n",
    "        annotated_bite_events_weights[\"bites\"].append(bite_event)\n",
    "\n",
    "        bite_gt.append((start_seconds, end_seconds))\n",
    "        weight_gt.append(weight)"
   ],
   "metadata": {
    "collapsed": false
   },
   "id": "2e042230d3421c9d",
   "execution_count": null
  },
  {
   "cell_type": "code",
   "outputs": [],
   "source": [
    "json_output = json.dumps(annotated_bite_events_weights, indent=4)\n",
    "bite_gt_np = np.array(bite_gt, dtype=float)\n",
    "weight_gt_np = np.array(weight_gt)"
   ],
   "metadata": {
    "collapsed": false
   },
   "id": "593354d8017b82d5",
   "execution_count": null
  },
  {
   "cell_type": "code",
   "outputs": [],
   "source": [
    "with open(annotation_file_path + '.json', 'w') as json_file:\n",
    "    json_file.write(json_output)"
   ],
   "metadata": {
    "collapsed": false
   },
   "id": "ac9093745f798141",
   "execution_count": null
  },
  {
   "cell_type": "code",
   "outputs": [],
   "source": [
    "save_data(bite_gt_np, processed_file_path, f'bite_gt_{subject_id}')\n",
    "save_data(weight_gt_np, processed_file_path,  f'weight_gt_{subject_id}')"
   ],
   "metadata": {
    "collapsed": false
   },
   "id": "d45df4ae171eb7b0",
   "execution_count": null
  },
  {
   "cell_type": "code",
   "outputs": [],
   "source": [
    "with open(f\"../data/processed/{subject_id}/bite_gt_{subject_id}.pkl\", \"rb\") as f:\n",
    "    test = pickle.load(f)"
   ],
   "metadata": {
    "collapsed": false
   },
   "id": "d326493d7667351b",
   "execution_count": null
  },
  {
   "cell_type": "code",
   "outputs": [],
   "source": [
    "test"
   ],
   "metadata": {
    "collapsed": false
   },
   "id": "367eeb996cbc0d0a",
   "execution_count": null
  },
  {
   "cell_type": "markdown",
   "source": [
    "next up: pair with mandometer weight data and combine"
   ],
   "metadata": {
    "collapsed": false
   },
   "id": "53e4c705f3062dbd"
  }
 ],
 "metadata": {
  "kernelspec": {
   "display_name": "Python 3",
   "language": "python",
   "name": "python3"
  },
  "language_info": {
   "codemirror_mode": {
    "name": "ipython",
    "version": 2
   },
   "file_extension": ".py",
   "mimetype": "text/x-python",
   "name": "python",
   "nbconvert_exporter": "python",
   "pygments_lexer": "ipython2",
   "version": "2.7.6"
  }
 },
 "nbformat": 4,
 "nbformat_minor": 5
}
