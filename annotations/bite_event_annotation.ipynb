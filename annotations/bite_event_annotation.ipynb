{
 "cells": [
  {
   "cell_type": "markdown",
   "source": [
    "# Load annotated bite events from ELAN and transform to json and pickle files"
   ],
   "metadata": {
    "collapsed": false
   },
   "id": "340e27b889e76767"
  },
  {
   "cell_type": "code",
   "execution_count": null,
   "id": "initial_id",
   "metadata": {
    "collapsed": true
   },
   "outputs": [],
   "source": [
    "%matplotlib notebook\n",
    "import json\n",
    "import numpy as np\n",
    "import pickle\n",
    "from datetime import datetime, timedelta\n",
    "import pandas as pd"
   ]
  },
  {
   "cell_type": "code",
   "outputs": [],
   "source": [
    "subject_id = None\n",
    "file_path = f'processed_micromovements/bites/{subject_id}/bite_events_{subject_id}.txt'"
   ],
   "metadata": {
    "collapsed": false
   },
   "id": "6129e4565951a955",
   "execution_count": null
  },
  {
   "cell_type": "code",
   "outputs": [],
   "source": [
    "data_structure_json = {\n",
    "    \"subject_id\": subject_id,\n",
    "    \"bites\": []\n",
    "}"
   ],
   "metadata": {
    "collapsed": false
   },
   "id": "62662254ba11bc05",
   "execution_count": null
  },
  {
   "cell_type": "code",
   "outputs": [],
   "source": [
    "temp_data_structure = []"
   ],
   "metadata": {
    "collapsed": false
   },
   "id": "6abcbf42a83ed83b",
   "execution_count": null
  },
  {
   "cell_type": "code",
   "outputs": [],
   "source": [
    "with open(file_path, 'r') as file:\n",
    "    for line in file:\n",
    "        # Split the line into components\n",
    "        parts = line.strip().split('\\t')\n",
    "\n",
    "        # Extract the relevant information\n",
    "        _, _, _, start_seconds, _, end_seconds, _, duration_seconds, bite_id = parts\n",
    "        bite_id = int(bite_id.split('_')[1])  # Extract and convert bite_id to integer\n",
    "\n",
    "        # Create a structured dictionary for the current event\n",
    "        bite_event = {\n",
    "            \"bite_id\": bite_id,\n",
    "            \"start_seconds\": float(start_seconds),\n",
    "            \"end_seconds\": float(end_seconds),\n",
    "            \"duration_seconds\": float(duration_seconds),\n",
    "        }\n",
    "\n",
    "        # Append the structured dictionary to the bites list\n",
    "        data_structure_json[\"bites\"].append(bite_event)\n",
    "\n",
    "        temp_data_structure.append((start_seconds, end_seconds))\n"
   ],
   "metadata": {
    "collapsed": false
   },
   "id": "2e042230d3421c9d",
   "execution_count": null
  },
  {
   "cell_type": "code",
   "outputs": [],
   "source": [
    "json_output = json.dumps(data_structure_json, indent=4)"
   ],
   "metadata": {
    "collapsed": false
   },
   "id": "593354d8017b82d5",
   "execution_count": null
  },
  {
   "cell_type": "code",
   "outputs": [],
   "source": [
    "output_file_path = file_path.replace('.txt', '.json')\n",
    "with open(output_file_path, 'w') as json_file:\n",
    "    json_file.write(json_output)"
   ],
   "metadata": {
    "collapsed": false
   },
   "id": "ac9093745f798141",
   "execution_count": null
  },
  {
   "cell_type": "code",
   "outputs": [],
   "source": [
    "data_structure_np = np.array(temp_data_structure, dtype=float)"
   ],
   "metadata": {
    "collapsed": false
   },
   "id": "c69564c0ac10e39d",
   "execution_count": null
  },
  {
   "cell_type": "code",
   "outputs": [],
   "source": [
    "pkl_file_path = file_path.replace('.txt', '.pkl')\n",
    "with open(pkl_file_path, 'wb') as pkl_file:\n",
    "    pickle.dump(data_structure_np, pkl_file)"
   ],
   "metadata": {
    "collapsed": false
   },
   "id": "f3b01dfc8d1e009f",
   "execution_count": null
  },
  {
   "cell_type": "code",
   "outputs": [],
   "source": [
    "with open(pkl_file_path, \"rb\") as f:\n",
    "    data = pickle.load(f)"
   ],
   "metadata": {
    "collapsed": false
   },
   "id": "f0c2a28f85131c21",
   "execution_count": null
  },
  {
   "cell_type": "code",
   "outputs": [],
   "source": [
    "data"
   ],
   "metadata": {
    "collapsed": false
   },
   "id": "d5099967208ca433",
   "execution_count": null
  },
  {
   "cell_type": "code",
   "outputs": [],
   "source": [],
   "metadata": {
    "collapsed": false
   },
   "id": "1c3188b6f358ba05"
  }
 ],
 "metadata": {
  "kernelspec": {
   "display_name": "Python 3",
   "language": "python",
   "name": "python3"
  },
  "language_info": {
   "codemirror_mode": {
    "name": "ipython",
    "version": 2
   },
   "file_extension": ".py",
   "mimetype": "text/x-python",
   "name": "python",
   "nbconvert_exporter": "python",
   "pygments_lexer": "ipython2",
   "version": "2.7.6"
  }
 },
 "nbformat": 4,
 "nbformat_minor": 5
}
